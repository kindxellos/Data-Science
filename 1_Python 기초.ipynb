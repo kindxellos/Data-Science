{
 "cells": [
  {
   "cell_type": "markdown",
   "metadata": {
    "id": "PZmmC8wZMabQ"
   },
   "source": [
    "# Python 기초 문법\n",
    "\n",
    "### 주요 내용\n",
    "\n",
    "1. int, str, 리스트 등 주요 객체 형식\n",
    "2. numpy를 활용한 행렬 연산\n",
    "3. pandas를 활용한 데이터 활용\n",
    "\n",
    "<br>\n",
    "\n",
    "### 목표\n",
    "1. int, str 등 객체 형식에 따라 적절한 메서드를 활용한다.\n",
    "2. 여러 개의 값을 리스트 형식 등으로 저장하고 활용한다.\n",
    "3. numpy와 pandas을 적절히 활용한다.\n",
    "\n",
    "\n",
    "<br>\n",
    "<hr>\n",
    "<br>"
   ]
  },
  {
   "cell_type": "markdown",
   "metadata": {
    "id": "Ko82w73yMabb"
   },
   "source": [
    "> Python은 개발 언어로 분석 중심의 언어가 아닙니다. 0에서 1을 만드는 개발과 달리 데이터 분석은 데이터라는 재료를 활용하기 때문에 방대한 Python 기초 문법을 모두 배워야하는 것은 아닙니다. 필요하고 중요한 내용 중심으로 살펴보겠습니다.\n",
    "\n",
    "\n",
    "<br>\n",
    "\n",
    "## 1. 형식의 이해\n",
    "\n",
    "\n",
    "\n",
    "<br>\n",
    "\n",
    "\n",
    "\n",
    "### 1.1. 숫자와 문자, 출력과 저장(할당)\n",
    "\n",
    "숫자는 그냥 입력하면 되고, 문자는 큰 따옴표나 작은 따옴표를 붙임  \n",
    "`print( )` 함수를 써서 출력하거나 `=`을 써서 값을 객체로 저장할 수도 있음"
   ]
  },
  {
   "cell_type": "code",
   "execution_count": 31,
   "metadata": {
    "id": "yworuhXSMabc"
   },
   "outputs": [
    {
     "data": {
      "text/plain": [
       "1.005859375"
      ]
     },
     "execution_count": 31,
     "metadata": {},
     "output_type": "execute_result"
    }
   ],
   "source": [
    "# 숫자와 연산\n",
    "    ## 마지막 결과만 출력\n",
    "    ## 중간 공백은 문제 없지만 시작 위치는 민감\n",
    "1+2*3/4\n",
    "\n",
    "1 + 2  * 3/  4**5"
   ]
  },
  {
   "cell_type": "code",
   "execution_count": 32,
   "metadata": {
    "id": "alM_afBnMabf"
   },
   "outputs": [
    {
     "data": {
      "text/plain": [
       "'삼성전자'"
      ]
     },
     "execution_count": 32,
     "metadata": {},
     "output_type": "execute_result"
    }
   ],
   "source": [
    "# 문자\n",
    "    ## 큰따옴표, 작은따옴표 차이 없음\n",
    "'삼성전자'"
   ]
  },
  {
   "cell_type": "code",
   "execution_count": null,
   "metadata": {
    "id": "zRhmFpJfMabf"
   },
   "outputs": [],
   "source": [
    "\"삼성전자\""
   ]
  },
  {
   "cell_type": "code",
   "execution_count": null,
   "metadata": {
    "id": "-AYGnrhyMabg"
   },
   "outputs": [],
   "source": [
    "# 할당(assign), 저장\n",
    "    ## '+' : 숫자 덧셈 연산, 문자열 결합\n",
    "a = '가나다'\n",
    "b = '라마바'\n",
    "a + b"
   ]
  },
  {
   "cell_type": "code",
   "execution_count": null,
   "metadata": {
    "id": "orLyKPuKMabg"
   },
   "outputs": [],
   "source": [
    "# type()으로 타입 확인하기\n",
    "type(1)"
   ]
  },
  {
   "cell_type": "code",
   "execution_count": null,
   "metadata": {
    "id": "RlxPeHxDMabh"
   },
   "outputs": [],
   "source": [
    "type('가')"
   ]
  },
  {
   "cell_type": "code",
   "execution_count": null,
   "metadata": {
    "id": "YH11zdUxMabi"
   },
   "outputs": [],
   "source": [
    "type(0.5)"
   ]
  },
  {
   "cell_type": "markdown",
   "metadata": {
    "id": "TbaIlWboMabi"
   },
   "source": [
    "#### [실습] x에 10.1을 저장하고, y에 101을 저장한 다음 더하기"
   ]
  },
  {
   "cell_type": "code",
   "execution_count": 1,
   "metadata": {
    "id": "B3zcjIzYMabi"
   },
   "outputs": [
    {
     "name": "stdout",
     "output_type": "stream",
     "text": [
      "111.1\n"
     ]
    }
   ],
   "source": [
    "x=10.1\n",
    "y=101\n",
    "z=x+y\n",
    "print(z)"
   ]
  },
  {
   "cell_type": "markdown",
   "metadata": {
    "id": "3fMrd8QOMabj"
   },
   "source": [
    "\n",
    "<br>\n",
    "\n",
    "### 1.2. 여러 값을 묶은 리스트(list)\n",
    "\n",
    "`1`, `'삼성'`처럼 하나의 값이 아니라 여러개의 값을 묶으면 수열, 문자열이 생성  \n",
    "Python에서는 **리스트(list)** 형식 등으로 수열, 문자열을 다룸  \n",
    "\n",
    "<br>\n",
    "\n",
    "#### 1.2.1. 대괄호([ ])를 활용한 리스트 생성"
   ]
  },
  {
   "cell_type": "code",
   "execution_count": 33,
   "metadata": {
    "id": "E7mZwOH3Mabj"
   },
   "outputs": [
    {
     "data": {
      "text/plain": [
       "[5000, 6000, 7000, 6000, 9000]"
      ]
     },
     "execution_count": 33,
     "metadata": {},
     "output_type": "execute_result"
    }
   ],
   "source": [
    "salary = [5000, 6000, 7000, 6000, 9000]\n",
    "salary"
   ]
  },
  {
   "cell_type": "code",
   "execution_count": 34,
   "metadata": {
    "id": "-MXIE7-NMabk"
   },
   "outputs": [
    {
     "data": {
      "text/plain": [
       "list"
      ]
     },
     "execution_count": 34,
     "metadata": {},
     "output_type": "execute_result"
    }
   ],
   "source": [
    "# 타입 확인 : list\n",
    "type(salary)"
   ]
  },
  {
   "cell_type": "code",
   "execution_count": 35,
   "metadata": {
    "id": "eRyWNuLTMabk"
   },
   "outputs": [
    {
     "data": {
      "text/plain": [
       "['회로설계', '반도체공정설계', '신호 및 시스템 설계', 'S/W개발', '영업마케팅', '경영지원', '생산관리']"
      ]
     },
     "execution_count": 35,
     "metadata": {},
     "output_type": "execute_result"
    }
   ],
   "source": [
    "# 문자열 리스트\n",
    "jobs = ['회로설계', '반도체공정설계', '신호 및 시스템 설계', 'S/W개발', '영업마케팅', '경영지원', '생산관리']\n",
    "jobs"
   ]
  },
  {
   "cell_type": "markdown",
   "metadata": {
    "id": "bkAkgiReMabk"
   },
   "source": [
    "#### [실습] 1~10까지 숫자 중에서 마음대로 3개 숫자 선택해서 리스트로 만들어 저장하기\n",
    "\n",
    "\n",
    "\n",
    "#### [실습] 점심/저녁 메뉴 3개를 리스트로 묶어 menu로 저장하기\n",
    "\n"
   ]
  },
  {
   "cell_type": "code",
   "execution_count": 39,
   "metadata": {
    "id": "1egKihncMq2D"
   },
   "outputs": [
    {
     "data": {
      "text/plain": [
       "[1, 5, 7]"
      ]
     },
     "execution_count": 39,
     "metadata": {},
     "output_type": "execute_result"
    }
   ],
   "source": [
    "ss=[1,5,7]\n",
    "ss"
   ]
  },
  {
   "cell_type": "code",
   "execution_count": 40,
   "metadata": {
    "id": "Aiy7SnjfMr_w"
   },
   "outputs": [
    {
     "data": {
      "text/plain": [
       "['보쌈', '김치', '카레']"
      ]
     },
     "execution_count": 40,
     "metadata": {},
     "output_type": "execute_result"
    }
   ],
   "source": [
    "menu=['보쌈', '김치', '카레']\n",
    "menu"
   ]
  },
  {
   "cell_type": "markdown",
   "metadata": {
    "id": "tnqfckyBMtNa"
   },
   "source": [
    "#### [참고] 위의 실습 내용을 Random 모듈을 활용해 임의로 선택하기  "
   ]
  },
  {
   "cell_type": "code",
   "execution_count": 41,
   "metadata": {
    "id": "wRqY4Vo2Mabk"
   },
   "outputs": [],
   "source": [
    "import random"
   ]
  },
  {
   "cell_type": "code",
   "execution_count": 23,
   "metadata": {
    "id": "vN9Lr1dMMabl"
   },
   "outputs": [
    {
     "data": {
      "text/plain": [
       "5"
      ]
     },
     "execution_count": 23,
     "metadata": {},
     "output_type": "execute_result"
    }
   ],
   "source": [
    "random.randrange(1,11)"
   ]
  },
  {
   "cell_type": "code",
   "execution_count": 6,
   "metadata": {
    "id": "zeKZBxkxMabl"
   },
   "outputs": [
    {
     "data": {
      "text/plain": [
       "[9, 7, 6]"
      ]
     },
     "execution_count": 6,
     "metadata": {},
     "output_type": "execute_result"
    }
   ],
   "source": [
    "[random.randrange(1,11),random.randrange(1,11),random.randrange(1,11)]"
   ]
  },
  {
   "cell_type": "code",
   "execution_count": 24,
   "metadata": {
    "id": "hrW78uTLMabl"
   },
   "outputs": [
    {
     "name": "stdout",
     "output_type": "stream",
     "text": [
      "['칼국수', '짜장면', '짜장면']\n"
     ]
    }
   ],
   "source": [
    "totalmenu = [\"짜장면\", \"돈까스\", \"제육볶음\", \"파스타\", \"감자탕\", \"생선구이\", \"칼국수\", \"비빔밥\", \"초밥\"]\n",
    "menu = [random.choice(totalmenu),\n",
    "        random.choice(totalmenu),\n",
    "        random.choice(totalmenu)]\n",
    "print(menu)"
   ]
  },
  {
   "cell_type": "markdown",
   "metadata": {
    "id": "M21hdnCnMabl"
   },
   "source": [
    "<br>\n",
    "\n",
    "#### 1.2.2. 리스트의 주요 메서드\n",
    "\n",
    "append( )는 리스트에 값을 추가"
   ]
  },
  {
   "cell_type": "code",
   "execution_count": 25,
   "metadata": {
    "id": "zQKecdioMabm"
   },
   "outputs": [
    {
     "data": {
      "text/plain": [
       "[5000, 6000, 7000, 6000, 9000]"
      ]
     },
     "execution_count": 25,
     "metadata": {},
     "output_type": "execute_result"
    }
   ],
   "source": [
    "# 더 이어 붙이기\n",
    "salary = [5000, 6000, 7000, 6000, 9000]\n",
    "salary"
   ]
  },
  {
   "cell_type": "code",
   "execution_count": null,
   "metadata": {
    "id": "JHc5_xvjMabm"
   },
   "outputs": [],
   "source": [
    "salary.append(10000)\n",
    "salary"
   ]
  },
  {
   "cell_type": "markdown",
   "metadata": {
    "id": "6KUkXKNGMabm"
   },
   "source": [
    "#### [실습] 관심있는 메뉴 3개를 묶은 menu에 append( )로 메뉴 하나 더 추가하기\n",
    "\n"
   ]
  },
  {
   "cell_type": "code",
   "execution_count": 9,
   "metadata": {
    "id": "yHg4f5GiMabm"
   },
   "outputs": [
    {
     "data": {
      "text/plain": [
       "[400, 100, 1200, 1300]"
      ]
     },
     "execution_count": 9,
     "metadata": {},
     "output_type": "execute_result"
    }
   ],
   "source": [
    "menu=[400,100,1200]\n",
    "menu.append(1300)\n",
    "menu"
   ]
  },
  {
   "cell_type": "markdown",
   "metadata": {
    "id": "hgxxcQo3Mabm"
   },
   "source": [
    "<br>\n",
    "\n",
    "#### 1.2.3. index의 활용   \n",
    "\n",
    "리스트를 만들 때 사용한 대괄호와 별개로, 만들어진 리스트에 대괄호 인덱스를 활용해서 부분을 선택\n",
    "\n"
   ]
  },
  {
   "cell_type": "code",
   "execution_count": 42,
   "metadata": {
    "id": "w25A3G2IMabm"
   },
   "outputs": [
    {
     "data": {
      "text/plain": [
       "5000"
      ]
     },
     "execution_count": 42,
     "metadata": {},
     "output_type": "execute_result"
    }
   ],
   "source": [
    "# 대괄호 index를 활용한 부분 선택\n",
    "    ## index는 0부터 시작 : 첫번째 값이 0\n",
    "    ## 콜론(:)을 활용해 연속적인 인덱스 지정 가능(슬라이싱), 끝 인덱스 미포함\n",
    "salary[0]"
   ]
  },
  {
   "cell_type": "code",
   "execution_count": 27,
   "metadata": {
    "id": "EqmHn-CrMabn"
   },
   "outputs": [
    {
     "data": {
      "text/plain": [
       "[5000, 6000]"
      ]
     },
     "execution_count": 27,
     "metadata": {},
     "output_type": "execute_result"
    }
   ],
   "source": [
    "salary[0:2]\n",
    "# salary[:2] # 처음부터 2까지\n",
    "# salary[2:] # 2부터 끝까지"
   ]
  },
  {
   "cell_type": "code",
   "execution_count": 28,
   "metadata": {
    "id": "py0_x1ZRMabn"
   },
   "outputs": [
    {
     "data": {
      "text/plain": [
       "[50000, 6000, 7000, 6000, 9000]"
      ]
     },
     "execution_count": 28,
     "metadata": {},
     "output_type": "execute_result"
    }
   ],
   "source": [
    "# 인덱스를 활용한 업데이트\n",
    "salary[0] = 50000\n",
    "salary"
   ]
  },
  {
   "cell_type": "markdown",
   "metadata": {
    "id": "eZSUw73PMabn"
   },
   "source": [
    "#### [실습] menu에서 첫번째 메뉴만 선택\n",
    "\n",
    "\n",
    "#### [실습] menu에서 세번째 메뉴를 '우동'으로 변경\n",
    "\n"
   ]
  },
  {
   "cell_type": "code",
   "execution_count": 10,
   "metadata": {
    "id": "wQQAwh6FMabn"
   },
   "outputs": [
    {
     "data": {
      "text/plain": [
       "[400, 100, '우동', 1300]"
      ]
     },
     "execution_count": 10,
     "metadata": {},
     "output_type": "execute_result"
    }
   ],
   "source": [
    "menu[0]\n",
    "menu[2]='우동'\n",
    "menu"
   ]
  },
  {
   "cell_type": "code",
   "execution_count": null,
   "metadata": {
    "id": "EBQ-qT6LMabn"
   },
   "outputs": [],
   "source": []
  },
  {
   "cell_type": "markdown",
   "metadata": {
    "id": "eJyyztadMabo"
   },
   "source": [
    "\n",
    "<br>\n",
    "\n",
    "#### 1.2.4. range( )를 활용한 수열 만들기\n",
    "\n",
    "연속적인 수열을 만들 때는 `range( )`를 활용\n"
   ]
  },
  {
   "cell_type": "code",
   "execution_count": 10,
   "metadata": {
    "id": "qeSky5_uMabp"
   },
   "outputs": [
    {
     "data": {
      "text/plain": [
       "range(0, 10)"
      ]
     },
     "execution_count": 10,
     "metadata": {},
     "output_type": "execute_result"
    }
   ],
   "source": [
    "# 0부터 시작하는 range\n",
    "range(10)"
   ]
  },
  {
   "cell_type": "code",
   "execution_count": 11,
   "metadata": {
    "id": "NM90JqBwMabq"
   },
   "outputs": [
    {
     "data": {
      "text/plain": [
       "[0, 1, 2, 3, 4, 5, 6, 7, 8, 9]"
      ]
     },
     "execution_count": 11,
     "metadata": {},
     "output_type": "execute_result"
    }
   ],
   "source": [
    "# range( )와 list( )를 활용한 수열 생성\n",
    "list(range(10))"
   ]
  },
  {
   "cell_type": "code",
   "execution_count": 6,
   "metadata": {
    "id": "SRlECELsMabq"
   },
   "outputs": [
    {
     "data": {
      "text/plain": [
       "[1, 2, 3, 4, 5, 6, 7, 8, 9, 10, 11, 12, 13, 14, 15, 16, 17, 18, 19]"
      ]
     },
     "execution_count": 6,
     "metadata": {},
     "output_type": "execute_result"
    }
   ],
   "source": [
    "list(range(1, 20))\n",
    "    ## 1부터 20 바로 앞 19까지"
   ]
  },
  {
   "cell_type": "code",
   "execution_count": 7,
   "metadata": {
    "id": "VehSGY-gMabq"
   },
   "outputs": [
    {
     "data": {
      "text/plain": [
       "[1, 4, 7, 10, 13, 16, 19]"
      ]
     },
     "execution_count": 7,
     "metadata": {},
     "output_type": "execute_result"
    }
   ],
   "source": [
    "list(range(1, 20, 3))\n",
    "    ## 1부터 19까지 3간격"
   ]
  },
  {
   "cell_type": "markdown",
   "metadata": {
    "id": "OY52xMW6Mabq"
   },
   "source": [
    "<br>\n",
    "\n",
    "#### [실습] range( )와 list( )로 2013부터 2022까지 10개 연도 만들기\n",
    "\n",
    "\n"
   ]
  },
  {
   "cell_type": "code",
   "execution_count": 13,
   "metadata": {
    "id": "SPfaeD3TMabw"
   },
   "outputs": [
    {
     "data": {
      "text/plain": [
       "[2013, 2014, 2015, 2016, 2017, 2018, 2019, 2020, 2021, 2022]"
      ]
     },
     "execution_count": 13,
     "metadata": {},
     "output_type": "execute_result"
    }
   ],
   "source": [
    "range(2013,2023,1)\n",
    "list(range(2013,2023,1))"
   ]
  },
  {
   "cell_type": "code",
   "execution_count": null,
   "metadata": {
    "id": "fnqtjIDOMabw"
   },
   "outputs": [],
   "source": [
    "### 1.3. for 반복문 예제"
   ]
  },
  {
   "cell_type": "code",
   "execution_count": 9,
   "metadata": {
    "id": "fdo6aBx7Mabw"
   },
   "outputs": [
    {
     "name": "stdout",
     "output_type": "stream",
     "text": [
      "1번째 값은 11\n",
      "2번째 값은 12\n",
      "3번째 값은 13\n",
      "4번째 값은 14\n",
      "5번째 값은 15\n",
      "6번째 값은 16\n",
      "7번째 값은 17\n",
      "8번째 값은 18\n",
      "9번째 값은 19\n",
      "10번째 값은 20\n"
     ]
    }
   ],
   "source": [
    "# 간단한 for loop 예제\n",
    "count = 0 # 데이터를 담을 변수를 먼저 생성\n",
    "\n",
    "for i in [11,12,13,14,15,16,17,18,19, 20]:\n",
    "    count += 1 ## 반복할 때마다 1씩 증가\n",
    "    print(str(count) + '번째 값은 '+ str(i))"
   ]
  },
  {
   "cell_type": "markdown",
   "metadata": {
    "id": "14j7HOXYMabw"
   },
   "source": [
    "\n",
    "<br>\n",
    "\n",
    "#### [같이 실습] 위의 for 반복문에서 반복횟수를 range( ) 함수를 이용해서 정의하기"
   ]
  },
  {
   "cell_type": "code",
   "execution_count": 14,
   "metadata": {
    "id": "dSx8TKZKMabw"
   },
   "outputs": [
    {
     "name": "stdout",
     "output_type": "stream",
     "text": [
      "1번째 값은 11\n",
      "2번째 값은 12\n",
      "3번째 값은 13\n",
      "4번째 값은 14\n",
      "5번째 값은 15\n",
      "6번째 값은 16\n",
      "7번째 값은 17\n",
      "8번째 값은 18\n",
      "9번째 값은 19\n",
      "10번째 값은 20\n"
     ]
    }
   ],
   "source": [
    "count = 0 # 데이터를 담을 변수를 먼저 생성\n",
    "\n",
    "for i in range(11, 21):\n",
    "    count += 1 ## 반복할 때마다 1씩 증가\n",
    "    print(str(count) + '번째 값은 '+ str(i))"
   ]
  },
  {
   "cell_type": "code",
   "execution_count": 15,
   "metadata": {
    "id": "iXaUbSzMMabx"
   },
   "outputs": [
    {
     "data": {
      "text/plain": [
       "[11, 12, 13, 14, 15, 16, 17, 18, 19, 20]"
      ]
     },
     "execution_count": 15,
     "metadata": {},
     "output_type": "execute_result"
    }
   ],
   "source": [
    "countlist = [] # 데이터를 담을 변수를 먼저 생성\n",
    "\n",
    "for i in range(11, 21):\n",
    "    countlist.append (i) ## 반복할 때마다 i값을 countlist에 추가\n",
    "\n",
    "countlist"
   ]
  },
  {
   "cell_type": "markdown",
   "metadata": {
    "id": "4Cuwfl8DMabx"
   },
   "source": [
    "<br>\n",
    "<br>\n",
    "<br>\n",
    "\n",
    "\n",
    "## 2. numpy의 활용\n",
    "\n",
    "**numpy**는 *ndarray*라는 형식을 활용해서 다양한 행렬 연산과 처리를 지원\n",
    "\n",
    "\n",
    "### 2.1. ndarray 생성"
   ]
  },
  {
   "cell_type": "code",
   "execution_count": 19,
   "metadata": {
    "id": "Kg1OXnePMabx"
   },
   "outputs": [],
   "source": [
    "import numpy as np"
   ]
  },
  {
   "cell_type": "code",
   "execution_count": 20,
   "metadata": {
    "id": "mLL-G419Maby"
   },
   "outputs": [
    {
     "data": {
      "text/plain": [
       "array([1, 2, 4, 8])"
      ]
     },
     "execution_count": 20,
     "metadata": {},
     "output_type": "execute_result"
    }
   ],
   "source": [
    "# 리스트 형식을 ndarray 형식으로 변환하기\n",
    "x = [1, 2, 4, 8]\n",
    "y = np.array(x)\n",
    "y"
   ]
  },
  {
   "cell_type": "code",
   "execution_count": 21,
   "metadata": {
    "id": "39RaaEzZMaby"
   },
   "outputs": [
    {
     "data": {
      "text/plain": [
       "numpy.ndarray"
      ]
     },
     "execution_count": 21,
     "metadata": {},
     "output_type": "execute_result"
    }
   ],
   "source": [
    "# 형식 확인\n",
    "type(y)"
   ]
  },
  {
   "cell_type": "code",
   "execution_count": 22,
   "metadata": {
    "id": "CjtBuYXrMaby"
   },
   "outputs": [
    {
     "data": {
      "text/plain": [
       "array([ 0. ,  0.1,  0.2,  0.3,  0.4,  0.5,  0.6,  0.7,  0.8,  0.9,  1. ,\n",
       "        1.1,  1.2,  1.3,  1.4,  1.5,  1.6,  1.7,  1.8,  1.9,  2. ,  2.1,\n",
       "        2.2,  2.3,  2.4,  2.5,  2.6,  2.7,  2.8,  2.9,  3. ,  3.1,  3.2,\n",
       "        3.3,  3.4,  3.5,  3.6,  3.7,  3.8,  3.9,  4. ,  4.1,  4.2,  4.3,\n",
       "        4.4,  4.5,  4.6,  4.7,  4.8,  4.9,  5. ,  5.1,  5.2,  5.3,  5.4,\n",
       "        5.5,  5.6,  5.7,  5.8,  5.9,  6. ,  6.1,  6.2,  6.3,  6.4,  6.5,\n",
       "        6.6,  6.7,  6.8,  6.9,  7. ,  7.1,  7.2,  7.3,  7.4,  7.5,  7.6,\n",
       "        7.7,  7.8,  7.9,  8. ,  8.1,  8.2,  8.3,  8.4,  8.5,  8.6,  8.7,\n",
       "        8.8,  8.9,  9. ,  9.1,  9.2,  9.3,  9.4,  9.5,  9.6,  9.7,  9.8,\n",
       "        9.9, 10. ])"
      ]
     },
     "execution_count": 22,
     "metadata": {},
     "output_type": "execute_result"
    }
   ],
   "source": [
    "# 수열 생성\n",
    "    ## 0부터 10까지 101개 숫자\n",
    "np.linspace(0, 10, 101)"
   ]
  },
  {
   "cell_type": "code",
   "execution_count": 23,
   "metadata": {
    "id": "ic0ATQFZMaby"
   },
   "outputs": [
    {
     "data": {
      "text/plain": [
       "array([ 3, 19, 37, 43, 28, 34])"
      ]
     },
     "execution_count": 23,
     "metadata": {},
     "output_type": "execute_result"
    }
   ],
   "source": [
    "# 랜덤 숫자 뽑기\n",
    "np.random.randint(1, 46, 6)"
   ]
  },
  {
   "cell_type": "code",
   "execution_count": 24,
   "metadata": {
    "id": "qnoKP5d-Mabz"
   },
   "outputs": [
    {
     "data": {
      "text/plain": [
       "(array([[1, 2, 3, 4],\n",
       "        [9, 8, 7, 6]]),\n",
       " array([[0, 1],\n",
       "        [1, 0]]))"
      ]
     },
     "execution_count": 24,
     "metadata": {},
     "output_type": "execute_result"
    }
   ],
   "source": [
    "# 중첩(nested) 리스트를 활용한 다차원 행렬 만들기\n",
    "y2 = np.array([ [1,2,3,4], [9,8,7,6] ])\n",
    "y3 = np.array([ [0, 1], [1, 0] ])\n",
    "\n",
    "y2, y3"
   ]
  },
  {
   "cell_type": "code",
   "execution_count": 25,
   "metadata": {
    "id": "zHhmQ1b9Mabz"
   },
   "outputs": [
    {
     "data": {
      "text/plain": [
       "(2, 4)"
      ]
     },
     "execution_count": 25,
     "metadata": {},
     "output_type": "execute_result"
    }
   ],
   "source": [
    "# 행렬 크기 확인\n",
    "y2.shape\n",
    "    ## 2x4, 2행 4열, 2개 관측치 4개 변수"
   ]
  },
  {
   "cell_type": "markdown",
   "metadata": {
    "id": "S4j9d0wjMabz"
   },
   "source": [
    "<br>\n",
    "\n",
    "### 2.2. ndarray와 연산\n",
    "\n",
    "numpy에는 ndarray에 적용할 수 있는 다양한 연산자와 함수가 준비되어 있음"
   ]
  },
  {
   "cell_type": "code",
   "execution_count": 27,
   "metadata": {
    "id": "Z6HiVC8iMab0"
   },
   "outputs": [
    {
     "data": {
      "text/plain": [
       "array([[ 3,  5,  7,  9],\n",
       "       [19, 17, 15, 13]])"
      ]
     },
     "execution_count": 27,
     "metadata": {},
     "output_type": "execute_result"
    }
   ],
   "source": [
    "# 산술 연산\n",
    "y2 * 2 + 1"
   ]
  },
  {
   "cell_type": "code",
   "execution_count": 28,
   "metadata": {
    "id": "24RODtFwMab0"
   },
   "outputs": [
    {
     "data": {
      "text/plain": [
       "array([[9, 8, 7, 6],\n",
       "       [1, 2, 3, 4]])"
      ]
     },
     "execution_count": 28,
     "metadata": {},
     "output_type": "execute_result"
    }
   ],
   "source": [
    "# 행렬 곱\n",
    "y3@y2"
   ]
  },
  {
   "cell_type": "code",
   "execution_count": 29,
   "metadata": {
    "id": "1fgPFhOUMab1"
   },
   "outputs": [
    {
     "data": {
      "text/plain": [
       "40"
      ]
     },
     "execution_count": 29,
     "metadata": {},
     "output_type": "execute_result"
    }
   ],
   "source": [
    "# 전체 합계\n",
    "np.sum(y2)"
   ]
  },
  {
   "cell_type": "code",
   "execution_count": 30,
   "metadata": {
    "id": "U9CRzpvvMab1"
   },
   "outputs": [
    {
     "data": {
      "text/plain": [
       "array([10, 10, 10, 10])"
      ]
     },
     "execution_count": 30,
     "metadata": {},
     "output_type": "execute_result"
    }
   ],
   "source": [
    "# 열 합계\n",
    "np.sum(y2, axis=0)"
   ]
  },
  {
   "cell_type": "code",
   "execution_count": 31,
   "metadata": {
    "id": "_nO5or1FMab2"
   },
   "outputs": [
    {
     "data": {
      "text/plain": [
       "array([2.5, 7.5])"
      ]
     },
     "execution_count": 31,
     "metadata": {},
     "output_type": "execute_result"
    }
   ],
   "source": [
    "# 행 평균\n",
    "np.mean(y2, axis=1)"
   ]
  },
  {
   "cell_type": "markdown",
   "metadata": {
    "id": "429ghprWMab2"
   },
   "source": [
    "<br>\n",
    "\n",
    "### 2.3. 부분 선택\n",
    "대괄호 인덱스를 활용하여 ndarray에서 일부를 선택할 수 있습니다."
   ]
  },
  {
   "cell_type": "code",
   "execution_count": 32,
   "metadata": {
    "id": "OBjAGIqHMab2"
   },
   "outputs": [
    {
     "data": {
      "text/plain": [
       "array([1, 2, 4, 8])"
      ]
     },
     "execution_count": 32,
     "metadata": {},
     "output_type": "execute_result"
    }
   ],
   "source": [
    "y"
   ]
  },
  {
   "cell_type": "code",
   "execution_count": 33,
   "metadata": {
    "id": "66-YH47GMab3"
   },
   "outputs": [
    {
     "data": {
      "text/plain": [
       "2"
      ]
     },
     "execution_count": 33,
     "metadata": {},
     "output_type": "execute_result"
    }
   ],
   "source": [
    "# 특정 인덱스 선택\n",
    "y[1]"
   ]
  },
  {
   "cell_type": "code",
   "execution_count": 34,
   "metadata": {
    "id": "11qTZ2XQMab3"
   },
   "outputs": [
    {
     "data": {
      "text/plain": [
       "array([2, 4, 8])"
      ]
     },
     "execution_count": 34,
     "metadata": {},
     "output_type": "execute_result"
    }
   ],
   "source": [
    "# 슬라이스 활용\n",
    "y[1:]"
   ]
  },
  {
   "cell_type": "code",
   "execution_count": 35,
   "metadata": {
    "id": "O_WyMmsvMab4"
   },
   "outputs": [
    {
     "data": {
      "text/plain": [
       "array([1, 2])"
      ]
     },
     "execution_count": 35,
     "metadata": {},
     "output_type": "execute_result"
    }
   ],
   "source": [
    "y[:2]"
   ]
  },
  {
   "cell_type": "code",
   "execution_count": 36,
   "metadata": {
    "id": "jLO1EDs0Mab5"
   },
   "outputs": [
    {
     "data": {
      "text/plain": [
       "array([1, 2, 4])"
      ]
     },
     "execution_count": 36,
     "metadata": {},
     "output_type": "execute_result"
    }
   ],
   "source": [
    "y[:-1]"
   ]
  },
  {
   "cell_type": "code",
   "execution_count": 37,
   "metadata": {
    "id": "-qZrM2TRMab5"
   },
   "outputs": [
    {
     "data": {
      "text/plain": [
       "array([[1, 2, 3, 4],\n",
       "       [9, 8, 7, 6]])"
      ]
     },
     "execution_count": 37,
     "metadata": {},
     "output_type": "execute_result"
    }
   ],
   "source": [
    "# 다차원 행렬의 부분 선택\n",
    "    # 콤마 앞은 행, 뒤는 열\n",
    "y2[:, :]"
   ]
  },
  {
   "cell_type": "code",
   "execution_count": 38,
   "metadata": {
    "id": "H7fiVY0GMab6"
   },
   "outputs": [
    {
     "data": {
      "text/plain": [
       "array([8, 7])"
      ]
     },
     "execution_count": 38,
     "metadata": {},
     "output_type": "execute_result"
    }
   ],
   "source": [
    "y2[1, 1:3]"
   ]
  },
  {
   "cell_type": "markdown",
   "metadata": {
    "id": "JbmBEYXqMab6"
   },
   "source": [
    "<br>\n",
    "\n",
    "#### [실습] 행렬 생성 및 연산\n",
    "1. 아래의 행렬을 만들고 *mat*으로 저장하기\n",
    "\n",
    "$$\\begin{bmatrix} 1 & 2 & 1 \\\\ 3 & 0 & 1 \\\\ 0 & 2 & 4 \\\\ 2 & 1 & 1 \\end{bmatrix}$$\n",
    "\n",
    "2. `np.max()`을 활용해서 *mat*에서 전체 최댓값 계산하기\n",
    "\n",
    "3. `np.mean()`을 활용해서 *mat*에서 행 평균 계산하기\n",
    "\n",
    "4. 첫번째부터 세번째 행의 두번째 열 선택\n"
   ]
  },
  {
   "cell_type": "code",
   "execution_count": 39,
   "metadata": {
    "id": "WrRnqLu_Mab7"
   },
   "outputs": [
    {
     "data": {
      "text/plain": [
       "array([[1, 2, 1],\n",
       "       [3, 0, 1],\n",
       "       [0, 2, 4],\n",
       "       [2, 1, 1]])"
      ]
     },
     "execution_count": 39,
     "metadata": {},
     "output_type": "execute_result"
    }
   ],
   "source": [
    "mat = np.array([[1,2,1],\n",
    "                [3,0,1],\n",
    "                [0,2,4],\n",
    "                [2,1,1]])\n",
    "mat"
   ]
  },
  {
   "cell_type": "code",
   "execution_count": 40,
   "metadata": {
    "id": "uC3BCRQGMab7"
   },
   "outputs": [
    {
     "data": {
      "text/plain": [
       "4"
      ]
     },
     "execution_count": 40,
     "metadata": {},
     "output_type": "execute_result"
    }
   ],
   "source": [
    "# 2. np.max()을 활용해서 mat에서 전체 최댓값 계산하기\n",
    "np.max(mat)"
   ]
  },
  {
   "cell_type": "code",
   "execution_count": 42,
   "metadata": {
    "id": "K6Bmz5mGMab7"
   },
   "outputs": [
    {
     "data": {
      "text/plain": [
       "array([1.33333333, 1.33333333, 2.        , 1.33333333])"
      ]
     },
     "execution_count": 42,
     "metadata": {},
     "output_type": "execute_result"
    }
   ],
   "source": [
    "# 3. np.mean()을 활용해서 mat에서 행 평균 계산하기\n",
    "np.mean(mat, axis=1)"
   ]
  },
  {
   "cell_type": "code",
   "execution_count": 43,
   "metadata": {
    "id": "7_Sxg4AtMab8"
   },
   "outputs": [
    {
     "data": {
      "text/plain": [
       "array([2, 0, 2])"
      ]
     },
     "execution_count": 43,
     "metadata": {},
     "output_type": "execute_result"
    }
   ],
   "source": [
    "# 4. 첫번째부터 세번째 행의 두번째 열 선택\n",
    "mat[0:3, 1]"
   ]
  },
  {
   "cell_type": "markdown",
   "metadata": {
    "id": "6c9jlnLkMab9"
   },
   "source": [
    "### 2.4. 길이와 거리 계산\n",
    "\n",
    "ndarray를 활용해서 길이나 관측치 간 거리를 계산 가능"
   ]
  },
  {
   "cell_type": "code",
   "execution_count": null,
   "metadata": {
    "id": "z82q0RdmMab9"
   },
   "outputs": [],
   "source": [
    "a = np.array([1,3])\n",
    "b = np.array([4,3])"
   ]
  },
  {
   "cell_type": "code",
   "execution_count": null,
   "metadata": {
    "id": "yq_TiEGAMab-"
   },
   "outputs": [],
   "source": [
    "# 벡터의 길이(norm) 계산\n",
    "# linalg : linear algebra\n",
    "np.linalg.norm(a), np.linalg.norm(b)"
   ]
  },
  {
   "cell_type": "code",
   "execution_count": null,
   "metadata": {
    "id": "wDDtDHdyMab-",
    "scrolled": true
   },
   "outputs": [],
   "source": [
    "# 거리 계산\n",
    "print(np.linalg.norm(a-b))"
   ]
  },
  {
   "cell_type": "markdown",
   "metadata": {
    "id": "7877yXNVMab-"
   },
   "source": [
    "<br>\n",
    "<br>\n",
    "<br>\n",
    "\n",
    "## 3. pandas의 활용\n",
    "\n",
    "**pandas** 라이브러리의 *read_csv()* 등의 함수를 활용해서 csv 등 데이터 불러오기 가능\n",
    "\n",
    "<br>\n",
    "\n",
    "### 3.1. CSV 파일 불러오기\n",
    "\n"
   ]
  },
  {
   "cell_type": "code",
   "execution_count": 44,
   "metadata": {
    "id": "lUhvCahhMacA"
   },
   "outputs": [],
   "source": [
    "# pandas 라이브러리 불러오기\n",
    "import pandas as pd"
   ]
  },
  {
   "cell_type": "code",
   "execution_count": 45,
   "metadata": {
    "id": "yuPB-uEnMacB"
   },
   "outputs": [
    {
     "data": {
      "text/html": [
       "<div>\n",
       "<style scoped>\n",
       "    .dataframe tbody tr th:only-of-type {\n",
       "        vertical-align: middle;\n",
       "    }\n",
       "\n",
       "    .dataframe tbody tr th {\n",
       "        vertical-align: top;\n",
       "    }\n",
       "\n",
       "    .dataframe thead th {\n",
       "        text-align: right;\n",
       "    }\n",
       "</style>\n",
       "<table border=\"1\" class=\"dataframe\">\n",
       "  <thead>\n",
       "    <tr style=\"text-align: right;\">\n",
       "      <th></th>\n",
       "      <th>age</th>\n",
       "      <th>sex</th>\n",
       "      <th>bmi</th>\n",
       "      <th>children</th>\n",
       "      <th>smoker</th>\n",
       "      <th>region</th>\n",
       "      <th>charges</th>\n",
       "    </tr>\n",
       "  </thead>\n",
       "  <tbody>\n",
       "    <tr>\n",
       "      <th>0</th>\n",
       "      <td>19</td>\n",
       "      <td>female</td>\n",
       "      <td>27.900</td>\n",
       "      <td>0</td>\n",
       "      <td>yes</td>\n",
       "      <td>southwest</td>\n",
       "      <td>16884.92400</td>\n",
       "    </tr>\n",
       "    <tr>\n",
       "      <th>1</th>\n",
       "      <td>18</td>\n",
       "      <td>male</td>\n",
       "      <td>33.770</td>\n",
       "      <td>1</td>\n",
       "      <td>no</td>\n",
       "      <td>southeast</td>\n",
       "      <td>1725.55230</td>\n",
       "    </tr>\n",
       "    <tr>\n",
       "      <th>2</th>\n",
       "      <td>28</td>\n",
       "      <td>male</td>\n",
       "      <td>33.000</td>\n",
       "      <td>3</td>\n",
       "      <td>no</td>\n",
       "      <td>southeast</td>\n",
       "      <td>4449.46200</td>\n",
       "    </tr>\n",
       "    <tr>\n",
       "      <th>3</th>\n",
       "      <td>33</td>\n",
       "      <td>male</td>\n",
       "      <td>22.705</td>\n",
       "      <td>0</td>\n",
       "      <td>no</td>\n",
       "      <td>northwest</td>\n",
       "      <td>21984.47061</td>\n",
       "    </tr>\n",
       "    <tr>\n",
       "      <th>4</th>\n",
       "      <td>32</td>\n",
       "      <td>male</td>\n",
       "      <td>28.880</td>\n",
       "      <td>0</td>\n",
       "      <td>no</td>\n",
       "      <td>northwest</td>\n",
       "      <td>3866.85520</td>\n",
       "    </tr>\n",
       "    <tr>\n",
       "      <th>...</th>\n",
       "      <td>...</td>\n",
       "      <td>...</td>\n",
       "      <td>...</td>\n",
       "      <td>...</td>\n",
       "      <td>...</td>\n",
       "      <td>...</td>\n",
       "      <td>...</td>\n",
       "    </tr>\n",
       "    <tr>\n",
       "      <th>1333</th>\n",
       "      <td>50</td>\n",
       "      <td>male</td>\n",
       "      <td>30.970</td>\n",
       "      <td>3</td>\n",
       "      <td>no</td>\n",
       "      <td>northwest</td>\n",
       "      <td>10600.54830</td>\n",
       "    </tr>\n",
       "    <tr>\n",
       "      <th>1334</th>\n",
       "      <td>18</td>\n",
       "      <td>female</td>\n",
       "      <td>31.920</td>\n",
       "      <td>0</td>\n",
       "      <td>no</td>\n",
       "      <td>northeast</td>\n",
       "      <td>2205.98080</td>\n",
       "    </tr>\n",
       "    <tr>\n",
       "      <th>1335</th>\n",
       "      <td>18</td>\n",
       "      <td>female</td>\n",
       "      <td>36.850</td>\n",
       "      <td>0</td>\n",
       "      <td>no</td>\n",
       "      <td>southeast</td>\n",
       "      <td>1629.83350</td>\n",
       "    </tr>\n",
       "    <tr>\n",
       "      <th>1336</th>\n",
       "      <td>21</td>\n",
       "      <td>female</td>\n",
       "      <td>25.800</td>\n",
       "      <td>0</td>\n",
       "      <td>no</td>\n",
       "      <td>southwest</td>\n",
       "      <td>2007.94500</td>\n",
       "    </tr>\n",
       "    <tr>\n",
       "      <th>1337</th>\n",
       "      <td>61</td>\n",
       "      <td>female</td>\n",
       "      <td>29.070</td>\n",
       "      <td>0</td>\n",
       "      <td>yes</td>\n",
       "      <td>northwest</td>\n",
       "      <td>29141.36030</td>\n",
       "    </tr>\n",
       "  </tbody>\n",
       "</table>\n",
       "<p>1338 rows × 7 columns</p>\n",
       "</div>"
      ],
      "text/plain": [
       "      age     sex     bmi  children smoker     region      charges\n",
       "0      19  female  27.900         0    yes  southwest  16884.92400\n",
       "1      18    male  33.770         1     no  southeast   1725.55230\n",
       "2      28    male  33.000         3     no  southeast   4449.46200\n",
       "3      33    male  22.705         0     no  northwest  21984.47061\n",
       "4      32    male  28.880         0     no  northwest   3866.85520\n",
       "...   ...     ...     ...       ...    ...        ...          ...\n",
       "1333   50    male  30.970         3     no  northwest  10600.54830\n",
       "1334   18  female  31.920         0     no  northeast   2205.98080\n",
       "1335   18  female  36.850         0     no  southeast   1629.83350\n",
       "1336   21  female  25.800         0     no  southwest   2007.94500\n",
       "1337   61  female  29.070         0    yes  northwest  29141.36030\n",
       "\n",
       "[1338 rows x 7 columns]"
      ]
     },
     "execution_count": 45,
     "metadata": {},
     "output_type": "execute_result"
    }
   ],
   "source": [
    "# pandas의 read_csv( ) 활용\n",
    "df_ins= pd.read_csv(\"./data/insurance.csv\")\n",
    "df_ins= pd.read_csv(\"data/insurance.csv\")\n",
    "df_ins\n",
    "    ## 경로가 중요!\n",
    "    ## ./ : 현재 (ipynb 노트북 파일이 위치하는) 폴더\n",
    "    ## ./ 생략 가능\n",
    "    ## Tab으로 자동 완성 기능 활용 가능"
   ]
  },
  {
   "cell_type": "code",
   "execution_count": 46,
   "metadata": {
    "id": "JjAWag4lMacB"
   },
   "outputs": [
    {
     "data": {
      "text/plain": [
       "pandas.core.frame.DataFrame"
      ]
     },
     "execution_count": 46,
     "metadata": {},
     "output_type": "execute_result"
    }
   ],
   "source": [
    "# 타입 확인\n",
    "type(df_ins)\n",
    "    ## \"DataFrame\""
   ]
  },
  {
   "cell_type": "code",
   "execution_count": 52,
   "metadata": {
    "id": "7_wN_Yf3MacB"
   },
   "outputs": [
    {
     "data": {
      "text/plain": [
       "Index(['age', 'sex', 'bmi', 'children', 'smoker', 'region', 'charges'], dtype='object')"
      ]
     },
     "execution_count": 52,
     "metadata": {},
     "output_type": "execute_result"
    }
   ],
   "source": [
    "# 메서드의 확인(마침표 뒤에서 Tab 누르기)\n",
    "df_ins.columns"
   ]
  },
  {
   "cell_type": "code",
   "execution_count": 50,
   "metadata": {
    "id": "tUprotnTMacB"
   },
   "outputs": [
    {
     "data": {
      "text/plain": [
       "Index(['age', 'sex', 'bmi', 'children', 'smoker', 'region', 'charges'], dtype='object')"
      ]
     },
     "execution_count": 50,
     "metadata": {},
     "output_type": "execute_result"
    }
   ],
   "source": [
    "# columns(변수 이름) 확인\n",
    "df_ins.columns"
   ]
  },
  {
   "cell_type": "code",
   "execution_count": 54,
   "metadata": {
    "id": "JPZINWMoMacC"
   },
   "outputs": [
    {
     "data": {
      "text/plain": [
       "age           int64\n",
       "sex          object\n",
       "bmi         float64\n",
       "children      int64\n",
       "smoker       object\n",
       "region       object\n",
       "charges     float64\n",
       "dtype: object"
      ]
     },
     "execution_count": 54,
     "metadata": {},
     "output_type": "execute_result"
    }
   ],
   "source": [
    "df_ins.shape\n",
    "\n",
    "df_ins.dtypes"
   ]
  },
  {
   "cell_type": "markdown",
   "metadata": {
    "id": "Af3UEDD6MacC"
   },
   "source": [
    "<br>\n",
    "\n",
    "#### [함께 실습] data 폴더의 PulseRates.csv를 불러와서 df_pr로 저장하기\n",
    "\n",
    "이후 데이터 탐색하기 (.columns, .shape, .head, .dtypes 등)"
   ]
  },
  {
   "cell_type": "code",
   "execution_count": 55,
   "metadata": {
    "id": "cynXGGw2MacC"
   },
   "outputs": [
    {
     "data": {
      "text/plain": [
       "<bound method NDFrame.head of      Height  Weight  Age  Gender  Smokes  Alcohol  Exercise  Ran  Pulse1  \\\n",
       "0       173    57.0   18       2       2        1         2    2    86.0   \n",
       "1       179    58.0   19       2       2        1         2    1    82.0   \n",
       "2       167    62.0   18       2       2        1         1    1    96.0   \n",
       "3       195    84.0   18       1       2        1         1    2    71.0   \n",
       "4       173    64.0   18       2       2        1         3    2    90.0   \n",
       "..      ...     ...  ...     ...     ...      ...       ...  ...     ...   \n",
       "105      93    27.0   19       2       2        2         3    2   119.0   \n",
       "106     161    43.0   19       2       2        2         3    2    90.0   \n",
       "107     182    60.0   22       1       2        1         3    2    86.0   \n",
       "108     170    65.0   18       1       2        1         1    2    69.0   \n",
       "109     185    85.0   19       1       2        1         2    2    75.0   \n",
       "\n",
       "     Pulse2  Year  \n",
       "0      88.0    93  \n",
       "1     150.0    93  \n",
       "2     176.0    93  \n",
       "3      73.0    93  \n",
       "4      88.0    93  \n",
       "..      ...   ...  \n",
       "105   120.0    98  \n",
       "106    89.0    98  \n",
       "107    84.0    98  \n",
       "108    64.0    98  \n",
       "109    68.0    98  \n",
       "\n",
       "[110 rows x 11 columns]>"
      ]
     },
     "execution_count": 55,
     "metadata": {},
     "output_type": "execute_result"
    }
   ],
   "source": [
    "df_pr = pd.read_csv(\"./data/PulseRates.csv\")\n",
    "df_pr.head"
   ]
  },
  {
   "cell_type": "code",
   "execution_count": 57,
   "metadata": {},
   "outputs": [
    {
     "data": {
      "text/plain": [
       "(110, 11)"
      ]
     },
     "execution_count": 57,
     "metadata": {},
     "output_type": "execute_result"
    }
   ],
   "source": [
    "df_pr.shape"
   ]
  },
  {
   "cell_type": "code",
   "execution_count": 59,
   "metadata": {},
   "outputs": [
    {
     "data": {
      "text/plain": [
       "Height        int64\n",
       "Weight      float64\n",
       "Age           int64\n",
       "Gender        int64\n",
       "Smokes        int64\n",
       "Alcohol       int64\n",
       "Exercise      int64\n",
       "Ran           int64\n",
       "Pulse1      float64\n",
       "Pulse2      float64\n",
       "Year          int64\n",
       "dtype: object"
      ]
     },
     "execution_count": 59,
     "metadata": {},
     "output_type": "execute_result"
    }
   ],
   "source": [
    "df_pr.dtypes"
   ]
  },
  {
   "cell_type": "code",
   "execution_count": 58,
   "metadata": {},
   "outputs": [
    {
     "data": {
      "text/plain": [
       "<bound method NDFrame.head of      Height  Weight  Age  Gender  Smokes  Alcohol  Exercise  Ran  Pulse1  \\\n",
       "0       173    57.0   18       2       2        1         2    2    86.0   \n",
       "1       179    58.0   19       2       2        1         2    1    82.0   \n",
       "2       167    62.0   18       2       2        1         1    1    96.0   \n",
       "3       195    84.0   18       1       2        1         1    2    71.0   \n",
       "4       173    64.0   18       2       2        1         3    2    90.0   \n",
       "..      ...     ...  ...     ...     ...      ...       ...  ...     ...   \n",
       "105      93    27.0   19       2       2        2         3    2   119.0   \n",
       "106     161    43.0   19       2       2        2         3    2    90.0   \n",
       "107     182    60.0   22       1       2        1         3    2    86.0   \n",
       "108     170    65.0   18       1       2        1         1    2    69.0   \n",
       "109     185    85.0   19       1       2        1         2    2    75.0   \n",
       "\n",
       "     Pulse2  Year  \n",
       "0      88.0    93  \n",
       "1     150.0    93  \n",
       "2     176.0    93  \n",
       "3      73.0    93  \n",
       "4      88.0    93  \n",
       "..      ...   ...  \n",
       "105   120.0    98  \n",
       "106    89.0    98  \n",
       "107    84.0    98  \n",
       "108    64.0    98  \n",
       "109    68.0    98  \n",
       "\n",
       "[110 rows x 11 columns]>"
      ]
     },
     "execution_count": 58,
     "metadata": {},
     "output_type": "execute_result"
    }
   ],
   "source": [
    "df_pr.head"
   ]
  },
  {
   "cell_type": "code",
   "execution_count": 56,
   "metadata": {
    "id": "8L6QnXmoMacC"
   },
   "outputs": [
    {
     "data": {
      "text/plain": [
       "Index(['Height', 'Weight', 'Age', 'Gender', 'Smokes', 'Alcohol', 'Exercise',\n",
       "       'Ran', 'Pulse1', 'Pulse2', 'Year'],\n",
       "      dtype='object')"
      ]
     },
     "execution_count": 56,
     "metadata": {},
     "output_type": "execute_result"
    }
   ],
   "source": [
    "df_pr.columns"
   ]
  },
  {
   "cell_type": "markdown",
   "metadata": {
    "id": "CNTaE7OyMacC"
   },
   "source": [
    "<br>\n",
    "\n",
    "### 3.2. 변수 선택\n",
    "\n",
    "대괄호 인덱스에 변수 이름을 입력하고 변수를 선택 가능  \n",
    "리스트로 변수 이름을 묶고 여러 변수를 한번에 선택 가능"
   ]
  },
  {
   "cell_type": "code",
   "execution_count": 64,
   "metadata": {
    "id": "qujbrh6FMacD"
   },
   "outputs": [
    {
     "data": {
      "text/plain": [
       "0       19\n",
       "1       18\n",
       "2       28\n",
       "3       33\n",
       "4       32\n",
       "        ..\n",
       "1333    50\n",
       "1334    18\n",
       "1335    18\n",
       "1336    21\n",
       "1337    61\n",
       "Name: age, Length: 1338, dtype: int64"
      ]
     },
     "execution_count": 64,
     "metadata": {},
     "output_type": "execute_result"
    }
   ],
   "source": [
    "# 한 변수 선택\n",
    "    # Series 형식으로 출력됨\n",
    "df_ins['age']"
   ]
  },
  {
   "cell_type": "code",
   "execution_count": 65,
   "metadata": {
    "id": "9_vnhYRXMacD"
   },
   "outputs": [
    {
     "data": {
      "text/html": [
       "<div>\n",
       "<style scoped>\n",
       "    .dataframe tbody tr th:only-of-type {\n",
       "        vertical-align: middle;\n",
       "    }\n",
       "\n",
       "    .dataframe tbody tr th {\n",
       "        vertical-align: top;\n",
       "    }\n",
       "\n",
       "    .dataframe thead th {\n",
       "        text-align: right;\n",
       "    }\n",
       "</style>\n",
       "<table border=\"1\" class=\"dataframe\">\n",
       "  <thead>\n",
       "    <tr style=\"text-align: right;\">\n",
       "      <th></th>\n",
       "      <th>age</th>\n",
       "    </tr>\n",
       "  </thead>\n",
       "  <tbody>\n",
       "    <tr>\n",
       "      <th>0</th>\n",
       "      <td>19</td>\n",
       "    </tr>\n",
       "    <tr>\n",
       "      <th>1</th>\n",
       "      <td>18</td>\n",
       "    </tr>\n",
       "    <tr>\n",
       "      <th>2</th>\n",
       "      <td>28</td>\n",
       "    </tr>\n",
       "    <tr>\n",
       "      <th>3</th>\n",
       "      <td>33</td>\n",
       "    </tr>\n",
       "    <tr>\n",
       "      <th>4</th>\n",
       "      <td>32</td>\n",
       "    </tr>\n",
       "    <tr>\n",
       "      <th>...</th>\n",
       "      <td>...</td>\n",
       "    </tr>\n",
       "    <tr>\n",
       "      <th>1333</th>\n",
       "      <td>50</td>\n",
       "    </tr>\n",
       "    <tr>\n",
       "      <th>1334</th>\n",
       "      <td>18</td>\n",
       "    </tr>\n",
       "    <tr>\n",
       "      <th>1335</th>\n",
       "      <td>18</td>\n",
       "    </tr>\n",
       "    <tr>\n",
       "      <th>1336</th>\n",
       "      <td>21</td>\n",
       "    </tr>\n",
       "    <tr>\n",
       "      <th>1337</th>\n",
       "      <td>61</td>\n",
       "    </tr>\n",
       "  </tbody>\n",
       "</table>\n",
       "<p>1338 rows × 1 columns</p>\n",
       "</div>"
      ],
      "text/plain": [
       "      age\n",
       "0      19\n",
       "1      18\n",
       "2      28\n",
       "3      33\n",
       "4      32\n",
       "...   ...\n",
       "1333   50\n",
       "1334   18\n",
       "1335   18\n",
       "1336   21\n",
       "1337   61\n",
       "\n",
       "[1338 rows x 1 columns]"
      ]
     },
     "execution_count": 65,
     "metadata": {},
     "output_type": "execute_result"
    }
   ],
   "source": [
    "# 한 변수 선택\n",
    "    # DataFrame 형식으로 출력됨\n",
    "df_ins[['age']]"
   ]
  },
  {
   "cell_type": "code",
   "execution_count": 66,
   "metadata": {
    "id": "1uqW272gMacD"
   },
   "outputs": [
    {
     "data": {
      "text/html": [
       "<div>\n",
       "<style scoped>\n",
       "    .dataframe tbody tr th:only-of-type {\n",
       "        vertical-align: middle;\n",
       "    }\n",
       "\n",
       "    .dataframe tbody tr th {\n",
       "        vertical-align: top;\n",
       "    }\n",
       "\n",
       "    .dataframe thead th {\n",
       "        text-align: right;\n",
       "    }\n",
       "</style>\n",
       "<table border=\"1\" class=\"dataframe\">\n",
       "  <thead>\n",
       "    <tr style=\"text-align: right;\">\n",
       "      <th></th>\n",
       "      <th>age</th>\n",
       "      <th>smoker</th>\n",
       "      <th>charges</th>\n",
       "    </tr>\n",
       "  </thead>\n",
       "  <tbody>\n",
       "    <tr>\n",
       "      <th>0</th>\n",
       "      <td>19</td>\n",
       "      <td>yes</td>\n",
       "      <td>16884.92400</td>\n",
       "    </tr>\n",
       "    <tr>\n",
       "      <th>1</th>\n",
       "      <td>18</td>\n",
       "      <td>no</td>\n",
       "      <td>1725.55230</td>\n",
       "    </tr>\n",
       "    <tr>\n",
       "      <th>2</th>\n",
       "      <td>28</td>\n",
       "      <td>no</td>\n",
       "      <td>4449.46200</td>\n",
       "    </tr>\n",
       "    <tr>\n",
       "      <th>3</th>\n",
       "      <td>33</td>\n",
       "      <td>no</td>\n",
       "      <td>21984.47061</td>\n",
       "    </tr>\n",
       "    <tr>\n",
       "      <th>4</th>\n",
       "      <td>32</td>\n",
       "      <td>no</td>\n",
       "      <td>3866.85520</td>\n",
       "    </tr>\n",
       "    <tr>\n",
       "      <th>...</th>\n",
       "      <td>...</td>\n",
       "      <td>...</td>\n",
       "      <td>...</td>\n",
       "    </tr>\n",
       "    <tr>\n",
       "      <th>1333</th>\n",
       "      <td>50</td>\n",
       "      <td>no</td>\n",
       "      <td>10600.54830</td>\n",
       "    </tr>\n",
       "    <tr>\n",
       "      <th>1334</th>\n",
       "      <td>18</td>\n",
       "      <td>no</td>\n",
       "      <td>2205.98080</td>\n",
       "    </tr>\n",
       "    <tr>\n",
       "      <th>1335</th>\n",
       "      <td>18</td>\n",
       "      <td>no</td>\n",
       "      <td>1629.83350</td>\n",
       "    </tr>\n",
       "    <tr>\n",
       "      <th>1336</th>\n",
       "      <td>21</td>\n",
       "      <td>no</td>\n",
       "      <td>2007.94500</td>\n",
       "    </tr>\n",
       "    <tr>\n",
       "      <th>1337</th>\n",
       "      <td>61</td>\n",
       "      <td>yes</td>\n",
       "      <td>29141.36030</td>\n",
       "    </tr>\n",
       "  </tbody>\n",
       "</table>\n",
       "<p>1338 rows × 3 columns</p>\n",
       "</div>"
      ],
      "text/plain": [
       "      age smoker      charges\n",
       "0      19    yes  16884.92400\n",
       "1      18     no   1725.55230\n",
       "2      28     no   4449.46200\n",
       "3      33     no  21984.47061\n",
       "4      32     no   3866.85520\n",
       "...   ...    ...          ...\n",
       "1333   50     no  10600.54830\n",
       "1334   18     no   2205.98080\n",
       "1335   18     no   1629.83350\n",
       "1336   21     no   2007.94500\n",
       "1337   61    yes  29141.36030\n",
       "\n",
       "[1338 rows x 3 columns]"
      ]
     },
     "execution_count": 66,
     "metadata": {},
     "output_type": "execute_result"
    }
   ],
   "source": [
    "# 리스트를 활용한 복수 변수 선택\n",
    "df_ins[['age','smoker','charges']]"
   ]
  },
  {
   "cell_type": "markdown",
   "metadata": {
    "id": "zamwTFAwMacD"
   },
   "source": [
    "<br>\n",
    "\n",
    "### 3.3. 관측치 부분 선택\n",
    "\n",
    "특정 변수를 선택한 다음 조건을 설정하고 실행하면 True/False로 구성된 bool Series가 계산됨\n",
    "bool Series를 데이터 대괄호 인덱스에 넣어 조건과 일치하는 관측치를 선택 가능"
   ]
  },
  {
   "cell_type": "code",
   "execution_count": 68,
   "metadata": {
    "id": "wcTQpeCuMacD"
   },
   "outputs": [
    {
     "data": {
      "text/plain": [
       "0       19\n",
       "1       18\n",
       "2       28\n",
       "3       33\n",
       "4       32\n",
       "        ..\n",
       "1333    50\n",
       "1334    18\n",
       "1335    18\n",
       "1336    21\n",
       "1337    61\n",
       "Name: age, Length: 1338, dtype: int64"
      ]
     },
     "execution_count": 68,
     "metadata": {},
     "output_type": "execute_result"
    }
   ],
   "source": [
    "# 변수 선택\n",
    "df_ins['age']"
   ]
  },
  {
   "cell_type": "code",
   "execution_count": 61,
   "metadata": {
    "id": "D2gIvKSQMacE"
   },
   "outputs": [
    {
     "data": {
      "text/plain": [
       "0        True\n",
       "1        True\n",
       "2        True\n",
       "3       False\n",
       "4       False\n",
       "        ...  \n",
       "1333    False\n",
       "1334     True\n",
       "1335     True\n",
       "1336     True\n",
       "1337    False\n",
       "Name: age, Length: 1338, dtype: bool"
      ]
     },
     "execution_count": 61,
     "metadata": {},
     "output_type": "execute_result"
    }
   ],
   "source": [
    "# 조건 설정\n",
    "df_ins['age'] < 30"
   ]
  },
  {
   "cell_type": "code",
   "execution_count": 62,
   "metadata": {
    "id": "eHc6XNCvMacE"
   },
   "outputs": [
    {
     "data": {
      "text/html": [
       "<div>\n",
       "<style scoped>\n",
       "    .dataframe tbody tr th:only-of-type {\n",
       "        vertical-align: middle;\n",
       "    }\n",
       "\n",
       "    .dataframe tbody tr th {\n",
       "        vertical-align: top;\n",
       "    }\n",
       "\n",
       "    .dataframe thead th {\n",
       "        text-align: right;\n",
       "    }\n",
       "</style>\n",
       "<table border=\"1\" class=\"dataframe\">\n",
       "  <thead>\n",
       "    <tr style=\"text-align: right;\">\n",
       "      <th></th>\n",
       "      <th>age</th>\n",
       "      <th>sex</th>\n",
       "      <th>bmi</th>\n",
       "      <th>children</th>\n",
       "      <th>smoker</th>\n",
       "      <th>region</th>\n",
       "      <th>charges</th>\n",
       "    </tr>\n",
       "  </thead>\n",
       "  <tbody>\n",
       "    <tr>\n",
       "      <th>0</th>\n",
       "      <td>19</td>\n",
       "      <td>female</td>\n",
       "      <td>27.900</td>\n",
       "      <td>0</td>\n",
       "      <td>yes</td>\n",
       "      <td>southwest</td>\n",
       "      <td>16884.92400</td>\n",
       "    </tr>\n",
       "    <tr>\n",
       "      <th>1</th>\n",
       "      <td>18</td>\n",
       "      <td>male</td>\n",
       "      <td>33.770</td>\n",
       "      <td>1</td>\n",
       "      <td>no</td>\n",
       "      <td>southeast</td>\n",
       "      <td>1725.55230</td>\n",
       "    </tr>\n",
       "    <tr>\n",
       "      <th>2</th>\n",
       "      <td>28</td>\n",
       "      <td>male</td>\n",
       "      <td>33.000</td>\n",
       "      <td>3</td>\n",
       "      <td>no</td>\n",
       "      <td>southeast</td>\n",
       "      <td>4449.46200</td>\n",
       "    </tr>\n",
       "    <tr>\n",
       "      <th>10</th>\n",
       "      <td>25</td>\n",
       "      <td>male</td>\n",
       "      <td>26.220</td>\n",
       "      <td>0</td>\n",
       "      <td>no</td>\n",
       "      <td>northeast</td>\n",
       "      <td>2721.32080</td>\n",
       "    </tr>\n",
       "    <tr>\n",
       "      <th>12</th>\n",
       "      <td>23</td>\n",
       "      <td>male</td>\n",
       "      <td>34.400</td>\n",
       "      <td>0</td>\n",
       "      <td>no</td>\n",
       "      <td>southwest</td>\n",
       "      <td>1826.84300</td>\n",
       "    </tr>\n",
       "    <tr>\n",
       "      <th>...</th>\n",
       "      <td>...</td>\n",
       "      <td>...</td>\n",
       "      <td>...</td>\n",
       "      <td>...</td>\n",
       "      <td>...</td>\n",
       "      <td>...</td>\n",
       "      <td>...</td>\n",
       "    </tr>\n",
       "    <tr>\n",
       "      <th>1328</th>\n",
       "      <td>23</td>\n",
       "      <td>female</td>\n",
       "      <td>24.225</td>\n",
       "      <td>2</td>\n",
       "      <td>no</td>\n",
       "      <td>northeast</td>\n",
       "      <td>22395.74424</td>\n",
       "    </tr>\n",
       "    <tr>\n",
       "      <th>1331</th>\n",
       "      <td>23</td>\n",
       "      <td>female</td>\n",
       "      <td>33.400</td>\n",
       "      <td>0</td>\n",
       "      <td>no</td>\n",
       "      <td>southwest</td>\n",
       "      <td>10795.93733</td>\n",
       "    </tr>\n",
       "    <tr>\n",
       "      <th>1334</th>\n",
       "      <td>18</td>\n",
       "      <td>female</td>\n",
       "      <td>31.920</td>\n",
       "      <td>0</td>\n",
       "      <td>no</td>\n",
       "      <td>northeast</td>\n",
       "      <td>2205.98080</td>\n",
       "    </tr>\n",
       "    <tr>\n",
       "      <th>1335</th>\n",
       "      <td>18</td>\n",
       "      <td>female</td>\n",
       "      <td>36.850</td>\n",
       "      <td>0</td>\n",
       "      <td>no</td>\n",
       "      <td>southeast</td>\n",
       "      <td>1629.83350</td>\n",
       "    </tr>\n",
       "    <tr>\n",
       "      <th>1336</th>\n",
       "      <td>21</td>\n",
       "      <td>female</td>\n",
       "      <td>25.800</td>\n",
       "      <td>0</td>\n",
       "      <td>no</td>\n",
       "      <td>southwest</td>\n",
       "      <td>2007.94500</td>\n",
       "    </tr>\n",
       "  </tbody>\n",
       "</table>\n",
       "<p>417 rows × 7 columns</p>\n",
       "</div>"
      ],
      "text/plain": [
       "      age     sex     bmi  children smoker     region      charges\n",
       "0      19  female  27.900         0    yes  southwest  16884.92400\n",
       "1      18    male  33.770         1     no  southeast   1725.55230\n",
       "2      28    male  33.000         3     no  southeast   4449.46200\n",
       "10     25    male  26.220         0     no  northeast   2721.32080\n",
       "12     23    male  34.400         0     no  southwest   1826.84300\n",
       "...   ...     ...     ...       ...    ...        ...          ...\n",
       "1328   23  female  24.225         2     no  northeast  22395.74424\n",
       "1331   23  female  33.400         0     no  southwest  10795.93733\n",
       "1334   18  female  31.920         0     no  northeast   2205.98080\n",
       "1335   18  female  36.850         0     no  southeast   1629.83350\n",
       "1336   21  female  25.800         0     no  southwest   2007.94500\n",
       "\n",
       "[417 rows x 7 columns]"
      ]
     },
     "execution_count": 62,
     "metadata": {},
     "output_type": "execute_result"
    }
   ],
   "source": [
    "# 조건과 일치하는 관측치 선택\n",
    "df_ins[df_ins['age'] < 30]"
   ]
  },
  {
   "cell_type": "code",
   "execution_count": 67,
   "metadata": {
    "id": "qS7DsQHTMacE"
   },
   "outputs": [
    {
     "data": {
      "text/html": [
       "<div>\n",
       "<style scoped>\n",
       "    .dataframe tbody tr th:only-of-type {\n",
       "        vertical-align: middle;\n",
       "    }\n",
       "\n",
       "    .dataframe tbody tr th {\n",
       "        vertical-align: top;\n",
       "    }\n",
       "\n",
       "    .dataframe thead th {\n",
       "        text-align: right;\n",
       "    }\n",
       "</style>\n",
       "<table border=\"1\" class=\"dataframe\">\n",
       "  <thead>\n",
       "    <tr style=\"text-align: right;\">\n",
       "      <th></th>\n",
       "      <th>age</th>\n",
       "      <th>sex</th>\n",
       "      <th>bmi</th>\n",
       "      <th>children</th>\n",
       "      <th>smoker</th>\n",
       "      <th>region</th>\n",
       "      <th>charges</th>\n",
       "    </tr>\n",
       "  </thead>\n",
       "  <tbody>\n",
       "    <tr>\n",
       "      <th>1</th>\n",
       "      <td>18</td>\n",
       "      <td>male</td>\n",
       "      <td>33.770</td>\n",
       "      <td>1</td>\n",
       "      <td>no</td>\n",
       "      <td>southeast</td>\n",
       "      <td>1725.55230</td>\n",
       "    </tr>\n",
       "    <tr>\n",
       "      <th>2</th>\n",
       "      <td>28</td>\n",
       "      <td>male</td>\n",
       "      <td>33.000</td>\n",
       "      <td>3</td>\n",
       "      <td>no</td>\n",
       "      <td>southeast</td>\n",
       "      <td>4449.46200</td>\n",
       "    </tr>\n",
       "    <tr>\n",
       "      <th>3</th>\n",
       "      <td>33</td>\n",
       "      <td>male</td>\n",
       "      <td>22.705</td>\n",
       "      <td>0</td>\n",
       "      <td>no</td>\n",
       "      <td>northwest</td>\n",
       "      <td>21984.47061</td>\n",
       "    </tr>\n",
       "    <tr>\n",
       "      <th>4</th>\n",
       "      <td>32</td>\n",
       "      <td>male</td>\n",
       "      <td>28.880</td>\n",
       "      <td>0</td>\n",
       "      <td>no</td>\n",
       "      <td>northwest</td>\n",
       "      <td>3866.85520</td>\n",
       "    </tr>\n",
       "    <tr>\n",
       "      <th>8</th>\n",
       "      <td>37</td>\n",
       "      <td>male</td>\n",
       "      <td>29.830</td>\n",
       "      <td>2</td>\n",
       "      <td>no</td>\n",
       "      <td>northeast</td>\n",
       "      <td>6406.41070</td>\n",
       "    </tr>\n",
       "    <tr>\n",
       "      <th>...</th>\n",
       "      <td>...</td>\n",
       "      <td>...</td>\n",
       "      <td>...</td>\n",
       "      <td>...</td>\n",
       "      <td>...</td>\n",
       "      <td>...</td>\n",
       "      <td>...</td>\n",
       "    </tr>\n",
       "    <tr>\n",
       "      <th>1324</th>\n",
       "      <td>31</td>\n",
       "      <td>male</td>\n",
       "      <td>25.935</td>\n",
       "      <td>1</td>\n",
       "      <td>no</td>\n",
       "      <td>northwest</td>\n",
       "      <td>4239.89265</td>\n",
       "    </tr>\n",
       "    <tr>\n",
       "      <th>1325</th>\n",
       "      <td>61</td>\n",
       "      <td>male</td>\n",
       "      <td>33.535</td>\n",
       "      <td>0</td>\n",
       "      <td>no</td>\n",
       "      <td>northeast</td>\n",
       "      <td>13143.33665</td>\n",
       "    </tr>\n",
       "    <tr>\n",
       "      <th>1327</th>\n",
       "      <td>51</td>\n",
       "      <td>male</td>\n",
       "      <td>30.030</td>\n",
       "      <td>1</td>\n",
       "      <td>no</td>\n",
       "      <td>southeast</td>\n",
       "      <td>9377.90470</td>\n",
       "    </tr>\n",
       "    <tr>\n",
       "      <th>1329</th>\n",
       "      <td>52</td>\n",
       "      <td>male</td>\n",
       "      <td>38.600</td>\n",
       "      <td>2</td>\n",
       "      <td>no</td>\n",
       "      <td>southwest</td>\n",
       "      <td>10325.20600</td>\n",
       "    </tr>\n",
       "    <tr>\n",
       "      <th>1333</th>\n",
       "      <td>50</td>\n",
       "      <td>male</td>\n",
       "      <td>30.970</td>\n",
       "      <td>3</td>\n",
       "      <td>no</td>\n",
       "      <td>northwest</td>\n",
       "      <td>10600.54830</td>\n",
       "    </tr>\n",
       "  </tbody>\n",
       "</table>\n",
       "<p>676 rows × 7 columns</p>\n",
       "</div>"
      ],
      "text/plain": [
       "      age   sex     bmi  children smoker     region      charges\n",
       "1      18  male  33.770         1     no  southeast   1725.55230\n",
       "2      28  male  33.000         3     no  southeast   4449.46200\n",
       "3      33  male  22.705         0     no  northwest  21984.47061\n",
       "4      32  male  28.880         0     no  northwest   3866.85520\n",
       "8      37  male  29.830         2     no  northeast   6406.41070\n",
       "...   ...   ...     ...       ...    ...        ...          ...\n",
       "1324   31  male  25.935         1     no  northwest   4239.89265\n",
       "1325   61  male  33.535         0     no  northeast  13143.33665\n",
       "1327   51  male  30.030         1     no  southeast   9377.90470\n",
       "1329   52  male  38.600         2     no  southwest  10325.20600\n",
       "1333   50  male  30.970         3     no  northwest  10600.54830\n",
       "\n",
       "[676 rows x 7 columns]"
      ]
     },
     "execution_count": 67,
     "metadata": {},
     "output_type": "execute_result"
    }
   ],
   "source": [
    "# 일치 여부를 활용한 특정 그룹 선택\n",
    "df_ins_male = df_ins[ df_ins['sex'] == 'male' ]\n",
    "df_ins_male"
   ]
  },
  {
   "cell_type": "markdown",
   "metadata": {
    "id": "bgPSfsM1MacE"
   },
   "source": [
    "<br>\n",
    "\n",
    "#### [실습] 데이터 불러오기 및 부분 선택\n",
    "\n",
    "1. `data`폴더에서 `StudentsPerformance.csv`를 불러와서 **df_sp**로 저장하기\n",
    "2. **df_sp**에서 `math score`, `reading score`, `writing score` 세 변수 선택하기\n",
    "3. **df_sp**에서 `math score`가 90이상인 관측치 선택하기\n",
    "4. **df_sp**에서 `gender`가 *'female'*인 관측치 선택하기"
   ]
  },
  {
   "cell_type": "code",
   "execution_count": 70,
   "metadata": {
    "id": "-oK1Tl0mMacF"
   },
   "outputs": [],
   "source": [
    "# 1. data폴더에서 StudentsPerformance.csv를 불러와서 df_sp로 저장하기\n",
    "df_sp = pd.read_csv(\"./data/StudentsPerformance.csv\")"
   ]
  },
  {
   "cell_type": "code",
   "execution_count": 72,
   "metadata": {
    "id": "_8Q3KYcRMacG"
   },
   "outputs": [
    {
     "data": {
      "text/html": [
       "<div>\n",
       "<style scoped>\n",
       "    .dataframe tbody tr th:only-of-type {\n",
       "        vertical-align: middle;\n",
       "    }\n",
       "\n",
       "    .dataframe tbody tr th {\n",
       "        vertical-align: top;\n",
       "    }\n",
       "\n",
       "    .dataframe thead th {\n",
       "        text-align: right;\n",
       "    }\n",
       "</style>\n",
       "<table border=\"1\" class=\"dataframe\">\n",
       "  <thead>\n",
       "    <tr style=\"text-align: right;\">\n",
       "      <th></th>\n",
       "      <th>math score</th>\n",
       "      <th>reading score</th>\n",
       "      <th>writing score</th>\n",
       "    </tr>\n",
       "  </thead>\n",
       "  <tbody>\n",
       "    <tr>\n",
       "      <th>0</th>\n",
       "      <td>72</td>\n",
       "      <td>72</td>\n",
       "      <td>74</td>\n",
       "    </tr>\n",
       "    <tr>\n",
       "      <th>1</th>\n",
       "      <td>69</td>\n",
       "      <td>90</td>\n",
       "      <td>88</td>\n",
       "    </tr>\n",
       "    <tr>\n",
       "      <th>2</th>\n",
       "      <td>90</td>\n",
       "      <td>95</td>\n",
       "      <td>93</td>\n",
       "    </tr>\n",
       "    <tr>\n",
       "      <th>3</th>\n",
       "      <td>47</td>\n",
       "      <td>57</td>\n",
       "      <td>44</td>\n",
       "    </tr>\n",
       "    <tr>\n",
       "      <th>4</th>\n",
       "      <td>76</td>\n",
       "      <td>78</td>\n",
       "      <td>75</td>\n",
       "    </tr>\n",
       "    <tr>\n",
       "      <th>...</th>\n",
       "      <td>...</td>\n",
       "      <td>...</td>\n",
       "      <td>...</td>\n",
       "    </tr>\n",
       "    <tr>\n",
       "      <th>995</th>\n",
       "      <td>88</td>\n",
       "      <td>99</td>\n",
       "      <td>95</td>\n",
       "    </tr>\n",
       "    <tr>\n",
       "      <th>996</th>\n",
       "      <td>62</td>\n",
       "      <td>55</td>\n",
       "      <td>55</td>\n",
       "    </tr>\n",
       "    <tr>\n",
       "      <th>997</th>\n",
       "      <td>59</td>\n",
       "      <td>71</td>\n",
       "      <td>65</td>\n",
       "    </tr>\n",
       "    <tr>\n",
       "      <th>998</th>\n",
       "      <td>68</td>\n",
       "      <td>78</td>\n",
       "      <td>77</td>\n",
       "    </tr>\n",
       "    <tr>\n",
       "      <th>999</th>\n",
       "      <td>77</td>\n",
       "      <td>86</td>\n",
       "      <td>86</td>\n",
       "    </tr>\n",
       "  </tbody>\n",
       "</table>\n",
       "<p>1000 rows × 3 columns</p>\n",
       "</div>"
      ],
      "text/plain": [
       "     math score  reading score  writing score\n",
       "0            72             72             74\n",
       "1            69             90             88\n",
       "2            90             95             93\n",
       "3            47             57             44\n",
       "4            76             78             75\n",
       "..          ...            ...            ...\n",
       "995          88             99             95\n",
       "996          62             55             55\n",
       "997          59             71             65\n",
       "998          68             78             77\n",
       "999          77             86             86\n",
       "\n",
       "[1000 rows x 3 columns]"
      ]
     },
     "execution_count": 72,
     "metadata": {},
     "output_type": "execute_result"
    }
   ],
   "source": [
    "# 2. df_sp에서 math score, reading score, writing score 세 변수 선택하기\n",
    "df_sp[['math score', 'reading score', 'writing score']]"
   ]
  },
  {
   "cell_type": "code",
   "execution_count": 75,
   "metadata": {
    "id": "CXTciKRZMacG"
   },
   "outputs": [
    {
     "data": {
      "text/html": [
       "<div>\n",
       "<style scoped>\n",
       "    .dataframe tbody tr th:only-of-type {\n",
       "        vertical-align: middle;\n",
       "    }\n",
       "\n",
       "    .dataframe tbody tr th {\n",
       "        vertical-align: top;\n",
       "    }\n",
       "\n",
       "    .dataframe thead th {\n",
       "        text-align: right;\n",
       "    }\n",
       "</style>\n",
       "<table border=\"1\" class=\"dataframe\">\n",
       "  <thead>\n",
       "    <tr style=\"text-align: right;\">\n",
       "      <th></th>\n",
       "      <th>gender</th>\n",
       "      <th>race/ethnicity</th>\n",
       "      <th>parental level of education</th>\n",
       "      <th>lunch</th>\n",
       "      <th>test preparation course</th>\n",
       "      <th>math score</th>\n",
       "      <th>reading score</th>\n",
       "      <th>writing score</th>\n",
       "    </tr>\n",
       "  </thead>\n",
       "  <tbody>\n",
       "    <tr>\n",
       "      <th>2</th>\n",
       "      <td>female</td>\n",
       "      <td>group B</td>\n",
       "      <td>master's degree</td>\n",
       "      <td>standard</td>\n",
       "      <td>none</td>\n",
       "      <td>90</td>\n",
       "      <td>95</td>\n",
       "      <td>93</td>\n",
       "    </tr>\n",
       "    <tr>\n",
       "      <th>34</th>\n",
       "      <td>male</td>\n",
       "      <td>group E</td>\n",
       "      <td>some college</td>\n",
       "      <td>standard</td>\n",
       "      <td>none</td>\n",
       "      <td>97</td>\n",
       "      <td>87</td>\n",
       "      <td>82</td>\n",
       "    </tr>\n",
       "    <tr>\n",
       "      <th>104</th>\n",
       "      <td>male</td>\n",
       "      <td>group C</td>\n",
       "      <td>some college</td>\n",
       "      <td>standard</td>\n",
       "      <td>completed</td>\n",
       "      <td>98</td>\n",
       "      <td>86</td>\n",
       "      <td>90</td>\n",
       "    </tr>\n",
       "    <tr>\n",
       "      <th>114</th>\n",
       "      <td>female</td>\n",
       "      <td>group E</td>\n",
       "      <td>bachelor's degree</td>\n",
       "      <td>standard</td>\n",
       "      <td>completed</td>\n",
       "      <td>99</td>\n",
       "      <td>100</td>\n",
       "      <td>100</td>\n",
       "    </tr>\n",
       "    <tr>\n",
       "      <th>121</th>\n",
       "      <td>male</td>\n",
       "      <td>group B</td>\n",
       "      <td>associate's degree</td>\n",
       "      <td>standard</td>\n",
       "      <td>completed</td>\n",
       "      <td>91</td>\n",
       "      <td>89</td>\n",
       "      <td>92</td>\n",
       "    </tr>\n",
       "    <tr>\n",
       "      <th>149</th>\n",
       "      <td>male</td>\n",
       "      <td>group E</td>\n",
       "      <td>associate's degree</td>\n",
       "      <td>free/reduced</td>\n",
       "      <td>completed</td>\n",
       "      <td>100</td>\n",
       "      <td>100</td>\n",
       "      <td>93</td>\n",
       "    </tr>\n",
       "    <tr>\n",
       "      <th>165</th>\n",
       "      <td>female</td>\n",
       "      <td>group C</td>\n",
       "      <td>bachelor's degree</td>\n",
       "      <td>standard</td>\n",
       "      <td>completed</td>\n",
       "      <td>96</td>\n",
       "      <td>100</td>\n",
       "      <td>100</td>\n",
       "    </tr>\n",
       "    <tr>\n",
       "      <th>171</th>\n",
       "      <td>male</td>\n",
       "      <td>group E</td>\n",
       "      <td>some high school</td>\n",
       "      <td>standard</td>\n",
       "      <td>none</td>\n",
       "      <td>94</td>\n",
       "      <td>88</td>\n",
       "      <td>78</td>\n",
       "    </tr>\n",
       "    <tr>\n",
       "      <th>179</th>\n",
       "      <td>female</td>\n",
       "      <td>group D</td>\n",
       "      <td>some high school</td>\n",
       "      <td>standard</td>\n",
       "      <td>completed</td>\n",
       "      <td>97</td>\n",
       "      <td>100</td>\n",
       "      <td>100</td>\n",
       "    </tr>\n",
       "    <tr>\n",
       "      <th>233</th>\n",
       "      <td>male</td>\n",
       "      <td>group E</td>\n",
       "      <td>some high school</td>\n",
       "      <td>standard</td>\n",
       "      <td>none</td>\n",
       "      <td>92</td>\n",
       "      <td>87</td>\n",
       "      <td>78</td>\n",
       "    </tr>\n",
       "    <tr>\n",
       "      <th>263</th>\n",
       "      <td>female</td>\n",
       "      <td>group E</td>\n",
       "      <td>high school</td>\n",
       "      <td>standard</td>\n",
       "      <td>none</td>\n",
       "      <td>99</td>\n",
       "      <td>93</td>\n",
       "      <td>90</td>\n",
       "    </tr>\n",
       "    <tr>\n",
       "      <th>286</th>\n",
       "      <td>male</td>\n",
       "      <td>group E</td>\n",
       "      <td>associate's degree</td>\n",
       "      <td>standard</td>\n",
       "      <td>completed</td>\n",
       "      <td>97</td>\n",
       "      <td>82</td>\n",
       "      <td>88</td>\n",
       "    </tr>\n",
       "    <tr>\n",
       "      <th>299</th>\n",
       "      <td>male</td>\n",
       "      <td>group D</td>\n",
       "      <td>associate's degree</td>\n",
       "      <td>free/reduced</td>\n",
       "      <td>none</td>\n",
       "      <td>90</td>\n",
       "      <td>87</td>\n",
       "      <td>75</td>\n",
       "    </tr>\n",
       "    <tr>\n",
       "      <th>306</th>\n",
       "      <td>male</td>\n",
       "      <td>group E</td>\n",
       "      <td>some college</td>\n",
       "      <td>standard</td>\n",
       "      <td>completed</td>\n",
       "      <td>99</td>\n",
       "      <td>87</td>\n",
       "      <td>81</td>\n",
       "    </tr>\n",
       "    <tr>\n",
       "      <th>333</th>\n",
       "      <td>male</td>\n",
       "      <td>group B</td>\n",
       "      <td>associate's degree</td>\n",
       "      <td>standard</td>\n",
       "      <td>none</td>\n",
       "      <td>90</td>\n",
       "      <td>78</td>\n",
       "      <td>81</td>\n",
       "    </tr>\n",
       "    <tr>\n",
       "      <th>451</th>\n",
       "      <td>female</td>\n",
       "      <td>group E</td>\n",
       "      <td>some college</td>\n",
       "      <td>standard</td>\n",
       "      <td>none</td>\n",
       "      <td>100</td>\n",
       "      <td>92</td>\n",
       "      <td>97</td>\n",
       "    </tr>\n",
       "    <tr>\n",
       "      <th>458</th>\n",
       "      <td>female</td>\n",
       "      <td>group E</td>\n",
       "      <td>bachelor's degree</td>\n",
       "      <td>standard</td>\n",
       "      <td>none</td>\n",
       "      <td>100</td>\n",
       "      <td>100</td>\n",
       "      <td>100</td>\n",
       "    </tr>\n",
       "    <tr>\n",
       "      <th>469</th>\n",
       "      <td>male</td>\n",
       "      <td>group C</td>\n",
       "      <td>some college</td>\n",
       "      <td>standard</td>\n",
       "      <td>none</td>\n",
       "      <td>91</td>\n",
       "      <td>74</td>\n",
       "      <td>76</td>\n",
       "    </tr>\n",
       "    <tr>\n",
       "      <th>474</th>\n",
       "      <td>female</td>\n",
       "      <td>group B</td>\n",
       "      <td>associate's degree</td>\n",
       "      <td>standard</td>\n",
       "      <td>completed</td>\n",
       "      <td>90</td>\n",
       "      <td>90</td>\n",
       "      <td>91</td>\n",
       "    </tr>\n",
       "    <tr>\n",
       "      <th>501</th>\n",
       "      <td>female</td>\n",
       "      <td>group B</td>\n",
       "      <td>associate's degree</td>\n",
       "      <td>standard</td>\n",
       "      <td>completed</td>\n",
       "      <td>94</td>\n",
       "      <td>87</td>\n",
       "      <td>92</td>\n",
       "    </tr>\n",
       "    <tr>\n",
       "      <th>503</th>\n",
       "      <td>female</td>\n",
       "      <td>group E</td>\n",
       "      <td>associate's degree</td>\n",
       "      <td>standard</td>\n",
       "      <td>completed</td>\n",
       "      <td>95</td>\n",
       "      <td>89</td>\n",
       "      <td>92</td>\n",
       "    </tr>\n",
       "    <tr>\n",
       "      <th>521</th>\n",
       "      <td>female</td>\n",
       "      <td>group C</td>\n",
       "      <td>associate's degree</td>\n",
       "      <td>standard</td>\n",
       "      <td>none</td>\n",
       "      <td>91</td>\n",
       "      <td>86</td>\n",
       "      <td>84</td>\n",
       "    </tr>\n",
       "    <tr>\n",
       "      <th>539</th>\n",
       "      <td>male</td>\n",
       "      <td>group A</td>\n",
       "      <td>associate's degree</td>\n",
       "      <td>standard</td>\n",
       "      <td>completed</td>\n",
       "      <td>97</td>\n",
       "      <td>92</td>\n",
       "      <td>86</td>\n",
       "    </tr>\n",
       "    <tr>\n",
       "      <th>546</th>\n",
       "      <td>female</td>\n",
       "      <td>group A</td>\n",
       "      <td>some high school</td>\n",
       "      <td>standard</td>\n",
       "      <td>completed</td>\n",
       "      <td>92</td>\n",
       "      <td>100</td>\n",
       "      <td>97</td>\n",
       "    </tr>\n",
       "    <tr>\n",
       "      <th>562</th>\n",
       "      <td>male</td>\n",
       "      <td>group C</td>\n",
       "      <td>bachelor's degree</td>\n",
       "      <td>standard</td>\n",
       "      <td>completed</td>\n",
       "      <td>96</td>\n",
       "      <td>90</td>\n",
       "      <td>92</td>\n",
       "    </tr>\n",
       "    <tr>\n",
       "      <th>566</th>\n",
       "      <td>female</td>\n",
       "      <td>group E</td>\n",
       "      <td>bachelor's degree</td>\n",
       "      <td>free/reduced</td>\n",
       "      <td>completed</td>\n",
       "      <td>92</td>\n",
       "      <td>100</td>\n",
       "      <td>100</td>\n",
       "    </tr>\n",
       "    <tr>\n",
       "      <th>571</th>\n",
       "      <td>male</td>\n",
       "      <td>group A</td>\n",
       "      <td>bachelor's degree</td>\n",
       "      <td>standard</td>\n",
       "      <td>none</td>\n",
       "      <td>91</td>\n",
       "      <td>96</td>\n",
       "      <td>92</td>\n",
       "    </tr>\n",
       "    <tr>\n",
       "      <th>594</th>\n",
       "      <td>female</td>\n",
       "      <td>group C</td>\n",
       "      <td>bachelor's degree</td>\n",
       "      <td>standard</td>\n",
       "      <td>completed</td>\n",
       "      <td>92</td>\n",
       "      <td>100</td>\n",
       "      <td>99</td>\n",
       "    </tr>\n",
       "    <tr>\n",
       "      <th>612</th>\n",
       "      <td>male</td>\n",
       "      <td>group C</td>\n",
       "      <td>bachelor's degree</td>\n",
       "      <td>standard</td>\n",
       "      <td>completed</td>\n",
       "      <td>94</td>\n",
       "      <td>90</td>\n",
       "      <td>91</td>\n",
       "    </tr>\n",
       "    <tr>\n",
       "      <th>618</th>\n",
       "      <td>male</td>\n",
       "      <td>group D</td>\n",
       "      <td>master's degree</td>\n",
       "      <td>standard</td>\n",
       "      <td>none</td>\n",
       "      <td>95</td>\n",
       "      <td>81</td>\n",
       "      <td>84</td>\n",
       "    </tr>\n",
       "    <tr>\n",
       "      <th>623</th>\n",
       "      <td>male</td>\n",
       "      <td>group A</td>\n",
       "      <td>some college</td>\n",
       "      <td>standard</td>\n",
       "      <td>completed</td>\n",
       "      <td>100</td>\n",
       "      <td>96</td>\n",
       "      <td>86</td>\n",
       "    </tr>\n",
       "    <tr>\n",
       "      <th>625</th>\n",
       "      <td>male</td>\n",
       "      <td>group D</td>\n",
       "      <td>some college</td>\n",
       "      <td>standard</td>\n",
       "      <td>completed</td>\n",
       "      <td>100</td>\n",
       "      <td>97</td>\n",
       "      <td>99</td>\n",
       "    </tr>\n",
       "    <tr>\n",
       "      <th>659</th>\n",
       "      <td>male</td>\n",
       "      <td>group D</td>\n",
       "      <td>associate's degree</td>\n",
       "      <td>standard</td>\n",
       "      <td>none</td>\n",
       "      <td>90</td>\n",
       "      <td>87</td>\n",
       "      <td>85</td>\n",
       "    </tr>\n",
       "    <tr>\n",
       "      <th>685</th>\n",
       "      <td>female</td>\n",
       "      <td>group E</td>\n",
       "      <td>master's degree</td>\n",
       "      <td>standard</td>\n",
       "      <td>completed</td>\n",
       "      <td>94</td>\n",
       "      <td>99</td>\n",
       "      <td>100</td>\n",
       "    </tr>\n",
       "    <tr>\n",
       "      <th>689</th>\n",
       "      <td>male</td>\n",
       "      <td>group E</td>\n",
       "      <td>some college</td>\n",
       "      <td>free/reduced</td>\n",
       "      <td>none</td>\n",
       "      <td>93</td>\n",
       "      <td>90</td>\n",
       "      <td>83</td>\n",
       "    </tr>\n",
       "    <tr>\n",
       "      <th>710</th>\n",
       "      <td>male</td>\n",
       "      <td>group C</td>\n",
       "      <td>some college</td>\n",
       "      <td>standard</td>\n",
       "      <td>completed</td>\n",
       "      <td>93</td>\n",
       "      <td>84</td>\n",
       "      <td>90</td>\n",
       "    </tr>\n",
       "    <tr>\n",
       "      <th>712</th>\n",
       "      <td>female</td>\n",
       "      <td>group D</td>\n",
       "      <td>some college</td>\n",
       "      <td>standard</td>\n",
       "      <td>none</td>\n",
       "      <td>98</td>\n",
       "      <td>100</td>\n",
       "      <td>99</td>\n",
       "    </tr>\n",
       "    <tr>\n",
       "      <th>717</th>\n",
       "      <td>female</td>\n",
       "      <td>group C</td>\n",
       "      <td>associate's degree</td>\n",
       "      <td>standard</td>\n",
       "      <td>completed</td>\n",
       "      <td>96</td>\n",
       "      <td>96</td>\n",
       "      <td>99</td>\n",
       "    </tr>\n",
       "    <tr>\n",
       "      <th>719</th>\n",
       "      <td>male</td>\n",
       "      <td>group E</td>\n",
       "      <td>associate's degree</td>\n",
       "      <td>free/reduced</td>\n",
       "      <td>completed</td>\n",
       "      <td>91</td>\n",
       "      <td>73</td>\n",
       "      <td>80</td>\n",
       "    </tr>\n",
       "    <tr>\n",
       "      <th>736</th>\n",
       "      <td>male</td>\n",
       "      <td>group C</td>\n",
       "      <td>associate's degree</td>\n",
       "      <td>standard</td>\n",
       "      <td>none</td>\n",
       "      <td>92</td>\n",
       "      <td>79</td>\n",
       "      <td>84</td>\n",
       "    </tr>\n",
       "    <tr>\n",
       "      <th>779</th>\n",
       "      <td>male</td>\n",
       "      <td>group E</td>\n",
       "      <td>associate's degree</td>\n",
       "      <td>standard</td>\n",
       "      <td>completed</td>\n",
       "      <td>94</td>\n",
       "      <td>85</td>\n",
       "      <td>82</td>\n",
       "    </tr>\n",
       "    <tr>\n",
       "      <th>784</th>\n",
       "      <td>male</td>\n",
       "      <td>group C</td>\n",
       "      <td>bachelor's degree</td>\n",
       "      <td>standard</td>\n",
       "      <td>completed</td>\n",
       "      <td>91</td>\n",
       "      <td>81</td>\n",
       "      <td>79</td>\n",
       "    </tr>\n",
       "    <tr>\n",
       "      <th>808</th>\n",
       "      <td>male</td>\n",
       "      <td>group C</td>\n",
       "      <td>high school</td>\n",
       "      <td>standard</td>\n",
       "      <td>none</td>\n",
       "      <td>90</td>\n",
       "      <td>75</td>\n",
       "      <td>69</td>\n",
       "    </tr>\n",
       "    <tr>\n",
       "      <th>815</th>\n",
       "      <td>male</td>\n",
       "      <td>group B</td>\n",
       "      <td>some high school</td>\n",
       "      <td>standard</td>\n",
       "      <td>completed</td>\n",
       "      <td>94</td>\n",
       "      <td>86</td>\n",
       "      <td>87</td>\n",
       "    </tr>\n",
       "    <tr>\n",
       "      <th>845</th>\n",
       "      <td>male</td>\n",
       "      <td>group E</td>\n",
       "      <td>master's degree</td>\n",
       "      <td>standard</td>\n",
       "      <td>none</td>\n",
       "      <td>90</td>\n",
       "      <td>85</td>\n",
       "      <td>84</td>\n",
       "    </tr>\n",
       "    <tr>\n",
       "      <th>846</th>\n",
       "      <td>male</td>\n",
       "      <td>group C</td>\n",
       "      <td>master's degree</td>\n",
       "      <td>standard</td>\n",
       "      <td>completed</td>\n",
       "      <td>91</td>\n",
       "      <td>85</td>\n",
       "      <td>85</td>\n",
       "    </tr>\n",
       "    <tr>\n",
       "      <th>855</th>\n",
       "      <td>female</td>\n",
       "      <td>group B</td>\n",
       "      <td>bachelor's degree</td>\n",
       "      <td>standard</td>\n",
       "      <td>none</td>\n",
       "      <td>97</td>\n",
       "      <td>97</td>\n",
       "      <td>96</td>\n",
       "    </tr>\n",
       "    <tr>\n",
       "      <th>864</th>\n",
       "      <td>male</td>\n",
       "      <td>group C</td>\n",
       "      <td>associate's degree</td>\n",
       "      <td>standard</td>\n",
       "      <td>none</td>\n",
       "      <td>97</td>\n",
       "      <td>93</td>\n",
       "      <td>91</td>\n",
       "    </tr>\n",
       "    <tr>\n",
       "      <th>873</th>\n",
       "      <td>male</td>\n",
       "      <td>group E</td>\n",
       "      <td>associate's degree</td>\n",
       "      <td>free/reduced</td>\n",
       "      <td>none</td>\n",
       "      <td>90</td>\n",
       "      <td>90</td>\n",
       "      <td>82</td>\n",
       "    </tr>\n",
       "    <tr>\n",
       "      <th>886</th>\n",
       "      <td>female</td>\n",
       "      <td>group E</td>\n",
       "      <td>associate's degree</td>\n",
       "      <td>standard</td>\n",
       "      <td>completed</td>\n",
       "      <td>93</td>\n",
       "      <td>100</td>\n",
       "      <td>95</td>\n",
       "    </tr>\n",
       "    <tr>\n",
       "      <th>903</th>\n",
       "      <td>female</td>\n",
       "      <td>group D</td>\n",
       "      <td>bachelor's degree</td>\n",
       "      <td>free/reduced</td>\n",
       "      <td>completed</td>\n",
       "      <td>93</td>\n",
       "      <td>100</td>\n",
       "      <td>100</td>\n",
       "    </tr>\n",
       "    <tr>\n",
       "      <th>916</th>\n",
       "      <td>male</td>\n",
       "      <td>group E</td>\n",
       "      <td>bachelor's degree</td>\n",
       "      <td>standard</td>\n",
       "      <td>completed</td>\n",
       "      <td>100</td>\n",
       "      <td>100</td>\n",
       "      <td>100</td>\n",
       "    </tr>\n",
       "    <tr>\n",
       "      <th>919</th>\n",
       "      <td>male</td>\n",
       "      <td>group B</td>\n",
       "      <td>some college</td>\n",
       "      <td>standard</td>\n",
       "      <td>completed</td>\n",
       "      <td>91</td>\n",
       "      <td>96</td>\n",
       "      <td>91</td>\n",
       "    </tr>\n",
       "    <tr>\n",
       "      <th>934</th>\n",
       "      <td>male</td>\n",
       "      <td>group C</td>\n",
       "      <td>associate's degree</td>\n",
       "      <td>standard</td>\n",
       "      <td>completed</td>\n",
       "      <td>98</td>\n",
       "      <td>87</td>\n",
       "      <td>90</td>\n",
       "    </tr>\n",
       "    <tr>\n",
       "      <th>950</th>\n",
       "      <td>male</td>\n",
       "      <td>group E</td>\n",
       "      <td>high school</td>\n",
       "      <td>standard</td>\n",
       "      <td>none</td>\n",
       "      <td>94</td>\n",
       "      <td>73</td>\n",
       "      <td>71</td>\n",
       "    </tr>\n",
       "    <tr>\n",
       "      <th>957</th>\n",
       "      <td>female</td>\n",
       "      <td>group D</td>\n",
       "      <td>master's degree</td>\n",
       "      <td>standard</td>\n",
       "      <td>none</td>\n",
       "      <td>92</td>\n",
       "      <td>100</td>\n",
       "      <td>100</td>\n",
       "    </tr>\n",
       "    <tr>\n",
       "      <th>962</th>\n",
       "      <td>female</td>\n",
       "      <td>group E</td>\n",
       "      <td>associate's degree</td>\n",
       "      <td>standard</td>\n",
       "      <td>none</td>\n",
       "      <td>100</td>\n",
       "      <td>100</td>\n",
       "      <td>100</td>\n",
       "    </tr>\n",
       "    <tr>\n",
       "      <th>979</th>\n",
       "      <td>female</td>\n",
       "      <td>group C</td>\n",
       "      <td>associate's degree</td>\n",
       "      <td>standard</td>\n",
       "      <td>none</td>\n",
       "      <td>91</td>\n",
       "      <td>95</td>\n",
       "      <td>94</td>\n",
       "    </tr>\n",
       "  </tbody>\n",
       "</table>\n",
       "</div>"
      ],
      "text/plain": [
       "     gender race/ethnicity parental level of education         lunch  \\\n",
       "2    female        group B             master's degree      standard   \n",
       "34     male        group E                some college      standard   \n",
       "104    male        group C                some college      standard   \n",
       "114  female        group E           bachelor's degree      standard   \n",
       "121    male        group B          associate's degree      standard   \n",
       "149    male        group E          associate's degree  free/reduced   \n",
       "165  female        group C           bachelor's degree      standard   \n",
       "171    male        group E            some high school      standard   \n",
       "179  female        group D            some high school      standard   \n",
       "233    male        group E            some high school      standard   \n",
       "263  female        group E                 high school      standard   \n",
       "286    male        group E          associate's degree      standard   \n",
       "299    male        group D          associate's degree  free/reduced   \n",
       "306    male        group E                some college      standard   \n",
       "333    male        group B          associate's degree      standard   \n",
       "451  female        group E                some college      standard   \n",
       "458  female        group E           bachelor's degree      standard   \n",
       "469    male        group C                some college      standard   \n",
       "474  female        group B          associate's degree      standard   \n",
       "501  female        group B          associate's degree      standard   \n",
       "503  female        group E          associate's degree      standard   \n",
       "521  female        group C          associate's degree      standard   \n",
       "539    male        group A          associate's degree      standard   \n",
       "546  female        group A            some high school      standard   \n",
       "562    male        group C           bachelor's degree      standard   \n",
       "566  female        group E           bachelor's degree  free/reduced   \n",
       "571    male        group A           bachelor's degree      standard   \n",
       "594  female        group C           bachelor's degree      standard   \n",
       "612    male        group C           bachelor's degree      standard   \n",
       "618    male        group D             master's degree      standard   \n",
       "623    male        group A                some college      standard   \n",
       "625    male        group D                some college      standard   \n",
       "659    male        group D          associate's degree      standard   \n",
       "685  female        group E             master's degree      standard   \n",
       "689    male        group E                some college  free/reduced   \n",
       "710    male        group C                some college      standard   \n",
       "712  female        group D                some college      standard   \n",
       "717  female        group C          associate's degree      standard   \n",
       "719    male        group E          associate's degree  free/reduced   \n",
       "736    male        group C          associate's degree      standard   \n",
       "779    male        group E          associate's degree      standard   \n",
       "784    male        group C           bachelor's degree      standard   \n",
       "808    male        group C                 high school      standard   \n",
       "815    male        group B            some high school      standard   \n",
       "845    male        group E             master's degree      standard   \n",
       "846    male        group C             master's degree      standard   \n",
       "855  female        group B           bachelor's degree      standard   \n",
       "864    male        group C          associate's degree      standard   \n",
       "873    male        group E          associate's degree  free/reduced   \n",
       "886  female        group E          associate's degree      standard   \n",
       "903  female        group D           bachelor's degree  free/reduced   \n",
       "916    male        group E           bachelor's degree      standard   \n",
       "919    male        group B                some college      standard   \n",
       "934    male        group C          associate's degree      standard   \n",
       "950    male        group E                 high school      standard   \n",
       "957  female        group D             master's degree      standard   \n",
       "962  female        group E          associate's degree      standard   \n",
       "979  female        group C          associate's degree      standard   \n",
       "\n",
       "    test preparation course  math score  reading score  writing score  \n",
       "2                      none          90             95             93  \n",
       "34                     none          97             87             82  \n",
       "104               completed          98             86             90  \n",
       "114               completed          99            100            100  \n",
       "121               completed          91             89             92  \n",
       "149               completed         100            100             93  \n",
       "165               completed          96            100            100  \n",
       "171                    none          94             88             78  \n",
       "179               completed          97            100            100  \n",
       "233                    none          92             87             78  \n",
       "263                    none          99             93             90  \n",
       "286               completed          97             82             88  \n",
       "299                    none          90             87             75  \n",
       "306               completed          99             87             81  \n",
       "333                    none          90             78             81  \n",
       "451                    none         100             92             97  \n",
       "458                    none         100            100            100  \n",
       "469                    none          91             74             76  \n",
       "474               completed          90             90             91  \n",
       "501               completed          94             87             92  \n",
       "503               completed          95             89             92  \n",
       "521                    none          91             86             84  \n",
       "539               completed          97             92             86  \n",
       "546               completed          92            100             97  \n",
       "562               completed          96             90             92  \n",
       "566               completed          92            100            100  \n",
       "571                    none          91             96             92  \n",
       "594               completed          92            100             99  \n",
       "612               completed          94             90             91  \n",
       "618                    none          95             81             84  \n",
       "623               completed         100             96             86  \n",
       "625               completed         100             97             99  \n",
       "659                    none          90             87             85  \n",
       "685               completed          94             99            100  \n",
       "689                    none          93             90             83  \n",
       "710               completed          93             84             90  \n",
       "712                    none          98            100             99  \n",
       "717               completed          96             96             99  \n",
       "719               completed          91             73             80  \n",
       "736                    none          92             79             84  \n",
       "779               completed          94             85             82  \n",
       "784               completed          91             81             79  \n",
       "808                    none          90             75             69  \n",
       "815               completed          94             86             87  \n",
       "845                    none          90             85             84  \n",
       "846               completed          91             85             85  \n",
       "855                    none          97             97             96  \n",
       "864                    none          97             93             91  \n",
       "873                    none          90             90             82  \n",
       "886               completed          93            100             95  \n",
       "903               completed          93            100            100  \n",
       "916               completed         100            100            100  \n",
       "919               completed          91             96             91  \n",
       "934               completed          98             87             90  \n",
       "950                    none          94             73             71  \n",
       "957                    none          92            100            100  \n",
       "962                    none         100            100            100  \n",
       "979                    none          91             95             94  "
      ]
     },
     "execution_count": 75,
     "metadata": {},
     "output_type": "execute_result"
    }
   ],
   "source": [
    "# 3.df_sp에서 math score가 90이상인 관측치 선택하기\n",
    "\n",
    "df_sp[df_sp['math score'] >= 90]"
   ]
  },
  {
   "cell_type": "code",
   "execution_count": 76,
   "metadata": {
    "id": "HUlgJDl_MacH"
   },
   "outputs": [
    {
     "data": {
      "text/html": [
       "<div>\n",
       "<style scoped>\n",
       "    .dataframe tbody tr th:only-of-type {\n",
       "        vertical-align: middle;\n",
       "    }\n",
       "\n",
       "    .dataframe tbody tr th {\n",
       "        vertical-align: top;\n",
       "    }\n",
       "\n",
       "    .dataframe thead th {\n",
       "        text-align: right;\n",
       "    }\n",
       "</style>\n",
       "<table border=\"1\" class=\"dataframe\">\n",
       "  <thead>\n",
       "    <tr style=\"text-align: right;\">\n",
       "      <th></th>\n",
       "      <th>gender</th>\n",
       "      <th>race/ethnicity</th>\n",
       "      <th>parental level of education</th>\n",
       "      <th>lunch</th>\n",
       "      <th>test preparation course</th>\n",
       "      <th>math score</th>\n",
       "      <th>reading score</th>\n",
       "      <th>writing score</th>\n",
       "    </tr>\n",
       "  </thead>\n",
       "  <tbody>\n",
       "    <tr>\n",
       "      <th>0</th>\n",
       "      <td>female</td>\n",
       "      <td>group B</td>\n",
       "      <td>bachelor's degree</td>\n",
       "      <td>standard</td>\n",
       "      <td>none</td>\n",
       "      <td>72</td>\n",
       "      <td>72</td>\n",
       "      <td>74</td>\n",
       "    </tr>\n",
       "    <tr>\n",
       "      <th>1</th>\n",
       "      <td>female</td>\n",
       "      <td>group C</td>\n",
       "      <td>some college</td>\n",
       "      <td>standard</td>\n",
       "      <td>completed</td>\n",
       "      <td>69</td>\n",
       "      <td>90</td>\n",
       "      <td>88</td>\n",
       "    </tr>\n",
       "    <tr>\n",
       "      <th>2</th>\n",
       "      <td>female</td>\n",
       "      <td>group B</td>\n",
       "      <td>master's degree</td>\n",
       "      <td>standard</td>\n",
       "      <td>none</td>\n",
       "      <td>90</td>\n",
       "      <td>95</td>\n",
       "      <td>93</td>\n",
       "    </tr>\n",
       "    <tr>\n",
       "      <th>5</th>\n",
       "      <td>female</td>\n",
       "      <td>group B</td>\n",
       "      <td>associate's degree</td>\n",
       "      <td>standard</td>\n",
       "      <td>none</td>\n",
       "      <td>71</td>\n",
       "      <td>83</td>\n",
       "      <td>78</td>\n",
       "    </tr>\n",
       "    <tr>\n",
       "      <th>6</th>\n",
       "      <td>female</td>\n",
       "      <td>group B</td>\n",
       "      <td>some college</td>\n",
       "      <td>standard</td>\n",
       "      <td>completed</td>\n",
       "      <td>88</td>\n",
       "      <td>95</td>\n",
       "      <td>92</td>\n",
       "    </tr>\n",
       "    <tr>\n",
       "      <th>...</th>\n",
       "      <td>...</td>\n",
       "      <td>...</td>\n",
       "      <td>...</td>\n",
       "      <td>...</td>\n",
       "      <td>...</td>\n",
       "      <td>...</td>\n",
       "      <td>...</td>\n",
       "      <td>...</td>\n",
       "    </tr>\n",
       "    <tr>\n",
       "      <th>993</th>\n",
       "      <td>female</td>\n",
       "      <td>group D</td>\n",
       "      <td>bachelor's degree</td>\n",
       "      <td>free/reduced</td>\n",
       "      <td>none</td>\n",
       "      <td>62</td>\n",
       "      <td>72</td>\n",
       "      <td>74</td>\n",
       "    </tr>\n",
       "    <tr>\n",
       "      <th>995</th>\n",
       "      <td>female</td>\n",
       "      <td>group E</td>\n",
       "      <td>master's degree</td>\n",
       "      <td>standard</td>\n",
       "      <td>completed</td>\n",
       "      <td>88</td>\n",
       "      <td>99</td>\n",
       "      <td>95</td>\n",
       "    </tr>\n",
       "    <tr>\n",
       "      <th>997</th>\n",
       "      <td>female</td>\n",
       "      <td>group C</td>\n",
       "      <td>high school</td>\n",
       "      <td>free/reduced</td>\n",
       "      <td>completed</td>\n",
       "      <td>59</td>\n",
       "      <td>71</td>\n",
       "      <td>65</td>\n",
       "    </tr>\n",
       "    <tr>\n",
       "      <th>998</th>\n",
       "      <td>female</td>\n",
       "      <td>group D</td>\n",
       "      <td>some college</td>\n",
       "      <td>standard</td>\n",
       "      <td>completed</td>\n",
       "      <td>68</td>\n",
       "      <td>78</td>\n",
       "      <td>77</td>\n",
       "    </tr>\n",
       "    <tr>\n",
       "      <th>999</th>\n",
       "      <td>female</td>\n",
       "      <td>group D</td>\n",
       "      <td>some college</td>\n",
       "      <td>free/reduced</td>\n",
       "      <td>none</td>\n",
       "      <td>77</td>\n",
       "      <td>86</td>\n",
       "      <td>86</td>\n",
       "    </tr>\n",
       "  </tbody>\n",
       "</table>\n",
       "<p>518 rows × 8 columns</p>\n",
       "</div>"
      ],
      "text/plain": [
       "     gender race/ethnicity parental level of education         lunch  \\\n",
       "0    female        group B           bachelor's degree      standard   \n",
       "1    female        group C                some college      standard   \n",
       "2    female        group B             master's degree      standard   \n",
       "5    female        group B          associate's degree      standard   \n",
       "6    female        group B                some college      standard   \n",
       "..      ...            ...                         ...           ...   \n",
       "993  female        group D           bachelor's degree  free/reduced   \n",
       "995  female        group E             master's degree      standard   \n",
       "997  female        group C                 high school  free/reduced   \n",
       "998  female        group D                some college      standard   \n",
       "999  female        group D                some college  free/reduced   \n",
       "\n",
       "    test preparation course  math score  reading score  writing score  \n",
       "0                      none          72             72             74  \n",
       "1                 completed          69             90             88  \n",
       "2                      none          90             95             93  \n",
       "5                      none          71             83             78  \n",
       "6                 completed          88             95             92  \n",
       "..                      ...         ...            ...            ...  \n",
       "993                    none          62             72             74  \n",
       "995               completed          88             99             95  \n",
       "997               completed          59             71             65  \n",
       "998               completed          68             78             77  \n",
       "999                    none          77             86             86  \n",
       "\n",
       "[518 rows x 8 columns]"
      ]
     },
     "execution_count": 76,
     "metadata": {},
     "output_type": "execute_result"
    }
   ],
   "source": [
    "# 4.df_sp에서 gender가 'female'인 관측치 선택하기\n",
    "\n",
    "df_sp[df_sp['gender'] == 'female']"
   ]
  },
  {
   "cell_type": "markdown",
   "metadata": {
    "id": "L1rt6BCdMacH"
   },
   "source": [
    "<br>\n",
    "\n",
    "### 3.4. DataFrame 변형하기\n",
    "\n",
    "DataFrame에서 새로운 변수(열)를 추가하는 등의 변형이 가능\n"
   ]
  },
  {
   "cell_type": "code",
   "execution_count": 77,
   "metadata": {
    "id": "B4xQWWi7MacI"
   },
   "outputs": [
    {
     "data": {
      "text/html": [
       "<div>\n",
       "<style scoped>\n",
       "    .dataframe tbody tr th:only-of-type {\n",
       "        vertical-align: middle;\n",
       "    }\n",
       "\n",
       "    .dataframe tbody tr th {\n",
       "        vertical-align: top;\n",
       "    }\n",
       "\n",
       "    .dataframe thead th {\n",
       "        text-align: right;\n",
       "    }\n",
       "</style>\n",
       "<table border=\"1\" class=\"dataframe\">\n",
       "  <thead>\n",
       "    <tr style=\"text-align: right;\">\n",
       "      <th></th>\n",
       "      <th>Height</th>\n",
       "      <th>Weight</th>\n",
       "      <th>Age</th>\n",
       "      <th>Gender</th>\n",
       "      <th>Smokes</th>\n",
       "      <th>Alcohol</th>\n",
       "      <th>Exercise</th>\n",
       "      <th>Ran</th>\n",
       "      <th>Pulse1</th>\n",
       "      <th>Pulse2</th>\n",
       "      <th>Year</th>\n",
       "      <th>BMI</th>\n",
       "    </tr>\n",
       "  </thead>\n",
       "  <tbody>\n",
       "    <tr>\n",
       "      <th>0</th>\n",
       "      <td>173</td>\n",
       "      <td>57.0</td>\n",
       "      <td>18</td>\n",
       "      <td>2</td>\n",
       "      <td>2</td>\n",
       "      <td>1</td>\n",
       "      <td>2</td>\n",
       "      <td>2</td>\n",
       "      <td>86.0</td>\n",
       "      <td>88.0</td>\n",
       "      <td>93</td>\n",
       "      <td>19.045073</td>\n",
       "    </tr>\n",
       "    <tr>\n",
       "      <th>1</th>\n",
       "      <td>179</td>\n",
       "      <td>58.0</td>\n",
       "      <td>19</td>\n",
       "      <td>2</td>\n",
       "      <td>2</td>\n",
       "      <td>1</td>\n",
       "      <td>2</td>\n",
       "      <td>1</td>\n",
       "      <td>82.0</td>\n",
       "      <td>150.0</td>\n",
       "      <td>93</td>\n",
       "      <td>18.101807</td>\n",
       "    </tr>\n",
       "    <tr>\n",
       "      <th>2</th>\n",
       "      <td>167</td>\n",
       "      <td>62.0</td>\n",
       "      <td>18</td>\n",
       "      <td>2</td>\n",
       "      <td>2</td>\n",
       "      <td>1</td>\n",
       "      <td>1</td>\n",
       "      <td>1</td>\n",
       "      <td>96.0</td>\n",
       "      <td>176.0</td>\n",
       "      <td>93</td>\n",
       "      <td>22.230987</td>\n",
       "    </tr>\n",
       "    <tr>\n",
       "      <th>3</th>\n",
       "      <td>195</td>\n",
       "      <td>84.0</td>\n",
       "      <td>18</td>\n",
       "      <td>1</td>\n",
       "      <td>2</td>\n",
       "      <td>1</td>\n",
       "      <td>1</td>\n",
       "      <td>2</td>\n",
       "      <td>71.0</td>\n",
       "      <td>73.0</td>\n",
       "      <td>93</td>\n",
       "      <td>22.090730</td>\n",
       "    </tr>\n",
       "    <tr>\n",
       "      <th>4</th>\n",
       "      <td>173</td>\n",
       "      <td>64.0</td>\n",
       "      <td>18</td>\n",
       "      <td>2</td>\n",
       "      <td>2</td>\n",
       "      <td>1</td>\n",
       "      <td>3</td>\n",
       "      <td>2</td>\n",
       "      <td>90.0</td>\n",
       "      <td>88.0</td>\n",
       "      <td>93</td>\n",
       "      <td>21.383942</td>\n",
       "    </tr>\n",
       "    <tr>\n",
       "      <th>...</th>\n",
       "      <td>...</td>\n",
       "      <td>...</td>\n",
       "      <td>...</td>\n",
       "      <td>...</td>\n",
       "      <td>...</td>\n",
       "      <td>...</td>\n",
       "      <td>...</td>\n",
       "      <td>...</td>\n",
       "      <td>...</td>\n",
       "      <td>...</td>\n",
       "      <td>...</td>\n",
       "      <td>...</td>\n",
       "    </tr>\n",
       "    <tr>\n",
       "      <th>105</th>\n",
       "      <td>93</td>\n",
       "      <td>27.0</td>\n",
       "      <td>19</td>\n",
       "      <td>2</td>\n",
       "      <td>2</td>\n",
       "      <td>2</td>\n",
       "      <td>3</td>\n",
       "      <td>2</td>\n",
       "      <td>119.0</td>\n",
       "      <td>120.0</td>\n",
       "      <td>98</td>\n",
       "      <td>31.217482</td>\n",
       "    </tr>\n",
       "    <tr>\n",
       "      <th>106</th>\n",
       "      <td>161</td>\n",
       "      <td>43.0</td>\n",
       "      <td>19</td>\n",
       "      <td>2</td>\n",
       "      <td>2</td>\n",
       "      <td>2</td>\n",
       "      <td>3</td>\n",
       "      <td>2</td>\n",
       "      <td>90.0</td>\n",
       "      <td>89.0</td>\n",
       "      <td>98</td>\n",
       "      <td>16.588866</td>\n",
       "    </tr>\n",
       "    <tr>\n",
       "      <th>107</th>\n",
       "      <td>182</td>\n",
       "      <td>60.0</td>\n",
       "      <td>22</td>\n",
       "      <td>1</td>\n",
       "      <td>2</td>\n",
       "      <td>1</td>\n",
       "      <td>3</td>\n",
       "      <td>2</td>\n",
       "      <td>86.0</td>\n",
       "      <td>84.0</td>\n",
       "      <td>98</td>\n",
       "      <td>18.113754</td>\n",
       "    </tr>\n",
       "    <tr>\n",
       "      <th>108</th>\n",
       "      <td>170</td>\n",
       "      <td>65.0</td>\n",
       "      <td>18</td>\n",
       "      <td>1</td>\n",
       "      <td>2</td>\n",
       "      <td>1</td>\n",
       "      <td>1</td>\n",
       "      <td>2</td>\n",
       "      <td>69.0</td>\n",
       "      <td>64.0</td>\n",
       "      <td>98</td>\n",
       "      <td>22.491349</td>\n",
       "    </tr>\n",
       "    <tr>\n",
       "      <th>109</th>\n",
       "      <td>185</td>\n",
       "      <td>85.0</td>\n",
       "      <td>19</td>\n",
       "      <td>1</td>\n",
       "      <td>2</td>\n",
       "      <td>1</td>\n",
       "      <td>2</td>\n",
       "      <td>2</td>\n",
       "      <td>75.0</td>\n",
       "      <td>68.0</td>\n",
       "      <td>98</td>\n",
       "      <td>24.835646</td>\n",
       "    </tr>\n",
       "  </tbody>\n",
       "</table>\n",
       "<p>110 rows × 12 columns</p>\n",
       "</div>"
      ],
      "text/plain": [
       "     Height  Weight  Age  Gender  Smokes  Alcohol  Exercise  Ran  Pulse1  \\\n",
       "0       173    57.0   18       2       2        1         2    2    86.0   \n",
       "1       179    58.0   19       2       2        1         2    1    82.0   \n",
       "2       167    62.0   18       2       2        1         1    1    96.0   \n",
       "3       195    84.0   18       1       2        1         1    2    71.0   \n",
       "4       173    64.0   18       2       2        1         3    2    90.0   \n",
       "..      ...     ...  ...     ...     ...      ...       ...  ...     ...   \n",
       "105      93    27.0   19       2       2        2         3    2   119.0   \n",
       "106     161    43.0   19       2       2        2         3    2    90.0   \n",
       "107     182    60.0   22       1       2        1         3    2    86.0   \n",
       "108     170    65.0   18       1       2        1         1    2    69.0   \n",
       "109     185    85.0   19       1       2        1         2    2    75.0   \n",
       "\n",
       "     Pulse2  Year        BMI  \n",
       "0      88.0    93  19.045073  \n",
       "1     150.0    93  18.101807  \n",
       "2     176.0    93  22.230987  \n",
       "3      73.0    93  22.090730  \n",
       "4      88.0    93  21.383942  \n",
       "..      ...   ...        ...  \n",
       "105   120.0    98  31.217482  \n",
       "106    89.0    98  16.588866  \n",
       "107    84.0    98  18.113754  \n",
       "108    64.0    98  22.491349  \n",
       "109    68.0    98  24.835646  \n",
       "\n",
       "[110 rows x 12 columns]"
      ]
     },
     "execution_count": 77,
     "metadata": {},
     "output_type": "execute_result"
    }
   ],
   "source": [
    "# df_pr 변수 중 height와 weight 변수를 가지고 bmi 계산해서 df_pr에 BMI란 변수 이름으로 추가하기\n",
    "# BMI =  몸무게(kg)/(키(m)*키(m))\n",
    "df_pr.assign(BMI = (df_pr['Weight'] / ((df_pr['Height'] * 0.01) ** 2)))"
   ]
  },
  {
   "cell_type": "markdown",
   "metadata": {
    "id": "SwEv_4YrMacK"
   },
   "source": [
    "### [참고] list, np.array, pd.Series의 호환"
   ]
  },
  {
   "cell_type": "code",
   "execution_count": 78,
   "metadata": {
    "id": "uzCIygGcMacK"
   },
   "outputs": [
    {
     "data": {
      "text/plain": [
       "0       19\n",
       "1       18\n",
       "2       28\n",
       "3       33\n",
       "4       32\n",
       "        ..\n",
       "1333    50\n",
       "1334    18\n",
       "1335    18\n",
       "1336    21\n",
       "1337    61\n",
       "Name: age, Length: 1338, dtype: int64"
      ]
     },
     "execution_count": 78,
     "metadata": {},
     "output_type": "execute_result"
    }
   ],
   "source": [
    "# pandas의 Series\n",
    "df_ins['age']"
   ]
  },
  {
   "cell_type": "code",
   "execution_count": 79,
   "metadata": {
    "id": "FQ_AgFW1MacL"
   },
   "outputs": [
    {
     "data": {
      "text/plain": [
       "[19,\n",
       " 18,\n",
       " 28,\n",
       " 33,\n",
       " 32,\n",
       " 31,\n",
       " 46,\n",
       " 37,\n",
       " 37,\n",
       " 60,\n",
       " 25,\n",
       " 62,\n",
       " 23,\n",
       " 56,\n",
       " 27,\n",
       " 19,\n",
       " 52,\n",
       " 23,\n",
       " 56,\n",
       " 30,\n",
       " 60,\n",
       " 30,\n",
       " 18,\n",
       " 34,\n",
       " 37,\n",
       " 59,\n",
       " 63,\n",
       " 55,\n",
       " 23,\n",
       " 31,\n",
       " 22,\n",
       " 18,\n",
       " 19,\n",
       " 63,\n",
       " 28,\n",
       " 19,\n",
       " 62,\n",
       " 26,\n",
       " 35,\n",
       " 60,\n",
       " 24,\n",
       " 31,\n",
       " 41,\n",
       " 37,\n",
       " 38,\n",
       " 55,\n",
       " 18,\n",
       " 28,\n",
       " 60,\n",
       " 36,\n",
       " 18,\n",
       " 21,\n",
       " 48,\n",
       " 36,\n",
       " 40,\n",
       " 58,\n",
       " 58,\n",
       " 18,\n",
       " 53,\n",
       " 34,\n",
       " 43,\n",
       " 25,\n",
       " 64,\n",
       " 28,\n",
       " 20,\n",
       " 19,\n",
       " 61,\n",
       " 40,\n",
       " 40,\n",
       " 28,\n",
       " 27,\n",
       " 31,\n",
       " 53,\n",
       " 58,\n",
       " 44,\n",
       " 57,\n",
       " 29,\n",
       " 21,\n",
       " 22,\n",
       " 41,\n",
       " 31,\n",
       " 45,\n",
       " 22,\n",
       " 48,\n",
       " 37,\n",
       " 45,\n",
       " 57,\n",
       " 56,\n",
       " 46,\n",
       " 55,\n",
       " 21,\n",
       " 53,\n",
       " 59,\n",
       " 35,\n",
       " 64,\n",
       " 28,\n",
       " 54,\n",
       " 55,\n",
       " 56,\n",
       " 38,\n",
       " 41,\n",
       " 30,\n",
       " 18,\n",
       " 61,\n",
       " 34,\n",
       " 20,\n",
       " 19,\n",
       " 26,\n",
       " 29,\n",
       " 63,\n",
       " 54,\n",
       " 55,\n",
       " 37,\n",
       " 21,\n",
       " 52,\n",
       " 60,\n",
       " 58,\n",
       " 29,\n",
       " 49,\n",
       " 37,\n",
       " 44,\n",
       " 18,\n",
       " 20,\n",
       " 44,\n",
       " 47,\n",
       " 26,\n",
       " 19,\n",
       " 52,\n",
       " 32,\n",
       " 38,\n",
       " 59,\n",
       " 61,\n",
       " 53,\n",
       " 19,\n",
       " 20,\n",
       " 22,\n",
       " 19,\n",
       " 22,\n",
       " 54,\n",
       " 22,\n",
       " 34,\n",
       " 26,\n",
       " 34,\n",
       " 29,\n",
       " 30,\n",
       " 29,\n",
       " 46,\n",
       " 51,\n",
       " 53,\n",
       " 19,\n",
       " 35,\n",
       " 48,\n",
       " 32,\n",
       " 42,\n",
       " 40,\n",
       " 44,\n",
       " 48,\n",
       " 18,\n",
       " 30,\n",
       " 50,\n",
       " 42,\n",
       " 18,\n",
       " 54,\n",
       " 32,\n",
       " 37,\n",
       " 47,\n",
       " 20,\n",
       " 32,\n",
       " 19,\n",
       " 27,\n",
       " 63,\n",
       " 49,\n",
       " 18,\n",
       " 35,\n",
       " 24,\n",
       " 63,\n",
       " 38,\n",
       " 54,\n",
       " 46,\n",
       " 41,\n",
       " 58,\n",
       " 18,\n",
       " 22,\n",
       " 44,\n",
       " 44,\n",
       " 36,\n",
       " 26,\n",
       " 30,\n",
       " 41,\n",
       " 29,\n",
       " 61,\n",
       " 36,\n",
       " 25,\n",
       " 56,\n",
       " 18,\n",
       " 19,\n",
       " 39,\n",
       " 45,\n",
       " 51,\n",
       " 64,\n",
       " 19,\n",
       " 48,\n",
       " 60,\n",
       " 27,\n",
       " 46,\n",
       " 28,\n",
       " 59,\n",
       " 35,\n",
       " 63,\n",
       " 40,\n",
       " 20,\n",
       " 40,\n",
       " 24,\n",
       " 34,\n",
       " 45,\n",
       " 41,\n",
       " 53,\n",
       " 27,\n",
       " 26,\n",
       " 24,\n",
       " 34,\n",
       " 53,\n",
       " 32,\n",
       " 19,\n",
       " 42,\n",
       " 55,\n",
       " 28,\n",
       " 58,\n",
       " 41,\n",
       " 47,\n",
       " 42,\n",
       " 59,\n",
       " 19,\n",
       " 59,\n",
       " 39,\n",
       " 40,\n",
       " 18,\n",
       " 31,\n",
       " 19,\n",
       " 44,\n",
       " 23,\n",
       " 33,\n",
       " 55,\n",
       " 40,\n",
       " 63,\n",
       " 54,\n",
       " 60,\n",
       " 24,\n",
       " 19,\n",
       " 29,\n",
       " 18,\n",
       " 63,\n",
       " 54,\n",
       " 27,\n",
       " 50,\n",
       " 55,\n",
       " 56,\n",
       " 38,\n",
       " 51,\n",
       " 19,\n",
       " 58,\n",
       " 20,\n",
       " 52,\n",
       " 19,\n",
       " 53,\n",
       " 46,\n",
       " 40,\n",
       " 59,\n",
       " 45,\n",
       " 49,\n",
       " 18,\n",
       " 50,\n",
       " 41,\n",
       " 50,\n",
       " 25,\n",
       " 47,\n",
       " 19,\n",
       " 22,\n",
       " 59,\n",
       " 51,\n",
       " 40,\n",
       " 54,\n",
       " 30,\n",
       " 55,\n",
       " 52,\n",
       " 46,\n",
       " 46,\n",
       " 63,\n",
       " 59,\n",
       " 52,\n",
       " 28,\n",
       " 29,\n",
       " 25,\n",
       " 22,\n",
       " 25,\n",
       " 18,\n",
       " 19,\n",
       " 47,\n",
       " 31,\n",
       " 48,\n",
       " 36,\n",
       " 53,\n",
       " 56,\n",
       " 28,\n",
       " 57,\n",
       " 29,\n",
       " 28,\n",
       " 30,\n",
       " 58,\n",
       " 41,\n",
       " 50,\n",
       " 19,\n",
       " 43,\n",
       " 49,\n",
       " 27,\n",
       " 52,\n",
       " 50,\n",
       " 54,\n",
       " 44,\n",
       " 32,\n",
       " 34,\n",
       " 26,\n",
       " 34,\n",
       " 57,\n",
       " 29,\n",
       " 40,\n",
       " 27,\n",
       " 45,\n",
       " 64,\n",
       " 52,\n",
       " 61,\n",
       " 52,\n",
       " 61,\n",
       " 56,\n",
       " 43,\n",
       " 64,\n",
       " 60,\n",
       " 62,\n",
       " 50,\n",
       " 46,\n",
       " 24,\n",
       " 62,\n",
       " 60,\n",
       " 63,\n",
       " 49,\n",
       " 34,\n",
       " 33,\n",
       " 46,\n",
       " 36,\n",
       " 19,\n",
       " 57,\n",
       " 50,\n",
       " 30,\n",
       " 33,\n",
       " 18,\n",
       " 46,\n",
       " 46,\n",
       " 47,\n",
       " 23,\n",
       " 18,\n",
       " 48,\n",
       " 35,\n",
       " 19,\n",
       " 21,\n",
       " 21,\n",
       " 49,\n",
       " 56,\n",
       " 42,\n",
       " 44,\n",
       " 18,\n",
       " 61,\n",
       " 57,\n",
       " 42,\n",
       " 26,\n",
       " 20,\n",
       " 23,\n",
       " 39,\n",
       " 24,\n",
       " 64,\n",
       " 62,\n",
       " 27,\n",
       " 55,\n",
       " 55,\n",
       " 35,\n",
       " 44,\n",
       " 19,\n",
       " 58,\n",
       " 50,\n",
       " 26,\n",
       " 24,\n",
       " 48,\n",
       " 19,\n",
       " 48,\n",
       " 49,\n",
       " 46,\n",
       " 46,\n",
       " 43,\n",
       " 21,\n",
       " 64,\n",
       " 18,\n",
       " 51,\n",
       " 47,\n",
       " 64,\n",
       " 49,\n",
       " 31,\n",
       " 52,\n",
       " 33,\n",
       " 47,\n",
       " 38,\n",
       " 32,\n",
       " 19,\n",
       " 44,\n",
       " 26,\n",
       " 25,\n",
       " 19,\n",
       " 43,\n",
       " 52,\n",
       " 36,\n",
       " 64,\n",
       " 63,\n",
       " 64,\n",
       " 61,\n",
       " 40,\n",
       " 25,\n",
       " 48,\n",
       " 45,\n",
       " 38,\n",
       " 18,\n",
       " 21,\n",
       " 27,\n",
       " 19,\n",
       " 29,\n",
       " 42,\n",
       " 60,\n",
       " 31,\n",
       " 60,\n",
       " 22,\n",
       " 35,\n",
       " 52,\n",
       " 26,\n",
       " 31,\n",
       " 33,\n",
       " 18,\n",
       " 59,\n",
       " 56,\n",
       " 45,\n",
       " 60,\n",
       " 56,\n",
       " 40,\n",
       " 35,\n",
       " 39,\n",
       " 30,\n",
       " 24,\n",
       " 20,\n",
       " 32,\n",
       " 59,\n",
       " 55,\n",
       " 57,\n",
       " 56,\n",
       " 40,\n",
       " 49,\n",
       " 42,\n",
       " 62,\n",
       " 56,\n",
       " 19,\n",
       " 30,\n",
       " 60,\n",
       " 56,\n",
       " 28,\n",
       " 18,\n",
       " 27,\n",
       " 18,\n",
       " 19,\n",
       " 47,\n",
       " 54,\n",
       " 61,\n",
       " 24,\n",
       " 25,\n",
       " 21,\n",
       " 23,\n",
       " 63,\n",
       " 49,\n",
       " 18,\n",
       " 51,\n",
       " 48,\n",
       " 31,\n",
       " 54,\n",
       " 19,\n",
       " 44,\n",
       " 53,\n",
       " 19,\n",
       " 61,\n",
       " 18,\n",
       " 61,\n",
       " 21,\n",
       " 20,\n",
       " 31,\n",
       " 45,\n",
       " 44,\n",
       " 62,\n",
       " 29,\n",
       " 43,\n",
       " 51,\n",
       " 19,\n",
       " 38,\n",
       " 37,\n",
       " 22,\n",
       " 21,\n",
       " 24,\n",
       " 57,\n",
       " 56,\n",
       " 27,\n",
       " 51,\n",
       " 19,\n",
       " 39,\n",
       " 58,\n",
       " 20,\n",
       " 45,\n",
       " 35,\n",
       " 31,\n",
       " 50,\n",
       " 32,\n",
       " 51,\n",
       " 38,\n",
       " 42,\n",
       " 18,\n",
       " 19,\n",
       " 51,\n",
       " 46,\n",
       " 18,\n",
       " 57,\n",
       " 62,\n",
       " 59,\n",
       " 37,\n",
       " 64,\n",
       " 38,\n",
       " 33,\n",
       " 46,\n",
       " 46,\n",
       " 53,\n",
       " 34,\n",
       " 20,\n",
       " 63,\n",
       " 54,\n",
       " 54,\n",
       " 49,\n",
       " 28,\n",
       " 54,\n",
       " 25,\n",
       " 43,\n",
       " 63,\n",
       " 32,\n",
       " 62,\n",
       " 52,\n",
       " 25,\n",
       " 28,\n",
       " 46,\n",
       " 34,\n",
       " 35,\n",
       " 19,\n",
       " 46,\n",
       " 54,\n",
       " 27,\n",
       " 50,\n",
       " 18,\n",
       " 19,\n",
       " 38,\n",
       " 41,\n",
       " 49,\n",
       " 48,\n",
       " 31,\n",
       " 18,\n",
       " 30,\n",
       " 62,\n",
       " 57,\n",
       " 58,\n",
       " 22,\n",
       " 31,\n",
       " 52,\n",
       " 25,\n",
       " 59,\n",
       " 19,\n",
       " 39,\n",
       " 32,\n",
       " 19,\n",
       " 33,\n",
       " 21,\n",
       " 34,\n",
       " 61,\n",
       " 38,\n",
       " 58,\n",
       " 47,\n",
       " 20,\n",
       " 21,\n",
       " 41,\n",
       " 46,\n",
       " 42,\n",
       " 34,\n",
       " 43,\n",
       " 52,\n",
       " 18,\n",
       " 51,\n",
       " 56,\n",
       " 64,\n",
       " 19,\n",
       " 51,\n",
       " 27,\n",
       " 59,\n",
       " 28,\n",
       " 30,\n",
       " 47,\n",
       " 38,\n",
       " 18,\n",
       " 34,\n",
       " 20,\n",
       " 47,\n",
       " 56,\n",
       " 49,\n",
       " 19,\n",
       " 55,\n",
       " 30,\n",
       " 37,\n",
       " 49,\n",
       " 18,\n",
       " 59,\n",
       " 29,\n",
       " 36,\n",
       " 33,\n",
       " 58,\n",
       " 44,\n",
       " 53,\n",
       " 24,\n",
       " 29,\n",
       " 40,\n",
       " 51,\n",
       " 64,\n",
       " 19,\n",
       " 35,\n",
       " 39,\n",
       " 56,\n",
       " 33,\n",
       " 42,\n",
       " 61,\n",
       " 23,\n",
       " 43,\n",
       " 48,\n",
       " 39,\n",
       " 40,\n",
       " 18,\n",
       " 58,\n",
       " 49,\n",
       " 53,\n",
       " 48,\n",
       " 45,\n",
       " 59,\n",
       " 52,\n",
       " 26,\n",
       " 27,\n",
       " 48,\n",
       " 57,\n",
       " 37,\n",
       " 57,\n",
       " 32,\n",
       " 18,\n",
       " 64,\n",
       " 43,\n",
       " 49,\n",
       " 40,\n",
       " 62,\n",
       " 40,\n",
       " 30,\n",
       " 29,\n",
       " 36,\n",
       " 41,\n",
       " 44,\n",
       " 45,\n",
       " 55,\n",
       " 60,\n",
       " 56,\n",
       " 49,\n",
       " 21,\n",
       " 19,\n",
       " 39,\n",
       " 53,\n",
       " 33,\n",
       " 53,\n",
       " 42,\n",
       " 40,\n",
       " 47,\n",
       " 27,\n",
       " 21,\n",
       " 47,\n",
       " 20,\n",
       " 24,\n",
       " 27,\n",
       " 26,\n",
       " 53,\n",
       " 41,\n",
       " 56,\n",
       " 23,\n",
       " 21,\n",
       " 50,\n",
       " 53,\n",
       " 34,\n",
       " 47,\n",
       " 33,\n",
       " 51,\n",
       " 49,\n",
       " 31,\n",
       " 36,\n",
       " 18,\n",
       " 50,\n",
       " 43,\n",
       " 20,\n",
       " 24,\n",
       " 60,\n",
       " 49,\n",
       " 60,\n",
       " 51,\n",
       " 58,\n",
       " 51,\n",
       " 53,\n",
       " 62,\n",
       " 19,\n",
       " 50,\n",
       " 30,\n",
       " 41,\n",
       " 29,\n",
       " 18,\n",
       " 41,\n",
       " 35,\n",
       " 53,\n",
       " 24,\n",
       " 48,\n",
       " 59,\n",
       " 49,\n",
       " 37,\n",
       " 26,\n",
       " 23,\n",
       " 29,\n",
       " 45,\n",
       " 27,\n",
       " 53,\n",
       " 31,\n",
       " 50,\n",
       " 50,\n",
       " 34,\n",
       " 19,\n",
       " 47,\n",
       " 28,\n",
       " 37,\n",
       " 21,\n",
       " 64,\n",
       " 58,\n",
       " 24,\n",
       " 31,\n",
       " 39,\n",
       " 47,\n",
       " 30,\n",
       " 18,\n",
       " 22,\n",
       " 23,\n",
       " 33,\n",
       " 27,\n",
       " 45,\n",
       " 57,\n",
       " 47,\n",
       " 42,\n",
       " 64,\n",
       " 38,\n",
       " 61,\n",
       " 53,\n",
       " 44,\n",
       " 19,\n",
       " 41,\n",
       " 51,\n",
       " 40,\n",
       " 45,\n",
       " 35,\n",
       " 53,\n",
       " 30,\n",
       " 18,\n",
       " 51,\n",
       " 50,\n",
       " 31,\n",
       " 35,\n",
       " 60,\n",
       " 21,\n",
       " 29,\n",
       " 62,\n",
       " 39,\n",
       " 19,\n",
       " 22,\n",
       " 53,\n",
       " 39,\n",
       " 27,\n",
       " 30,\n",
       " 30,\n",
       " 58,\n",
       " 33,\n",
       " 42,\n",
       " 64,\n",
       " 21,\n",
       " 18,\n",
       " 23,\n",
       " 45,\n",
       " 40,\n",
       " 19,\n",
       " 18,\n",
       " 25,\n",
       " 46,\n",
       " 33,\n",
       " 54,\n",
       " 28,\n",
       " 36,\n",
       " 20,\n",
       " 24,\n",
       " 23,\n",
       " 47,\n",
       " 33,\n",
       " 45,\n",
       " 26,\n",
       " 18,\n",
       " 44,\n",
       " 60,\n",
       " 64,\n",
       " 56,\n",
       " 36,\n",
       " 41,\n",
       " 39,\n",
       " 63,\n",
       " 36,\n",
       " 28,\n",
       " 58,\n",
       " 36,\n",
       " 42,\n",
       " 36,\n",
       " 56,\n",
       " 35,\n",
       " 59,\n",
       " 21,\n",
       " 59,\n",
       " 23,\n",
       " 57,\n",
       " 53,\n",
       " 60,\n",
       " 51,\n",
       " 23,\n",
       " 27,\n",
       " 55,\n",
       " 37,\n",
       " 61,\n",
       " 46,\n",
       " 53,\n",
       " 49,\n",
       " 20,\n",
       " 48,\n",
       " 25,\n",
       " 25,\n",
       " 57,\n",
       " 37,\n",
       " 38,\n",
       " 55,\n",
       " 36,\n",
       " 51,\n",
       " 40,\n",
       " 18,\n",
       " 57,\n",
       " 61,\n",
       " 25,\n",
       " 50,\n",
       " 26,\n",
       " 42,\n",
       " 43,\n",
       " 44,\n",
       " 23,\n",
       " 49,\n",
       " 33,\n",
       " 41,\n",
       " 37,\n",
       " 22,\n",
       " 23,\n",
       " 21,\n",
       " 51,\n",
       " 25,\n",
       " 32,\n",
       " 57,\n",
       " 36,\n",
       " 22,\n",
       " 57,\n",
       " 64,\n",
       " 36,\n",
       " 54,\n",
       " 47,\n",
       " 62,\n",
       " 61,\n",
       " 43,\n",
       " 19,\n",
       " 18,\n",
       " 19,\n",
       " 49,\n",
       " 60,\n",
       " 26,\n",
       " 49,\n",
       " 60,\n",
       " 26,\n",
       " 27,\n",
       " 44,\n",
       " 63,\n",
       " 32,\n",
       " 22,\n",
       " 18,\n",
       " 59,\n",
       " 44,\n",
       " 33,\n",
       " 24,\n",
       " 43,\n",
       " 45,\n",
       " 61,\n",
       " 35,\n",
       " 62,\n",
       " 62,\n",
       " 38,\n",
       " 34,\n",
       " 43,\n",
       " 50,\n",
       " 19,\n",
       " 57,\n",
       " 62,\n",
       " 41,\n",
       " 26,\n",
       " 39,\n",
       " 46,\n",
       " 45,\n",
       " 32,\n",
       " 59,\n",
       " 44,\n",
       " 39,\n",
       " 18,\n",
       " 53,\n",
       " 18,\n",
       " 50,\n",
       " 18,\n",
       " 19,\n",
       " 62,\n",
       " 56,\n",
       " 42,\n",
       " 37,\n",
       " 42,\n",
       " 25,\n",
       " 57,\n",
       " 51,\n",
       " 30,\n",
       " 44,\n",
       " 34,\n",
       " 31,\n",
       " 54,\n",
       " 24,\n",
       " 43,\n",
       " 48,\n",
       " 19,\n",
       " 29,\n",
       " 63,\n",
       " 46,\n",
       " 52,\n",
       " 35,\n",
       " 51,\n",
       " 44,\n",
       " 21,\n",
       " 39,\n",
       " 50,\n",
       " 34,\n",
       " 22,\n",
       " 19,\n",
       " 26,\n",
       " 29,\n",
       " 48,\n",
       " 26,\n",
       " 45,\n",
       " 36,\n",
       " 54,\n",
       " 34,\n",
       " 31,\n",
       " 27,\n",
       " 20,\n",
       " 44,\n",
       " 43,\n",
       " 45,\n",
       " 34,\n",
       " 24,\n",
       " 26,\n",
       " 38,\n",
       " 50,\n",
       " 38,\n",
       " 27,\n",
       " 39,\n",
       " 39,\n",
       " 63,\n",
       " 33,\n",
       " 36,\n",
       " ...]"
      ]
     },
     "execution_count": 79,
     "metadata": {},
     "output_type": "execute_result"
    }
   ],
   "source": [
    "# Series의 list 변환 - 2가지 방법\n",
    "list(df_ins['age'])\n",
    "df_ins['age'].to_list()\n",
    "# 결과출력 창이 길어서 생략"
   ]
  },
  {
   "cell_type": "code",
   "execution_count": 80,
   "metadata": {
    "id": "_L405IgPMacM"
   },
   "outputs": [
    {
     "data": {
      "text/plain": [
       "array([19, 18, 28, ..., 18, 21, 61], dtype=int64)"
      ]
     },
     "execution_count": 80,
     "metadata": {},
     "output_type": "execute_result"
    }
   ],
   "source": [
    "# Series의 np.array 변환 - 2가지 방법\n",
    "np.array(df_ins['age'])\n",
    "df_ins['age'].to_numpy()"
   ]
  },
  {
   "cell_type": "code",
   "execution_count": 81,
   "metadata": {
    "id": "DMTu9BX9MacM"
   },
   "outputs": [
    {
     "data": {
      "text/plain": [
       "0    A\n",
       "1    B\n",
       "2    B\n",
       "3    A\n",
       "dtype: object"
      ]
     },
     "execution_count": 81,
     "metadata": {},
     "output_type": "execute_result"
    }
   ],
   "source": [
    "# list의 Series 변환\n",
    "pd.Series(['A','B','B','A'])"
   ]
  },
  {
   "cell_type": "code",
   "execution_count": 82,
   "metadata": {
    "id": "hrUpUYC_MacM"
   },
   "outputs": [
    {
     "data": {
      "text/plain": [
       "39.20702541106129"
      ]
     },
     "execution_count": 82,
     "metadata": {},
     "output_type": "execute_result"
    }
   ],
   "source": [
    "# Series의 .mean() 활용 평균 계산\n",
    "df_ins['age'].mean()"
   ]
  },
  {
   "cell_type": "code",
   "execution_count": 83,
   "metadata": {
    "id": "gZawZlRuMacN"
   },
   "outputs": [
    {
     "data": {
      "text/plain": [
       "39.20702541106129"
      ]
     },
     "execution_count": 83,
     "metadata": {},
     "output_type": "execute_result"
    }
   ],
   "source": [
    "# numpy.mean() 활용 평균 계산\n",
    "np.mean(df_ins['age'])"
   ]
  },
  {
   "cell_type": "markdown",
   "metadata": {
    "id": "Gq1polkkMacR"
   },
   "source": [
    "#### End of script"
   ]
  }
 ],
 "metadata": {
  "colab": {
   "provenance": []
  },
  "kernelspec": {
   "display_name": "Python 3 (ipykernel)",
   "language": "python",
   "name": "python3"
  },
  "language_info": {
   "codemirror_mode": {
    "name": "ipython",
    "version": 3
   },
   "file_extension": ".py",
   "mimetype": "text/x-python",
   "name": "python",
   "nbconvert_exporter": "python",
   "pygments_lexer": "ipython3",
   "version": "3.11.5"
  }
 },
 "nbformat": 4,
 "nbformat_minor": 1
}
