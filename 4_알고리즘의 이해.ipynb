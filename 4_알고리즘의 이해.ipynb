{
 "cells": [
  {
   "cell_type": "markdown",
   "metadata": {},
   "source": [
    "\n",
    "## 1. 선형 회귀모형의 이해"
   ]
  },
  {
   "cell_type": "code",
   "execution_count": null,
   "metadata": {},
   "outputs": [],
   "source": [
    "# 데이터 불러오기\n",
    "import pandas as pd\n",
    "df_heights = pd.read_csv('data/heights.csv')\n",
    "df_heights"
   ]
  },
  {
   "cell_type": "code",
   "execution_count": null,
   "metadata": {},
   "outputs": [],
   "source": [
    "# 또 다른 예제 데이터 \n",
    "df_ins = pd.read_csv('data/insurance.csv')\n",
    "df_ins_test = pd.read_csv('data/insurance_test.csv')\n",
    "df_ins.head()"
   ]
  },
  {
   "cell_type": "code",
   "execution_count": null,
   "metadata": {},
   "outputs": [],
   "source": [
    "df_ins_test"
   ]
  },
  {
   "cell_type": "markdown",
   "metadata": {},
   "source": [
    "<br>\n",
    "\n",
    "### 1.1. 단순 선형 회귀 모형의 적합 \n",
    "\n",
    "**sklearn** 라이브러리의 linear_model 모듈에 있는 `LinearRegression()`로 선형 회귀모형을 적합"
   ]
  },
  {
   "cell_type": "code",
   "execution_count": null,
   "metadata": {},
   "outputs": [],
   "source": [
    "# 함수 불러오기\n",
    "from sklearn.linear_model import LinearRegression"
   ]
  },
  {
   "cell_type": "code",
   "execution_count": null,
   "metadata": {},
   "outputs": [],
   "source": [
    "# 아들키를 아빠키로 설명하는 선형 회귀 모형 적합\n",
    "model = LinearRegression()\n",
    "model.fit(df_heights[['father']], df_heights['son']) # model.fit(X(입력변수), y(출력변수))"
   ]
  },
  {
   "cell_type": "code",
   "execution_count": null,
   "metadata": {},
   "outputs": [],
   "source": [
    "# 적합된 회귀계수 확인\n",
    "print(model.intercept_)\n",
    "print(model.coef_)"
   ]
  },
  {
   "cell_type": "markdown",
   "metadata": {},
   "source": [
    "\n",
    "**아들키-아빠키 관계식**: \n",
    "$ son = 86.072 + 0.514 \\times father $\n",
    "\n",
    "<br>\n"
   ]
  },
  {
   "cell_type": "markdown",
   "metadata": {},
   "source": [
    "### [참고] `statsmodel` 라이브러리를 활용한 선형 회귀 분석"
   ]
  },
  {
   "cell_type": "code",
   "execution_count": null,
   "metadata": {},
   "outputs": [],
   "source": [
    "# statsmodel 라이브러리 불러오기\n",
    "import statsmodels.api as sm"
   ]
  },
  {
   "cell_type": "code",
   "execution_count": null,
   "metadata": {},
   "outputs": [],
   "source": [
    "# 출력변수와 입력변수를 각각 y와 x로 할당하기\n",
    "y = df_heights.son\n",
    "x = df_heights.father"
   ]
  },
  {
   "cell_type": "code",
   "execution_count": null,
   "metadata": {},
   "outputs": [],
   "source": [
    "# 입력변수 x에 상수항 추가하기\n",
    "x = sm.add_constant(x)"
   ]
  },
  {
   "cell_type": "code",
   "execution_count": null,
   "metadata": {},
   "outputs": [],
   "source": [
    "# Ordinary least square 모델을 이용해서 선형 회귀 분석 \n",
    "model2 = sm.OLS(y, x).fit()\n",
    "print(model2.summary())"
   ]
  },
  {
   "cell_type": "markdown",
   "metadata": {},
   "source": [
    "#### [참고] 회귀 직선의 시각화 "
   ]
  },
  {
   "cell_type": "code",
   "execution_count": null,
   "metadata": {},
   "outputs": [],
   "source": [
    "\n",
    "import seaborn as sns\n",
    "mean_f = df_heights['father'].mean()\n",
    "mean_s = df_heights['son'].mean()\n",
    "\n",
    "plot = sns.scatterplot(data=df_heights,\n",
    "                       x='father',\n",
    "                       y='son')\n",
    "plot.axhline(mean_s)\n",
    "plot.axvline(mean_f)\n",
    "\n",
    "plot.axline((mean_f, mean_s), slope=model.coef_[0], color='red') #model.coef_는 np.array이므로 사용할 객체를 선택해야 함. "
   ]
  },
  {
   "cell_type": "markdown",
   "metadata": {},
   "source": [
    "<br>\n",
    "<br>\n",
    "\n",
    "### 1.2. 다중 선형 회귀 모형 적합 \n"
   ]
  },
  {
   "cell_type": "code",
   "execution_count": null,
   "metadata": {},
   "outputs": [],
   "source": [
    "# 수치형 설명 변수를 활용한 선형 회귀 모형 적합\n",
    "linear_model = LinearRegression()\n",
    "linear_model.fit(df_ins[['age','bmi','children']], df_ins['charges'])"
   ]
  },
  {
   "cell_type": "code",
   "execution_count": null,
   "metadata": {},
   "outputs": [],
   "source": [
    "# 일반적인 명령어 구성\n",
    "    #  X : 설명변수/독립변수,  y : 관심변수/종속변수\n",
    "\n",
    "X = df_ins[['age','bmi','children']]\n",
    "y = df_ins['charges']\n",
    "    \n",
    "    # 모형 설정\n",
    "linear_model = LinearRegression()\n",
    "\n",
    "    # 모형 적합\n",
    "linear_model.fit(X, y)"
   ]
  },
  {
   "cell_type": "code",
   "execution_count": null,
   "metadata": {},
   "outputs": [],
   "source": [
    "# 적합된 회귀계수 확인\n",
    "print(linear_model.intercept_)\n",
    "print(linear_model.coef_)"
   ]
  },
  {
   "cell_type": "markdown",
   "metadata": {},
   "source": [
    "$ charges = -6916.24 + 239.99 \\times age + 332.08\\times bmi + 542.86\\times children $\n",
    "\n",
    "<br>"
   ]
  },
  {
   "cell_type": "markdown",
   "metadata": {},
   "source": [
    "### 1.3. 범주형 변수의 가변수화"
   ]
  },
  {
   "cell_type": "code",
   "execution_count": null,
   "metadata": {},
   "outputs": [],
   "source": [
    "df_ins"
   ]
  },
  {
   "cell_type": "code",
   "execution_count": null,
   "metadata": {},
   "outputs": [],
   "source": [
    "# pandas의 get_dummies() 활용\n",
    "df_dummies = pd.get_dummies(data=df_ins, drop_first=True)\n",
    "df_dummies\n",
    "  ## 범주형 변수의 수치화 -> 회귀모형 적합 가능"
   ]
  },
  {
   "cell_type": "code",
   "execution_count": null,
   "metadata": {},
   "outputs": [],
   "source": [
    "#  회귀모형 재적합\n",
    "linear_model = LinearRegression()\n",
    "    \n",
    "X = df_dummies.drop(columns=['charges'])\n",
    "y = df_dummies['charges']\n",
    "\n",
    "linear_model.fit(X, y)\n",
    "\n",
    "print(linear_model.intercept_)\n",
    "print(linear_model.coef_)"
   ]
  },
  {
   "cell_type": "code",
   "execution_count": null,
   "metadata": {},
   "outputs": [],
   "source": [
    "# 회귀 계수 정리\n",
    "coeff = pd.DataFrame(linear_model.coef_, X.columns, columns=['Coefficient'])\n",
    "coeff"
   ]
  },
  {
   "cell_type": "markdown",
   "metadata": {},
   "source": [
    "회귀 모형식\n",
    "\n",
    "$ charges = -11938.54 \\\\ \n",
    "\\qquad\\qquad + 256.86\\times age \\\\\n",
    "\\qquad\\qquad + 339.19\\times bmi \\\\\n",
    "\\qquad\\qquad + 475.50\\times children \\\\\n",
    "\\qquad\\qquad - 131.31\\times sex\\_male \\\\\n",
    "\\qquad\\qquad + 23848.53\\times smoker\\_yes\\\\\n",
    "\\qquad\\qquad - 352.96\\times region\\_northwest\t\\\\\n",
    "\\qquad\\qquad - 1035.02\\times region\\_southeast\t\\\\\n",
    "\\qquad\\qquad - 960.05\\times region\\_southwest$"
   ]
  },
  {
   "cell_type": "code",
   "execution_count": null,
   "metadata": {},
   "outputs": [],
   "source": [
    "# 단순 집계와 모형의 비교 - 변수 sex\n",
    "df_ins.groupby('sex')['charges'].mean()\n"
   ]
  },
  {
   "cell_type": "code",
   "execution_count": null,
   "metadata": {},
   "outputs": [],
   "source": [
    "sns.boxplot(x='sex', \n",
    "            y='charges', \n",
    "            data=df_ins)"
   ]
  },
  {
   "cell_type": "markdown",
   "metadata": {},
   "source": [
    "단순 집계와 회귀 모형의 결과가 다름\n",
    "* 집계 : 남자 > 여자\n",
    "* 회귀 모형 : 남자 < 여자"
   ]
  },
  {
   "cell_type": "code",
   "execution_count": null,
   "metadata": {},
   "outputs": [],
   "source": [
    "## 성별 흡연률의 확인\n",
    "agg1_i = pd.crosstab(df_ins['sex'], df_ins['smoker'], normalize='index')\n",
    "sns.heatmap(agg1_i, cmap='Blues', annot=True, fmt='.2f')"
   ]
  },
  {
   "cell_type": "markdown",
   "metadata": {},
   "source": [
    "### 1.4. 선형 회귀 모형의 한계\n",
    "\n",
    "선형 회귀 모형은 비선형의 관계를 반영 어려움"
   ]
  },
  {
   "cell_type": "code",
   "execution_count": null,
   "metadata": {},
   "outputs": [],
   "source": [
    "# 회귀 모형의 한계 - 변수 bmi와 charges의 산점도\n",
    "sns.scatterplot(data=df_ins, \n",
    "                x='bmi', \n",
    "                y='charges', \n",
    "                hue='smoker',\n",
    "                alpha=0.5)"
   ]
  },
  {
   "cell_type": "markdown",
   "metadata": {},
   "source": [
    "<br>\n",
    "\n",
    "### 1.5. 변수 선택의 개념\n",
    "\n",
    "각 회귀 계수에 대한 검정 결과를 활용해서 모형에 필요한 변수를 선택할 수 있습니다. "
   ]
  },
  {
   "cell_type": "code",
   "execution_count": null,
   "metadata": {},
   "outputs": [],
   "source": [
    "# statsmodels를 활용한 회귀모형 적합과 변수 선택\n",
    "    # 상수항 추가\n",
    "import statsmodels.api as sm\n",
    "X_Sm = sm.add_constant(X)\n",
    "X_Sm"
   ]
  },
  {
   "cell_type": "code",
   "execution_count": null,
   "metadata": {},
   "outputs": [],
   "source": [
    "# 선형회귀 모형 적합 및 각 변수에 대한 검정\n",
    "ls=sm.OLS(y,X_Sm).fit()\n",
    "ls.summary()"
   ]
  },
  {
   "cell_type": "markdown",
   "metadata": {},
   "source": [
    "\n",
    "<br>\n",
    "\n",
    "### 1.6. 모형 활용 예측\n",
    "\n",
    "적합된 모형을 활용하여 실제값이 없는 신규 데이터에 대해 `predict()`를 활용해 예측값을 계산할 수 있습니다. "
   ]
  },
  {
   "cell_type": "code",
   "execution_count": null,
   "metadata": {},
   "outputs": [],
   "source": [
    "# 신규 데이터 5건 \n",
    "df_ins_test"
   ]
  },
  {
   "cell_type": "code",
   "execution_count": null,
   "metadata": {},
   "outputs": [],
   "source": [
    "# 동일한 처리\n",
    "df_dummies_test = pd.get_dummies(data=df_ins_test, drop_first=True)\n",
    "df_dummies_test"
   ]
  },
  {
   "cell_type": "code",
   "execution_count": null,
   "metadata": {},
   "outputs": [],
   "source": [
    "# 예측 값 계산\n",
    "linear_model.predict(df_dummies_test)"
   ]
  },
  {
   "cell_type": "code",
   "execution_count": null,
   "metadata": {},
   "outputs": [],
   "source": [
    "# 예측값 변수 추가\n",
    "df_ins_test['pred'] = linear_model.predict(df_dummies_test)\n",
    "df_ins_test"
   ]
  },
  {
   "cell_type": "markdown",
   "metadata": {},
   "source": [
    "<br>\n",
    "\n",
    "### 1.7. 결정계수 확인 \n",
    "\n",
    "모형의 성능을 평가하기위해 평가지표를 설정하고 값을 계산할 수 있습니다."
   ]
  },
  {
   "cell_type": "code",
   "execution_count": null,
   "metadata": {},
   "outputs": [],
   "source": [
    "from sklearn.metrics import r2_score\n",
    "y_pred = linear_model.predict(X)\n",
    "r2_score(y, y_pred)"
   ]
  },
  {
   "cell_type": "markdown",
   "metadata": {},
   "source": [
    "<br>\n",
    "<br>\n",
    "\n",
    "## 2. 로지스틱 회귀모형\n",
    "\n",
    "<br>\n",
    "\n",
    "### 2.1. 예제 데이터 불러오기, 전처리"
   ]
  },
  {
   "cell_type": "code",
   "execution_count": null,
   "metadata": {},
   "outputs": [],
   "source": [
    "# 예제 데이터 불러오기\n",
    "df_admit = pd.read_csv('data/students.csv', dtype={'admit':'category', 'rank':'category'})\n",
    "df_admit"
   ]
  },
  {
   "cell_type": "code",
   "execution_count": null,
   "metadata": {},
   "outputs": [],
   "source": [
    "# 테스트 데이터 불러오기\n",
    "df_admit_new = pd.read_csv('data/students_new.csv', dtype={'rank':'category'})\n",
    "df_admit_new"
   ]
  },
  {
   "cell_type": "code",
   "execution_count": null,
   "metadata": {},
   "outputs": [],
   "source": [
    "# 설명변수, 관심변수 분할\n",
    "X = pd.get_dummies(data=df_admit.drop(columns=['admit']), drop_first=True)\n",
    "y = df_admit['admit']"
   ]
  },
  {
   "cell_type": "code",
   "execution_count": null,
   "metadata": {},
   "outputs": [],
   "source": [
    "X"
   ]
  },
  {
   "cell_type": "markdown",
   "metadata": {},
   "source": [
    "<br>\n",
    "\n",
    "### 2.2. 로지스틱 회귀모형 적합"
   ]
  },
  {
   "cell_type": "code",
   "execution_count": null,
   "metadata": {
    "scrolled": true
   },
   "outputs": [],
   "source": [
    "from sklearn.linear_model import LogisticRegression\n",
    "model_logit = LogisticRegression(max_iter=1000)\n",
    "model_logit.fit(X, y)"
   ]
  },
  {
   "cell_type": "code",
   "execution_count": null,
   "metadata": {},
   "outputs": [],
   "source": [
    "# 회귀계수 확인\n",
    "model_logit.coef_"
   ]
  },
  {
   "cell_type": "markdown",
   "metadata": {},
   "source": [
    "<br>\n",
    "\n",
    "### 2.3. 새로운 관측치에 대한 예측\n"
   ]
  },
  {
   "cell_type": "code",
   "execution_count": null,
   "metadata": {},
   "outputs": [],
   "source": [
    "# 테스트 데이터에 대한 동일한 처리 \n",
    "X_new = pd.get_dummies(data=df_admit_new, drop_first=True)\n",
    "X_new"
   ]
  },
  {
   "cell_type": "code",
   "execution_count": null,
   "metadata": {},
   "outputs": [],
   "source": [
    "# 예측값 생성\n",
    "model_logit.predict_proba(X_new)"
   ]
  },
  {
   "cell_type": "code",
   "execution_count": null,
   "metadata": {},
   "outputs": [],
   "source": [
    "# 1일 확률만 선택\n",
    "model_logit.predict_proba(X_new)[:, 1]"
   ]
  },
  {
   "cell_type": "code",
   "execution_count": null,
   "metadata": {},
   "outputs": [],
   "source": [
    "# 기존 데이터에 예측 확률 변수 추가\n",
    "df_admit_new['prob'] = model_logit.predict_proba(X_new)[:, 1]\n",
    "df_admit_new"
   ]
  },
  {
   "cell_type": "markdown",
   "metadata": {},
   "source": [
    "\n",
    "<br>\n",
    "<hr>\n",
    "<br>\n",
    "\n",
    "## 3. 의사결정나무\n",
    "\n",
    "관심 변수가 있는 일반적인 정형 데이터에 활용할 수 있는 대표적인 지도학습 알고리즘\n"
   ]
  },
  {
   "cell_type": "markdown",
   "metadata": {},
   "source": [
    "<br>\n",
    "\n",
    "### 3.1. 회귀 나무(Regression Tree) : 관심변수가 수치형인 경우"
   ]
  },
  {
   "cell_type": "code",
   "execution_count": null,
   "metadata": {
    "scrolled": true
   },
   "outputs": [],
   "source": [
    "# 데이터 불러오기\n",
    "df_ins = pd.read_csv('data/insurance.csv')\n",
    "df_ins_test = pd.read_csv('data/insurance_test.csv')"
   ]
  },
  {
   "cell_type": "code",
   "execution_count": null,
   "metadata": {},
   "outputs": [],
   "source": [
    "# 데이터 살펴보기\n",
    "df_ins.head()"
   ]
  },
  {
   "cell_type": "code",
   "execution_count": null,
   "metadata": {},
   "outputs": [],
   "source": [
    "# 예측 대상 데이터 살펴보기\n",
    "df_ins_test.head()"
   ]
  },
  {
   "cell_type": "markdown",
   "metadata": {},
   "source": [
    "<br>\n",
    "\n",
    "#### 3.1.1. 데이터 처리 \n",
    "\n",
    "가변수를 생성하고, X, y로 데이터를 분할"
   ]
  },
  {
   "cell_type": "code",
   "execution_count": null,
   "metadata": {},
   "outputs": [],
   "source": [
    "# 데이터 처리\n",
    "    # X : 타겟 변수를 제외하고 범주형 변수를 가변수(dummy variable)로 변환\n",
    "    # y : 타겟 변수만 선택\n",
    "X = pd.get_dummies(data=df_ins.drop(columns=['charges']), drop_first=True)\n",
    "y = df_ins['charges']"
   ]
  },
  {
   "cell_type": "code",
   "execution_count": null,
   "metadata": {},
   "outputs": [],
   "source": [
    "X.head()"
   ]
  },
  {
   "cell_type": "code",
   "execution_count": null,
   "metadata": {},
   "outputs": [],
   "source": [
    "y.head()"
   ]
  },
  {
   "cell_type": "markdown",
   "metadata": {},
   "source": [
    "<br>\n",
    "\n",
    "#### 3.1.2. 의사결정나무 모형의 적합 \n",
    "\n",
    "**sklearn** 라이브러리의 tree 모듈에서 `DecisionTreeRegressor()`를 가져와서 의사결정 나무 모형을 적합하고, `plot_tree()`로 적합된 모형을 시각화\n"
   ]
  },
  {
   "cell_type": "code",
   "execution_count": null,
   "metadata": {},
   "outputs": [],
   "source": [
    "from sklearn.tree import DecisionTreeRegressor, plot_tree\n",
    "\n",
    "model_tree = DecisionTreeRegressor(max_depth=4)\n",
    "model_tree.fit(X, y)"
   ]
  },
  {
   "cell_type": "code",
   "execution_count": null,
   "metadata": {},
   "outputs": [],
   "source": [
    "type(list(X.columns))"
   ]
  },
  {
   "cell_type": "code",
   "execution_count": null,
   "metadata": {
    "scrolled": true
   },
   "outputs": [],
   "source": [
    "# 모형 적합 결과의 시각화\n",
    "import matplotlib.pyplot as plt\n",
    "plt.figure(figsize=(100,12)) # 이미지 크기 조정\n",
    "\n",
    "plot_tree(model_tree, \n",
    "          feature_names=list(X.columns),  \n",
    "          filled=True, \n",
    "          fontsize=20)\n",
    "plt.show()"
   ]
  },
  {
   "cell_type": "markdown",
   "metadata": {},
   "source": [
    "<br>\n",
    "\n",
    "#### 3.1.3. 예측값 계산\n",
    "\n",
    "`predict()`로 예측값 계산 가능"
   ]
  },
  {
   "cell_type": "code",
   "execution_count": null,
   "metadata": {
    "scrolled": true
   },
   "outputs": [],
   "source": [
    "# 예측값 계산\n",
    "df_dummies_test = pd.get_dummies(data=df_ins_test, drop_first=True)\n",
    "model_tree.predict(df_dummies_test)"
   ]
  },
  {
   "cell_type": "markdown",
   "metadata": {},
   "source": [
    "<br>\n",
    "\n",
    "#### 3.1.4. 변수 중요도 확인\n",
    "각 분기 과정에서의 변수별 설명량을 바탕으로 변수 중요도를 계산할 수 있습니다. "
   ]
  },
  {
   "cell_type": "code",
   "execution_count": null,
   "metadata": {},
   "outputs": [],
   "source": [
    "model_tree.feature_importances_"
   ]
  },
  {
   "cell_type": "code",
   "execution_count": null,
   "metadata": {},
   "outputs": [],
   "source": [
    "sns.barplot(y=model_tree.feature_names_in_,\n",
    "            x=model_tree.feature_importances_)"
   ]
  },
  {
   "cell_type": "markdown",
   "metadata": {},
   "source": [
    "<br>\n",
    "<br>\n",
    "<br>\n",
    "\n",
    "### 3.2. 판별 나무( Tree) : 관심변수가 범주형인 경우"
   ]
  },
  {
   "cell_type": "code",
   "execution_count": null,
   "metadata": {},
   "outputs": [],
   "source": [
    "# 예제 데이터 불러오기\n",
    "df_admit = pd.read_csv('data/students.csv', dtype={'admit':'category', 'rank':'category'})\n",
    "df_admit"
   ]
  },
  {
   "cell_type": "markdown",
   "metadata": {},
   "source": [
    "<br>\n",
    "\n",
    "#### 3.2.1. 데이터 처리"
   ]
  },
  {
   "cell_type": "code",
   "execution_count": null,
   "metadata": {},
   "outputs": [],
   "source": [
    "# 설명변수, 관심변수 분할\n",
    "X = pd.get_dummies(data=df_admit.drop(columns=['admit']), drop_first=True)\n",
    "y = df_admit['admit']"
   ]
  },
  {
   "cell_type": "markdown",
   "metadata": {},
   "source": [
    "<br>\n",
    "\n",
    "#### 3.2.2. 판별 모형 적합"
   ]
  },
  {
   "cell_type": "code",
   "execution_count": null,
   "metadata": {},
   "outputs": [],
   "source": [
    "# 판별 모형 적합\n",
    "from sklearn.tree import DecisionTreeClassifier\n",
    "\n",
    "model_tree_c = DecisionTreeClassifier(max_depth=3)\n",
    "model_tree_c.fit(X, y)"
   ]
  },
  {
   "cell_type": "code",
   "execution_count": null,
   "metadata": {},
   "outputs": [],
   "source": [
    "# 모형 적합 결과의 시각화\n",
    "plt.figure(figsize=(27,12))\n",
    "plot_tree(model_tree_c, \n",
    "          feature_names=list(X.columns),  \n",
    "          filled=True, \n",
    "          fontsize=15,\n",
    "          impurity=False, \n",
    "          proportion=True)\n",
    "plt.show()"
   ]
  },
  {
   "cell_type": "markdown",
   "metadata": {},
   "source": [
    "#### End of script"
   ]
  }
 ],
 "metadata": {
  "kernelspec": {
   "display_name": "Python 3 (ipykernel)",
   "language": "python",
   "name": "python3"
  },
  "language_info": {
   "codemirror_mode": {
    "name": "ipython",
    "version": 3
   },
   "file_extension": ".py",
   "mimetype": "text/x-python",
   "name": "python",
   "nbconvert_exporter": "python",
   "pygments_lexer": "ipython3",
   "version": "3.11.5"
  }
 },
 "nbformat": 4,
 "nbformat_minor": 4
}
