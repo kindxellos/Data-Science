{
 "cells": [
  {
   "cell_type": "markdown",
   "id": "edbc25c4",
   "metadata": {
    "id": "edbc25c4"
   },
   "source": [
    "# Jupyter Notebook 활용 및 Python 분석 환경 설정\n",
    "\n",
    "### 주요 내용\n",
    "\n",
    "1. Jupyter notebook의 주요 기능 및 단축키 등 설명\n",
    "2. pip를 활용한 라이브러리 설치 및 import를 활용한 라이브러리 불러오기\n",
    "\n",
    "<br>\n",
    "\n",
    "### 목표\n",
    "1. Jupyter Notebook을 활용해서 Python 코드를 작성하고 실행할 수 있다.\n",
    "2. 라이브러리(library) 활용 목적과 절차를 이해한다.\n",
    "\n",
    "\n",
    "<br>\n",
    "<hr>\n",
    "<br>"
   ]
  },
  {
   "cell_type": "markdown",
   "id": "efd228f4",
   "metadata": {
    "id": "efd228f4"
   },
   "source": [
    "## 1. Jupyter Notebook 사용법, 기능 및 단축키 소개  \n",
    "\n",
    "가장 먼저 jupyter notebook의 사용법을 살펴보겠습니다.  \n",
    "\n",
    "jupyter notebook은 여러 cell을 수직적으로 결합해서 문서를 만들거나 분석을 수행합니다. 상단 메뉴바와 아이콘을 활용하여 cell을 추가, 제거, 이동, 복사 할 수 있고 명령어를 실행하고 결과를 확인할 수 있습니다. 이 과정에서 주로 활용되는 cell과 관련된 기본적인 단축키를 알아두면 편합니다.  \n",
    "\n",
    "\n",
    "* 파란색 : 명령 모드(cell의 추가, 복사, 삭제 등), \"ESC\"\n",
    "  - `H` : 단축키 목록 팝업\n",
    "  - `A` : 위에 cell 추가\n",
    "  - `B` : 아래에 cell 추가\n",
    "  - `위/아래 화살표` : cell 이동\n",
    "  - `D, D` : cell 삭제\n",
    "  - `M` : cell을 Markdown(문서 작성) 형식으로 변경\n",
    "  - `Y` : cell을 Code(명령어 작성) 형식으로 변경\n",
    "  - `S`, `Ctrl + S` : 저장\n",
    "    \n",
    "* 초록색 : 수정 모드(각 cell 안에서 명령어 등 입력), \"ENTER\"\n",
    "  - `Ctrl + /` : 주석처리/해제\n",
    "  - `Shift + Tab` : 함수 도움말 보기\n",
    "\n",
    "* cell 실행\n",
    "  - `Ctrl + Enter` : 실행\n",
    "  - `Shift + Enter` : 실행하고 다음 cell로 이동\n",
    "  - `Alt + Enter`: 실행하고 아래에 cell 추가\n",
    "  \n",
    "\n",
    "<br>\n",
    "\n",
    "\n",
    "\n"
   ]
  },
  {
   "cell_type": "code",
   "execution_count": null,
   "id": "f2bb7b72",
   "metadata": {
    "id": "f2bb7b72"
   },
   "outputs": [],
   "source": [
    "# \"#\"을 붙여서 주석(comment)을 달 수 있습니다."
   ]
  },
  {
   "cell_type": "code",
   "execution_count": null,
   "id": "04514f9a",
   "metadata": {
    "id": "04514f9a"
   },
   "outputs": [],
   "source": [
    "# 이 cell에 간단한 사칙 연산을 입력하고 실행해 봅시다.\n",
    "1 + 2"
   ]
  },
  {
   "cell_type": "code",
   "execution_count": null,
   "id": "2bbe4338",
   "metadata": {
    "id": "2bbe4338"
   },
   "outputs": [],
   "source": [
    "2 * 4"
   ]
  },
  {
   "cell_type": "code",
   "execution_count": null,
   "id": "5467bf16",
   "metadata": {
    "id": "5467bf16"
   },
   "outputs": [],
   "source": [
    "2 / 4"
   ]
  },
  {
   "cell_type": "code",
   "execution_count": null,
   "id": "66786fe5",
   "metadata": {
    "id": "66786fe5"
   },
   "outputs": [],
   "source": [
    "2 ** 10"
   ]
  },
  {
   "cell_type": "code",
   "execution_count": null,
   "id": "351fd67c",
   "metadata": {
    "id": "351fd67c"
   },
   "outputs": [],
   "source": [
    "# A"
   ]
  },
  {
   "cell_type": "code",
   "execution_count": null,
   "id": "0303c3af",
   "metadata": {
    "id": "0303c3af"
   },
   "outputs": [],
   "source": [
    "# B"
   ]
  },
  {
   "cell_type": "code",
   "execution_count": null,
   "id": "3cf8877f",
   "metadata": {
    "id": "3cf8877f"
   },
   "outputs": [],
   "source": [
    "# DD"
   ]
  },
  {
   "cell_type": "code",
   "execution_count": null,
   "id": "3cf10e69",
   "metadata": {
    "id": "3cf10e69"
   },
   "outputs": [],
   "source": []
  },
  {
   "cell_type": "markdown",
   "id": "90ac77b8",
   "metadata": {
    "id": "90ac77b8"
   },
   "source": [
    "\n",
    "<br>\n",
    "<hr>\n",
    "<br>\n",
    "\n",
    "## 2. pip를 활용한 Library 설치\n",
    "\n",
    "Python을 활용해 데이터를 분석하기 위해서는 pandas와 같은 라이브러리 설치가 필수\n",
    "<span style='color:blue;font-weight:bold'>pip</span> 명령어를 활용해서 라이브러리를 설치 가능  \n",
    "jupyter notebook 안에서 shell command를 실행하기 위해서 <span style='color:purple;font-weight:bold'>!</span>를 앞에 붙임    \n",
    "\n",
    "> 라이브러리를 설치하기 위해서는 외부망 접속이 가능해야하고, 외부망에서 소스 파일을 다운받아 압축을 풀기 위해서는 특정 폴더에 대한 권한도 필요합니다."
   ]
  },
  {
   "cell_type": "code",
   "execution_count": 1,
   "id": "2a1a878a",
   "metadata": {
    "id": "2a1a878a"
   },
   "outputs": [
    {
     "name": "stdout",
     "output_type": "stream",
     "text": [
      "Requirement already satisfied: numpy in c:\\users\\user\\anaconda3\\lib\\site-packages (1.24.3)\n",
      "Requirement already satisfied: pandas in c:\\users\\user\\anaconda3\\lib\\site-packages (2.0.3)\n",
      "Requirement already satisfied: matplotlib in c:\\users\\user\\anaconda3\\lib\\site-packages (3.7.2)\n",
      "Requirement already satisfied: seaborn in c:\\users\\user\\anaconda3\\lib\\site-packages (0.12.2)\n",
      "Requirement already satisfied: plotly in c:\\users\\user\\anaconda3\\lib\\site-packages (5.9.0)\n",
      "Requirement already satisfied: openpyxl in c:\\users\\user\\anaconda3\\lib\\site-packages (3.0.10)\n",
      "Requirement already satisfied: scipy in c:\\users\\user\\anaconda3\\lib\\site-packages (1.11.1)\n",
      "Requirement already satisfied: statsmodels in c:\\users\\user\\anaconda3\\lib\\site-packages (0.14.0)\n",
      "Requirement already satisfied: scikit-learn in c:\\users\\user\\anaconda3\\lib\\site-packages (1.3.0)\n",
      "Collecting pingouin\n",
      "  Downloading pingouin-0.5.3-py3-none-any.whl (198 kB)\n",
      "     ---------------------------------------- 0.0/198.6 kB ? eta -:--:--\n",
      "     -- ------------------------------------- 10.2/198.6 kB ? eta -:--:--\n",
      "     -- ------------------------------------- 10.2/198.6 kB ? eta -:--:--\n",
      "     ----- ------------------------------- 30.7/198.6 kB 220.2 kB/s eta 0:00:01\n",
      "     ------- ----------------------------- 41.0/198.6 kB 245.8 kB/s eta 0:00:01\n",
      "     --------------- --------------------- 81.9/198.6 kB 419.2 kB/s eta 0:00:01\n",
      "     ------------------------------------ 198.6/198.6 kB 863.9 kB/s eta 0:00:00\n",
      "Requirement already satisfied: python-dateutil>=2.8.2 in c:\\users\\user\\anaconda3\\lib\\site-packages (from pandas) (2.8.2)\n",
      "Requirement already satisfied: pytz>=2020.1 in c:\\users\\user\\anaconda3\\lib\\site-packages (from pandas) (2023.3.post1)\n",
      "Requirement already satisfied: tzdata>=2022.1 in c:\\users\\user\\anaconda3\\lib\\site-packages (from pandas) (2023.3)\n",
      "Requirement already satisfied: contourpy>=1.0.1 in c:\\users\\user\\anaconda3\\lib\\site-packages (from matplotlib) (1.0.5)\n",
      "Requirement already satisfied: cycler>=0.10 in c:\\users\\user\\anaconda3\\lib\\site-packages (from matplotlib) (0.11.0)\n",
      "Requirement already satisfied: fonttools>=4.22.0 in c:\\users\\user\\anaconda3\\lib\\site-packages (from matplotlib) (4.25.0)\n",
      "Requirement already satisfied: kiwisolver>=1.0.1 in c:\\users\\user\\anaconda3\\lib\\site-packages (from matplotlib) (1.4.4)\n",
      "Requirement already satisfied: packaging>=20.0 in c:\\users\\user\\anaconda3\\lib\\site-packages (from matplotlib) (23.1)\n",
      "Requirement already satisfied: pillow>=6.2.0 in c:\\users\\user\\anaconda3\\lib\\site-packages (from matplotlib) (9.4.0)\n",
      "Requirement already satisfied: pyparsing<3.1,>=2.3.1 in c:\\users\\user\\anaconda3\\lib\\site-packages (from matplotlib) (3.0.9)\n",
      "Requirement already satisfied: tenacity>=6.2.0 in c:\\users\\user\\anaconda3\\lib\\site-packages (from plotly) (8.2.2)\n",
      "Requirement already satisfied: et_xmlfile in c:\\users\\user\\anaconda3\\lib\\site-packages (from openpyxl) (1.1.0)\n",
      "Requirement already satisfied: patsy>=0.5.2 in c:\\users\\user\\anaconda3\\lib\\site-packages (from statsmodels) (0.5.3)\n",
      "Requirement already satisfied: joblib>=1.1.1 in c:\\users\\user\\anaconda3\\lib\\site-packages (from scikit-learn) (1.2.0)\n",
      "Requirement already satisfied: threadpoolctl>=2.0.0 in c:\\users\\user\\anaconda3\\lib\\site-packages (from scikit-learn) (2.2.0)\n",
      "Collecting pandas-flavor>=0.2.0 (from pingouin)\n",
      "  Obtaining dependency information for pandas-flavor>=0.2.0 from https://files.pythonhosted.org/packages/67/1a/bfb5574b215f530c7ac5be684f33d60b299abbebd763c203aa31755f2fb2/pandas_flavor-0.6.0-py3-none-any.whl.metadata\n",
      "  Downloading pandas_flavor-0.6.0-py3-none-any.whl.metadata (6.3 kB)\n",
      "Collecting outdated (from pingouin)\n",
      "  Downloading outdated-0.2.2-py2.py3-none-any.whl (7.5 kB)\n",
      "Requirement already satisfied: tabulate in c:\\users\\user\\anaconda3\\lib\\site-packages (from pingouin) (0.8.10)\n",
      "Requirement already satisfied: xarray in c:\\users\\user\\anaconda3\\lib\\site-packages (from pandas-flavor>=0.2.0->pingouin) (2023.6.0)\n",
      "Requirement already satisfied: six in c:\\users\\user\\anaconda3\\lib\\site-packages (from patsy>=0.5.2->statsmodels) (1.16.0)\n",
      "Requirement already satisfied: setuptools>=44 in c:\\users\\user\\anaconda3\\lib\\site-packages (from outdated->pingouin) (68.0.0)\n",
      "Collecting littleutils (from outdated->pingouin)\n",
      "  Downloading littleutils-0.2.2.tar.gz (6.6 kB)\n",
      "  Preparing metadata (setup.py): started\n",
      "  Preparing metadata (setup.py): finished with status 'done'\n",
      "Requirement already satisfied: requests in c:\\users\\user\\anaconda3\\lib\\site-packages (from outdated->pingouin) (2.31.0)\n",
      "Requirement already satisfied: charset-normalizer<4,>=2 in c:\\users\\user\\anaconda3\\lib\\site-packages (from requests->outdated->pingouin) (2.0.4)\n",
      "Requirement already satisfied: idna<4,>=2.5 in c:\\users\\user\\anaconda3\\lib\\site-packages (from requests->outdated->pingouin) (3.4)\n",
      "Requirement already satisfied: urllib3<3,>=1.21.1 in c:\\users\\user\\anaconda3\\lib\\site-packages (from requests->outdated->pingouin) (1.26.16)\n",
      "Requirement already satisfied: certifi>=2017.4.17 in c:\\users\\user\\anaconda3\\lib\\site-packages (from requests->outdated->pingouin) (2023.7.22)\n",
      "Downloading pandas_flavor-0.6.0-py3-none-any.whl (7.2 kB)\n",
      "Building wheels for collected packages: littleutils\n",
      "  Building wheel for littleutils (setup.py): started\n",
      "  Building wheel for littleutils (setup.py): finished with status 'done'\n",
      "  Created wheel for littleutils: filename=littleutils-0.2.2-py3-none-any.whl size=7034 sha256=ebc99828dc50e006c2e3700f439dedcfc2c8b06cf6eed0de0edcfca35b586910\n",
      "  Stored in directory: c:\\users\\user\\appdata\\local\\pip\\cache\\wheels\\17\\8d\\65\\9a39917567093c895549811c172be5d2dfb63c7e4b143e05a4\n",
      "Successfully built littleutils\n",
      "Installing collected packages: littleutils, outdated, pandas-flavor, pingouin\n",
      "Successfully installed littleutils-0.2.2 outdated-0.2.2 pandas-flavor-0.6.0 pingouin-0.5.3\n"
     ]
    }
   ],
   "source": [
    "!pip install numpy pandas matplotlib seaborn plotly openpyxl scipy statsmodels scikit-learn pingouin"
   ]
  },
  {
   "cell_type": "code",
   "execution_count": null,
   "id": "e80748ed",
   "metadata": {
    "id": "e80748ed"
   },
   "outputs": [],
   "source": []
  },
  {
   "cell_type": "markdown",
   "id": "40cf695c",
   "metadata": {
    "id": "40cf695c"
   },
   "source": [
    "<br>\n",
    "라이브러리 목록 확인\n",
    "<br>\n",
    "<br>"
   ]
  },
  {
   "cell_type": "code",
   "execution_count": 2,
   "id": "9b15242b",
   "metadata": {
    "id": "9b15242b"
   },
   "outputs": [
    {
     "name": "stdout",
     "output_type": "stream",
     "text": [
      "Package                       Version\n",
      "----------------------------- ---------------\n",
      "aiobotocore                   2.5.0\n",
      "aiofiles                      22.1.0\n",
      "aiohttp                       3.8.5\n",
      "aioitertools                  0.7.1\n",
      "aiosignal                     1.2.0\n",
      "aiosqlite                     0.18.0\n",
      "alabaster                     0.7.12\n",
      "anaconda-anon-usage           0.4.2\n",
      "anaconda-catalogs             0.2.0\n",
      "anaconda-client               1.12.1\n",
      "anaconda-cloud-auth           0.1.3\n",
      "anaconda-navigator            2.5.0\n",
      "anaconda-project              0.11.1\n",
      "anyio                         3.5.0\n",
      "appdirs                       1.4.4\n",
      "argon2-cffi                   21.3.0\n",
      "argon2-cffi-bindings          21.2.0\n",
      "arrow                         1.2.3\n",
      "astroid                       2.14.2\n",
      "astropy                       5.1\n",
      "asttokens                     2.0.5\n",
      "async-timeout                 4.0.2\n",
      "atomicwrites                  1.4.0\n",
      "attrs                         22.1.0\n",
      "Automat                       20.2.0\n",
      "autopep8                      1.6.0\n",
      "Babel                         2.11.0\n",
      "backcall                      0.2.0\n",
      "backports.functools-lru-cache 1.6.4\n",
      "backports.tempfile            1.0\n",
      "backports.weakref             1.0.post1\n",
      "bcrypt                        3.2.0\n",
      "beautifulsoup4                4.12.2\n",
      "binaryornot                   0.4.4\n",
      "black                         0.0\n",
      "bleach                        4.1.0\n",
      "bokeh                         3.2.1\n",
      "boltons                       23.0.0\n",
      "botocore                      1.29.76\n",
      "Bottleneck                    1.3.5\n",
      "brotlipy                      0.7.0\n",
      "certifi                       2023.7.22\n",
      "cffi                          1.15.1\n",
      "chardet                       4.0.0\n",
      "charset-normalizer            2.0.4\n",
      "click                         8.0.4\n",
      "cloudpickle                   2.2.1\n",
      "clyent                        1.2.2\n",
      "colorama                      0.4.6\n",
      "colorcet                      3.0.1\n",
      "comm                          0.1.2\n",
      "conda                         23.7.4\n",
      "conda-build                   3.26.1\n",
      "conda-content-trust           0.2.0\n",
      "conda_index                   0.3.0\n",
      "conda-libmamba-solver         23.7.0\n",
      "conda-pack                    0.6.0\n",
      "conda-package-handling        2.2.0\n",
      "conda_package_streaming       0.9.0\n",
      "conda-repo-cli                1.0.75\n",
      "conda-token                   0.4.0\n",
      "conda-verify                  3.4.2\n",
      "constantly                    15.1.0\n",
      "contourpy                     1.0.5\n",
      "cookiecutter                  1.7.3\n",
      "cryptography                  41.0.3\n",
      "cssselect                     1.1.0\n",
      "cycler                        0.11.0\n",
      "cytoolz                       0.12.0\n",
      "daal4py                       2023.1.1\n",
      "dask                          2023.6.0\n",
      "datasets                      2.12.0\n",
      "datashader                    0.15.2\n",
      "datashape                     0.5.4\n",
      "debugpy                       1.6.7\n",
      "decorator                     5.1.1\n",
      "defusedxml                    0.7.1\n",
      "diff-match-patch              20200713\n",
      "dill                          0.3.6\n",
      "distributed                   2023.6.0\n",
      "docstring-to-markdown         0.11\n",
      "docutils                      0.18.1\n",
      "entrypoints                   0.4\n",
      "et-xmlfile                    1.1.0\n",
      "executing                     0.8.3\n",
      "fastjsonschema                2.16.2\n",
      "filelock                      3.9.0\n",
      "flake8                        6.0.0\n",
      "Flask                         2.2.2\n",
      "fonttools                     4.25.0\n",
      "frozenlist                    1.3.3\n",
      "fsspec                        2023.4.0\n",
      "future                        0.18.3\n",
      "gensim                        4.3.0\n",
      "glob2                         0.7\n",
      "greenlet                      2.0.1\n",
      "h5py                          3.9.0\n",
      "HeapDict                      1.0.1\n",
      "holoviews                     1.17.1\n",
      "huggingface-hub               0.15.1\n",
      "hvplot                        0.8.4\n",
      "hyperlink                     21.0.0\n",
      "idna                          3.4\n",
      "imagecodecs                   2023.1.23\n",
      "imageio                       2.26.0\n",
      "imagesize                     1.4.1\n",
      "imbalanced-learn              0.10.1\n",
      "importlib-metadata            6.0.0\n",
      "incremental                   21.3.0\n",
      "inflection                    0.5.1\n",
      "iniconfig                     1.1.1\n",
      "intake                        0.6.8\n",
      "intervaltree                  3.1.0\n",
      "ipykernel                     6.25.0\n",
      "ipython                       8.15.0\n",
      "ipython-genutils              0.2.0\n",
      "ipywidgets                    8.0.4\n",
      "isort                         5.9.3\n",
      "itemadapter                   0.3.0\n",
      "itemloaders                   1.0.4\n",
      "itsdangerous                  2.0.1\n",
      "jaraco.classes                3.2.1\n",
      "jedi                          0.18.1\n",
      "jellyfish                     1.0.1\n",
      "Jinja2                        3.1.2\n",
      "jinja2-time                   0.2.0\n",
      "jmespath                      0.10.0\n",
      "joblib                        1.2.0\n",
      "json5                         0.9.6\n",
      "jsonpatch                     1.32\n",
      "jsonpointer                   2.1\n",
      "jsonschema                    4.17.3\n",
      "jupyter                       1.0.0\n",
      "jupyter_client                7.4.9\n",
      "jupyter-console               6.6.3\n",
      "jupyter_core                  5.3.0\n",
      "jupyter-events                0.6.3\n",
      "jupyter-server                1.23.4\n",
      "jupyter_server_fileid         0.9.0\n",
      "jupyter_server_ydoc           0.8.0\n",
      "jupyter-ydoc                  0.2.4\n",
      "jupyterlab                    3.6.3\n",
      "jupyterlab-pygments           0.1.2\n",
      "jupyterlab_server             2.22.0\n",
      "jupyterlab-widgets            3.0.5\n",
      "kaleido                       0.2.1\n",
      "keyring                       23.13.1\n",
      "kiwisolver                    1.4.4\n",
      "lazy_loader                   0.2\n",
      "lazy-object-proxy             1.6.0\n",
      "libarchive-c                  2.9\n",
      "libmambapy                    1.5.1\n",
      "linkify-it-py                 2.0.0\n",
      "littleutils                   0.2.2\n",
      "llvmlite                      0.40.0\n",
      "lmdb                          1.4.1\n",
      "locket                        1.0.0\n",
      "lxml                          4.9.3\n",
      "lz4                           4.3.2\n",
      "Markdown                      3.4.1\n",
      "markdown-it-py                2.2.0\n",
      "MarkupSafe                    2.1.1\n",
      "matplotlib                    3.7.2\n",
      "matplotlib-inline             0.1.6\n",
      "mccabe                        0.7.0\n",
      "mdit-py-plugins               0.3.0\n",
      "mdurl                         0.1.0\n",
      "menuinst                      1.4.19\n",
      "mistune                       0.8.4\n",
      "mkl-fft                       1.3.8\n",
      "mkl-random                    1.2.4\n",
      "mkl-service                   2.4.0\n",
      "more-itertools                8.12.0\n",
      "mpmath                        1.3.0\n",
      "msgpack                       1.0.3\n",
      "multidict                     6.0.2\n",
      "multipledispatch              0.6.0\n",
      "multiprocess                  0.70.14\n",
      "munkres                       1.1.4\n",
      "mypy-extensions               1.0.0\n",
      "navigator-updater             0.4.0\n",
      "nbclassic                     0.5.5\n",
      "nbclient                      0.5.13\n",
      "nbconvert                     6.5.4\n",
      "nbformat                      5.9.2\n",
      "nest-asyncio                  1.5.6\n",
      "networkx                      3.1\n",
      "nltk                          3.8.1\n",
      "notebook                      6.5.4\n",
      "notebook_shim                 0.2.2\n",
      "numba                         0.57.1\n",
      "numexpr                       2.8.4\n",
      "numpy                         1.24.3\n",
      "numpydoc                      1.5.0\n",
      "openpyxl                      3.0.10\n",
      "outdated                      0.2.2\n",
      "packaging                     23.1\n",
      "pandas                        2.0.3\n",
      "pandas-flavor                 0.6.0\n",
      "pandocfilters                 1.5.0\n",
      "panel                         1.2.3\n",
      "param                         1.13.0\n",
      "paramiko                      2.8.1\n",
      "parsel                        1.6.0\n",
      "parso                         0.8.3\n",
      "partd                         1.4.0\n",
      "pathlib                       1.0.1\n",
      "pathspec                      0.10.3\n",
      "patsy                         0.5.3\n",
      "pep8                          1.7.1\n",
      "pexpect                       4.8.0\n",
      "pickleshare                   0.7.5\n",
      "Pillow                        9.4.0\n",
      "pingouin                      0.5.3\n",
      "pip                           23.2.1\n",
      "pkce                          1.0.3\n",
      "pkginfo                       1.9.6\n",
      "platformdirs                  3.10.0\n",
      "plotly                        5.9.0\n",
      "pluggy                        1.0.0\n",
      "ply                           3.11\n",
      "poyo                          0.5.0\n",
      "prometheus-client             0.14.1\n",
      "prompt-toolkit                3.0.36\n",
      "Protego                       0.1.16\n",
      "psutil                        5.9.0\n",
      "ptyprocess                    0.7.0\n",
      "pure-eval                     0.2.2\n",
      "py-cpuinfo                    8.0.0\n",
      "pyarrow                       11.0.0\n",
      "pyasn1                        0.4.8\n",
      "pyasn1-modules                0.2.8\n",
      "pycodestyle                   2.10.0\n",
      "pycosat                       0.6.4\n",
      "pycparser                     2.21\n",
      "pyct                          0.5.0\n",
      "pycurl                        7.45.2\n",
      "pydantic                      1.10.8\n",
      "PyDispatcher                  2.0.5\n",
      "pydocstyle                    6.3.0\n",
      "pyerfa                        2.0.0\n",
      "pyflakes                      3.0.1\n",
      "Pygments                      2.15.1\n",
      "PyJWT                         2.4.0\n",
      "pylint                        2.16.2\n",
      "pylint-venv                   2.3.0\n",
      "pyls-spyder                   0.4.0\n",
      "PyNaCl                        1.5.0\n",
      "pyodbc                        4.0.34\n",
      "pyOpenSSL                     23.2.0\n",
      "pyparsing                     3.0.9\n",
      "PyQt5                         5.15.7\n",
      "PyQt5-sip                     12.11.0\n",
      "PyQtWebEngine                 5.15.4\n",
      "pyrsistent                    0.18.0\n",
      "PySocks                       1.7.1\n",
      "pytest                        7.4.0\n",
      "python-dateutil               2.8.2\n",
      "python-dotenv                 0.21.0\n",
      "python-json-logger            2.0.7\n",
      "python-lsp-black              1.2.1\n",
      "python-lsp-jsonrpc            1.0.0\n",
      "python-lsp-server             1.7.2\n",
      "python-slugify                5.0.2\n",
      "python-snappy                 0.6.1\n",
      "pytoolconfig                  1.2.5\n",
      "pytz                          2023.3.post1\n",
      "pyviz-comms                   2.3.0\n",
      "PyWavelets                    1.4.1\n",
      "pywin32                       305.1\n",
      "pywin32-ctypes                0.2.0\n",
      "pywinpty                      2.0.10\n",
      "PyYAML                        6.0\n",
      "pyzmq                         23.2.0\n",
      "QDarkStyle                    3.0.2\n",
      "qstylizer                     0.2.2\n",
      "QtAwesome                     1.2.2\n",
      "qtconsole                     5.4.2\n",
      "QtPy                          2.2.0\n",
      "queuelib                      1.5.0\n",
      "regex                         2022.7.9\n",
      "requests                      2.31.0\n",
      "requests-file                 1.5.1\n",
      "requests-toolbelt             1.0.0\n",
      "responses                     0.13.3\n",
      "rfc3339-validator             0.1.4\n",
      "rfc3986-validator             0.1.1\n",
      "rope                          1.7.0\n",
      "Rtree                         1.0.1\n",
      "ruamel.yaml                   0.17.21\n",
      "ruamel-yaml-conda             0.17.21\n",
      "s3fs                          2023.4.0\n",
      "safetensors                   0.3.2\n",
      "scikit-image                  0.20.0\n",
      "scikit-learn                  1.3.0\n",
      "scikit-learn-intelex          20230426.121932\n",
      "scipy                         1.11.1\n",
      "Scrapy                        2.8.0\n",
      "seaborn                       0.12.2\n",
      "Send2Trash                    1.8.0\n",
      "service-identity              18.1.0\n",
      "setuptools                    68.0.0\n",
      "sip                           6.6.2\n",
      "six                           1.16.0\n",
      "smart-open                    5.2.1\n",
      "sniffio                       1.2.0\n",
      "snowballstemmer               2.2.0\n",
      "sortedcontainers              2.4.0\n",
      "soupsieve                     2.4\n",
      "Sphinx                        5.0.2\n",
      "sphinxcontrib-applehelp       1.0.2\n",
      "sphinxcontrib-devhelp         1.0.2\n",
      "sphinxcontrib-htmlhelp        2.0.0\n",
      "sphinxcontrib-jsmath          1.0.1\n",
      "sphinxcontrib-qthelp          1.0.3\n",
      "sphinxcontrib-serializinghtml 1.1.5\n",
      "spyder                        5.4.3\n",
      "spyder-kernels                2.4.4\n",
      "SQLAlchemy                    1.4.39\n",
      "stack-data                    0.2.0\n",
      "statsmodels                   0.14.0\n",
      "sympy                         1.11.1\n",
      "tables                        3.8.0\n",
      "tabulate                      0.8.10\n",
      "TBB                           0.2\n",
      "tblib                         1.7.0\n",
      "tenacity                      8.2.2\n",
      "terminado                     0.17.1\n",
      "text-unidecode                1.3\n",
      "textdistance                  4.2.1\n",
      "threadpoolctl                 2.2.0\n",
      "three-merge                   0.1.1\n",
      "tifffile                      2023.4.12\n",
      "tinycss2                      1.2.1\n",
      "tldextract                    3.2.0\n",
      "tokenizers                    0.13.2\n",
      "toml                          0.10.2\n",
      "tomlkit                       0.11.1\n",
      "toolz                         0.12.0\n",
      "tornado                       6.3.2\n",
      "tqdm                          4.65.0\n",
      "traitlets                     5.7.1\n",
      "transformers                  4.32.1\n",
      "Twisted                       22.10.0\n",
      "twisted-iocpsupport           1.0.2\n",
      "typing_extensions             4.7.1\n",
      "tzdata                        2023.3\n",
      "uc-micro-py                   1.0.1\n",
      "ujson                         5.4.0\n",
      "Unidecode                     1.2.0\n",
      "urllib3                       1.26.16\n",
      "w3lib                         1.21.0\n",
      "watchdog                      2.1.6\n",
      "wcwidth                       0.2.5\n",
      "webencodings                  0.5.1\n",
      "websocket-client              0.58.0\n",
      "Werkzeug                      2.2.3\n",
      "whatthepatch                  1.0.2\n",
      "wheel                         0.38.4\n",
      "widgetsnbextension            4.0.5\n",
      "win-inet-pton                 1.1.0\n",
      "wrapt                         1.14.1\n",
      "xarray                        2023.6.0\n",
      "xlwings                       0.29.1\n",
      "xxhash                        2.0.2\n",
      "xyzservices                   2022.9.0\n",
      "y-py                          0.5.9\n",
      "yapf                          0.31.0\n",
      "yarl                          1.8.1\n",
      "ypy-websocket                 0.8.2\n",
      "zict                          2.2.0\n",
      "zipp                          3.11.0\n",
      "zope.interface                5.4.0\n",
      "zstandard                     0.19.0\n"
     ]
    }
   ],
   "source": [
    "!pip list"
   ]
  },
  {
   "cell_type": "markdown",
   "id": "8d007092",
   "metadata": {
    "id": "8d007092"
   },
   "source": [
    "<br>\n",
    "<hr>\n",
    "<br>\n",
    "\n",
    "## 3. Library 활용 예제\n",
    "\n",
    "*import*를 활용해서 특정 라이브러리를 불러오기  \n",
    "이후 해당 라이브러리에 포함된 객체나 기능, 함수 등을 활용 가능"
   ]
  },
  {
   "cell_type": "code",
   "execution_count": null,
   "id": "4c135ae6",
   "metadata": {
    "id": "4c135ae6"
   },
   "outputs": [],
   "source": [
    "import os"
   ]
  },
  {
   "cell_type": "markdown",
   "id": "b7571610",
   "metadata": {
    "id": "b7571610"
   },
   "source": [
    "> 아래의 cell에 *os.* 을 입력하고 **Tab**키를 누릅니다. 자동 완성(Auto-completion) 기능을 활용해서 함수 *getcwd()* 를 찾고 **Enter**키를 눌러서 선택합니다.  \n",
    "소괄호를 열고 **Shift+Tab**을 눌러 함수의 도움말을 확인할 수 있습니다.  "
   ]
  },
  {
   "cell_type": "code",
   "execution_count": null,
   "id": "c71e116c",
   "metadata": {
    "id": "c71e116c"
   },
   "outputs": [],
   "source": [
    "os.getcwd()"
   ]
  },
  {
   "cell_type": "markdown",
   "id": "18429deb",
   "metadata": {
    "id": "18429deb"
   },
   "source": [
    "### [실습]\n",
    "위와 같은 방법으로 **os** 라이브러리의 함수 *listdir()* 과 *mkdir()* 을 선택하고 자유롭게 실행하기"
   ]
  },
  {
   "cell_type": "code",
   "execution_count": 6,
   "id": "ffaced60",
   "metadata": {
    "id": "ffaced60"
   },
   "outputs": [],
   "source": [
    "import os"
   ]
  },
  {
   "cell_type": "code",
   "execution_count": 7,
   "id": "b79f8032",
   "metadata": {},
   "outputs": [
    {
     "ename": "TypeError",
     "evalue": "mkdir() missing required argument 'path' (pos 1)",
     "output_type": "error",
     "traceback": [
      "\u001b[1;31m---------------------------------------------------------------------------\u001b[0m",
      "\u001b[1;31mTypeError\u001b[0m                                 Traceback (most recent call last)",
      "Cell \u001b[1;32mIn[7], line 1\u001b[0m\n\u001b[1;32m----> 1\u001b[0m os\u001b[38;5;241m.\u001b[39mmkdir()\n",
      "\u001b[1;31mTypeError\u001b[0m: mkdir() missing required argument 'path' (pos 1)"
     ]
    }
   ],
   "source": [
    "os.mkdir()"
   ]
  },
  {
   "cell_type": "code",
   "execution_count": 4,
   "id": "af68dc72",
   "metadata": {
    "id": "af68dc72"
   },
   "outputs": [
    {
     "data": {
      "text/plain": [
       "['.ipynb_checkpoints',\n",
       " '0_Jupyter Notebook 및 Library 활용.ipynb',\n",
       " '1_Python 기초.ipynb',\n",
       " '2_데이터 요약과 시각화.ipynb',\n",
       " '3_통계 검정의 이해와 활용.ipynb',\n",
       " '4_알고리즘의 이해.ipynb',\n",
       " 'data',\n",
       " '강의교재_데이터 분석을 위한 확률통계.pdf']"
      ]
     },
     "execution_count": 4,
     "metadata": {},
     "output_type": "execute_result"
    }
   ],
   "source": [
    "os.listdir()"
   ]
  },
  {
   "cell_type": "markdown",
   "id": "24065efd",
   "metadata": {
    "id": "24065efd"
   },
   "source": [
    "> 물론 라이브러리를 불러오지 않아도 활용가능한 여러가지 함수와 명령어들도 있습니다. 그중 **%** 로 시작하는 매직 명령어(magic commands)는 **os** 라이브러리의 함수를 대신하기도 합니다."
   ]
  },
  {
   "cell_type": "code",
   "execution_count": null,
   "id": "3afce78c",
   "metadata": {
    "id": "3afce78c"
   },
   "outputs": [],
   "source": [
    "# 작업 폴더 출력\n",
    "%pwd"
   ]
  },
  {
   "cell_type": "code",
   "execution_count": null,
   "id": "1a5ec342",
   "metadata": {
    "id": "1a5ec342"
   },
   "outputs": [],
   "source": [
    "%ls # 현재 폴더 내용 출력"
   ]
  },
  {
   "cell_type": "code",
   "execution_count": null,
   "id": "8cb19ed0",
   "metadata": {
    "id": "8cb19ed0"
   },
   "outputs": [],
   "source": [
    "# 폴더 생성\n",
    "%mkdir temp"
   ]
  },
  {
   "cell_type": "code",
   "execution_count": null,
   "id": "52a1d3d9",
   "metadata": {
    "id": "52a1d3d9"
   },
   "outputs": [],
   "source": [
    "%ls"
   ]
  },
  {
   "cell_type": "code",
   "execution_count": null,
   "id": "633aaf2b",
   "metadata": {
    "id": "633aaf2b"
   },
   "outputs": [],
   "source": [
    "%lsmagic"
   ]
  },
  {
   "cell_type": "markdown",
   "id": "a2e948cf",
   "metadata": {
    "id": "a2e948cf"
   },
   "source": [
    "<br>\n",
    "이렇게 각 라이브러리마다 역할이 있고, 필요에 따라 *import*로 불러와 활용합니다.  \n",
    "특히 **os** 라이브러리는 작업 폴더(working directory)를 확인하거나 바꾸고, 폴더를 생성하는 등 일반적인 파일작업 등이 가능하기 때문에 개발이나 업무자동화에서 필수적으로 활용됩니다.\n",
    "<br>\n",
    "<br>"
   ]
  },
  {
   "cell_type": "markdown",
   "id": "69c32fd2",
   "metadata": {
    "id": "69c32fd2"
   },
   "source": [
    "<br>\n",
    "\n",
    "### [실습]\n",
    "\n",
    "1. *import*로 **random** 라이브러리 불러오기\n",
    "2. **random** 라이브러리의 *randint()* 함수를 활용해서 1부터 100까지 숫자 중에서 랜덤으로 하나 선택하기\n",
    "3. **datetime** 라이브러리를 불러와서 *datetime.datetime.now()* 로 현재 시간 확인하기\n"
   ]
  },
  {
   "cell_type": "code",
   "execution_count": 8,
   "id": "e8cc2038",
   "metadata": {
    "id": "e8cc2038"
   },
   "outputs": [],
   "source": [
    "import random"
   ]
  },
  {
   "cell_type": "code",
   "execution_count": null,
   "id": "2e97f4f3",
   "metadata": {
    "id": "2e97f4f3"
   },
   "outputs": [],
   "source": [
    "help(random.randint) # randint 함수 도움말 보기"
   ]
  },
  {
   "cell_type": "code",
   "execution_count": 9,
   "id": "7fcbf644",
   "metadata": {
    "id": "7fcbf644"
   },
   "outputs": [
    {
     "name": "stdout",
     "output_type": "stream",
     "text": [
      "Help on method randint in module random:\n",
      "\n",
      "randint(a, b) method of random.Random instance\n",
      "    Return random integer in range [a, b], including both end points.\n",
      "\n"
     ]
    }
   ],
   "source": [
    "help(random.randint)"
   ]
  },
  {
   "cell_type": "code",
   "execution_count": 11,
   "id": "491c6cc9",
   "metadata": {
    "id": "491c6cc9"
   },
   "outputs": [
    {
     "data": {
      "text/plain": [
       "5"
      ]
     },
     "execution_count": 11,
     "metadata": {},
     "output_type": "execute_result"
    }
   ],
   "source": [
    "random.randint(1,5)"
   ]
  },
  {
   "cell_type": "code",
   "execution_count": null,
   "id": "86f90b25",
   "metadata": {
    "id": "86f90b25"
   },
   "outputs": [],
   "source": []
  },
  {
   "cell_type": "markdown",
   "id": "f22f05f8",
   "metadata": {
    "id": "f22f05f8"
   },
   "source": [
    "<br>\n",
    "\n",
    "### 3.1. from과 as를 활용한 라이브러리 불러오기\n",
    "\n",
    "라이브러리는 몇개의 모듈로 구성되고, 각 모듈 안에 함수 등이 포함되어 있음  \n",
    "*import*로 를 활용해서 라이브러리를 불러올 때 *as*를 활용해서 별명을 지정 가능  \n",
    "*from*을 활용해서 라이브러리 내 특정 모듈을 지정해서 불러오는 것도 가능\n"
   ]
  },
  {
   "cell_type": "code",
   "execution_count": null,
   "id": "20f059ec",
   "metadata": {
    "id": "20f059ec"
   },
   "outputs": [],
   "source": [
    "# import를 활용한 라이브러리 호출\n",
    "import pandas\n",
    "# pandas.read_csv()"
   ]
  },
  {
   "cell_type": "code",
   "execution_count": null,
   "id": "3f83fa1e",
   "metadata": {
    "id": "3f83fa1e"
   },
   "outputs": [],
   "source": []
  },
  {
   "cell_type": "code",
   "execution_count": null,
   "id": "d65a846b",
   "metadata": {
    "id": "d65a846b"
   },
   "outputs": [],
   "source": [
    "# as를 활용한 별명 지정\n",
    "import pandas as pd\n",
    "# pd.read_csv()"
   ]
  },
  {
   "cell_type": "code",
   "execution_count": null,
   "id": "01998a4d",
   "metadata": {
    "id": "01998a4d"
   },
   "outputs": [],
   "source": [
    "pd."
   ]
  },
  {
   "cell_type": "code",
   "execution_count": null,
   "id": "70bf9d65",
   "metadata": {
    "id": "70bf9d65"
   },
   "outputs": [],
   "source": [
    "# 라이브러리 내 특정 함수 불러오기\n",
    "from pandas import read_csv\n",
    "read_csv()"
   ]
  },
  {
   "cell_type": "code",
   "execution_count": null,
   "id": "b21657af",
   "metadata": {
    "id": "b21657af"
   },
   "outputs": [],
   "source": [
    "help(datetime)"
   ]
  },
  {
   "cell_type": "code",
   "execution_count": 13,
   "id": "f1cb6904",
   "metadata": {
    "id": "f1cb6904"
   },
   "outputs": [],
   "source": [
    "from datetime import datetime"
   ]
  },
  {
   "cell_type": "code",
   "execution_count": 14,
   "id": "2ed24a58",
   "metadata": {
    "id": "2ed24a58"
   },
   "outputs": [
    {
     "data": {
      "text/plain": [
       "datetime.datetime(2023, 12, 12, 11, 33, 13, 121827)"
      ]
     },
     "execution_count": 14,
     "metadata": {},
     "output_type": "execute_result"
    }
   ],
   "source": [
    "datetime.now()"
   ]
  },
  {
   "cell_type": "code",
   "execution_count": null,
   "id": "8a86d794",
   "metadata": {
    "id": "8a86d794"
   },
   "outputs": [],
   "source": [
    "# 라이브러리 내 모든 함수 불러오기\n",
    "from pandas import *\n",
    "# read_csv()\n",
    "# read_excel()"
   ]
  },
  {
   "cell_type": "code",
   "execution_count": null,
   "id": "deead9fb",
   "metadata": {
    "id": "deead9fb"
   },
   "outputs": [],
   "source": []
  },
  {
   "cell_type": "markdown",
   "id": "200a702d",
   "metadata": {
    "id": "200a702d"
   },
   "source": [
    "#### End of script"
   ]
  }
 ],
 "metadata": {
  "colab": {
   "provenance": []
  },
  "kernelspec": {
   "display_name": "Python 3 (ipykernel)",
   "language": "python",
   "name": "python3"
  },
  "language_info": {
   "codemirror_mode": {
    "name": "ipython",
    "version": 3
   },
   "file_extension": ".py",
   "mimetype": "text/x-python",
   "name": "python",
   "nbconvert_exporter": "python",
   "pygments_lexer": "ipython3",
   "version": "3.11.5"
  }
 },
 "nbformat": 4,
 "nbformat_minor": 5
}
